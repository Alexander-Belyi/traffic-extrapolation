{
 "cells": [
  {
   "cell_type": "code",
   "execution_count": 28,
   "metadata": {},
   "outputs": [
    {
     "name": "stdout",
     "output_type": "stream",
     "text": [
      "The autoreload extension is already loaded. To reload it, use:\n",
      "  %reload_ext autoreload\n"
     ]
    }
   ],
   "source": [
    "import sys\n",
    "sys.path.append('../')\n",
    "\n",
    "import copy\n",
    "import glob\n",
    "\n",
    "from typing import Tuple, Union, List\n",
    "import pandas as pd\n",
    "import numpy as np\n",
    "import networkx as nx\n",
    "from tqdm.notebook import tqdm as tqdm\n",
    "from catboost import CatBoostRegressor, Pool, metrics, cv\n",
    "import catboost\n",
    "import scipy\n",
    "\n",
    "import torch\n",
    "import torch.nn as nn\n",
    "\n",
    "from torch_geometric.utils.convert import from_networkx\n",
    "\n",
    "from src.utils import *\n",
    "from dataset import *\n",
    "from src.scalers import StandardScaler as Scaler\n",
    "\n",
    "import matplotlib.pyplot as plt\n",
    "import seaborn as sns\n",
    "sns.set_style('darkgrid')\n",
    "\n",
    "from IPython.display import clear_output\n",
    "\n",
    "%matplotlib inline\n",
    "%load_ext autoreload\n",
    "%autoreload 2"
   ]
  },
  {
   "cell_type": "code",
   "execution_count": 29,
   "metadata": {},
   "outputs": [],
   "source": [
    "G = nx.readwrite.read_gpickle('data/network.gpickle')"
   ]
  },
  {
   "cell_type": "code",
   "execution_count": 30,
   "metadata": {},
   "outputs": [
    {
     "name": "stdout",
     "output_type": "stream",
     "text": [
      "['population', 'jobs', 'labor_force_rate', 'housing_sales_num_Total:', 'mean_weekend_target', 'mean_workday_target']\n"
     ]
    }
   ],
   "source": [
    "node_attrs = list(next(iter(G.nodes(data=True)))[-1].keys())\n",
    "# node_attrs = node_attrs[3:]\n",
    "node_attrs = node_attrs[3:7] + node_attrs[-2:]\n",
    "pyg_graph = from_networkx(G)\n",
    "pyg_graph\n",
    "print(node_attrs)"
   ]
  },
  {
   "cell_type": "code",
   "execution_count": 31,
   "metadata": {},
   "outputs": [],
   "source": [
    "mean_target = pyg_graph.mean_target.numpy()\n",
    "mean_workday_target = pyg_graph.mean_workday_target.numpy()\n",
    "mean_weekend_target = pyg_graph.mean_weekend_target.numpy()\n",
    "population = pyg_graph.population.numpy()\n",
    "jobs = pyg_graph.jobs.numpy()"
   ]
  },
  {
   "cell_type": "code",
   "execution_count": 32,
   "metadata": {},
   "outputs": [
    {
     "data": {
      "text/html": [
       "<div>\n",
       "<style scoped>\n",
       "    .dataframe tbody tr th:only-of-type {\n",
       "        vertical-align: middle;\n",
       "    }\n",
       "\n",
       "    .dataframe tbody tr th {\n",
       "        vertical-align: top;\n",
       "    }\n",
       "\n",
       "    .dataframe thead th {\n",
       "        text-align: right;\n",
       "    }\n",
       "</style>\n",
       "<table border=\"1\" class=\"dataframe\">\n",
       "  <thead>\n",
       "    <tr style=\"text-align: right;\">\n",
       "      <th></th>\n",
       "      <th>mean_target</th>\n",
       "      <th>mean_workday_target</th>\n",
       "      <th>mean_weekend_target</th>\n",
       "      <th>population</th>\n",
       "      <th>jobs</th>\n",
       "    </tr>\n",
       "  </thead>\n",
       "  <tbody>\n",
       "    <tr>\n",
       "      <th>0</th>\n",
       "      <td>83.161156</td>\n",
       "      <td>93.171371</td>\n",
       "      <td>58.006451</td>\n",
       "      <td>63146.0</td>\n",
       "      <td>5499.0</td>\n",
       "    </tr>\n",
       "    <tr>\n",
       "      <th>1</th>\n",
       "      <td>132.695175</td>\n",
       "      <td>147.817245</td>\n",
       "      <td>94.853462</td>\n",
       "      <td>24164.0</td>\n",
       "      <td>1100.0</td>\n",
       "    </tr>\n",
       "    <tr>\n",
       "      <th>2</th>\n",
       "      <td>58.162685</td>\n",
       "      <td>69.419662</td>\n",
       "      <td>29.911291</td>\n",
       "      <td>9781.0</td>\n",
       "      <td>1656.0</td>\n",
       "    </tr>\n",
       "    <tr>\n",
       "      <th>3</th>\n",
       "      <td>74.474266</td>\n",
       "      <td>87.259308</td>\n",
       "      <td>42.242718</td>\n",
       "      <td>21003.0</td>\n",
       "      <td>3590.0</td>\n",
       "    </tr>\n",
       "    <tr>\n",
       "      <th>4</th>\n",
       "      <td>51.094402</td>\n",
       "      <td>59.929588</td>\n",
       "      <td>28.783033</td>\n",
       "      <td>33789.0</td>\n",
       "      <td>1743.0</td>\n",
       "    </tr>\n",
       "    <tr>\n",
       "      <th>...</th>\n",
       "      <td>...</td>\n",
       "      <td>...</td>\n",
       "      <td>...</td>\n",
       "      <td>...</td>\n",
       "      <td>...</td>\n",
       "    </tr>\n",
       "    <tr>\n",
       "      <th>228</th>\n",
       "      <td>99.756096</td>\n",
       "      <td>119.729851</td>\n",
       "      <td>49.950161</td>\n",
       "      <td>17430.0</td>\n",
       "      <td>7395.0</td>\n",
       "    </tr>\n",
       "    <tr>\n",
       "      <th>229</th>\n",
       "      <td>226.677338</td>\n",
       "      <td>259.124664</td>\n",
       "      <td>145.294785</td>\n",
       "      <td>32419.0</td>\n",
       "      <td>6740.0</td>\n",
       "    </tr>\n",
       "    <tr>\n",
       "      <th>230</th>\n",
       "      <td>123.176392</td>\n",
       "      <td>141.761078</td>\n",
       "      <td>76.504837</td>\n",
       "      <td>9571.0</td>\n",
       "      <td>67.0</td>\n",
       "    </tr>\n",
       "    <tr>\n",
       "      <th>231</th>\n",
       "      <td>195.176285</td>\n",
       "      <td>215.234619</td>\n",
       "      <td>145.030441</td>\n",
       "      <td>10899.0</td>\n",
       "      <td>13956.0</td>\n",
       "    </tr>\n",
       "    <tr>\n",
       "      <th>232</th>\n",
       "      <td>24.967934</td>\n",
       "      <td>30.424358</td>\n",
       "      <td>11.304976</td>\n",
       "      <td>12532.0</td>\n",
       "      <td>6635.0</td>\n",
       "    </tr>\n",
       "  </tbody>\n",
       "</table>\n",
       "<p>233 rows × 5 columns</p>\n",
       "</div>"
      ],
      "text/plain": [
       "     mean_target  mean_workday_target  mean_weekend_target  population  \\\n",
       "0      83.161156            93.171371            58.006451     63146.0   \n",
       "1     132.695175           147.817245            94.853462     24164.0   \n",
       "2      58.162685            69.419662            29.911291      9781.0   \n",
       "3      74.474266            87.259308            42.242718     21003.0   \n",
       "4      51.094402            59.929588            28.783033     33789.0   \n",
       "..           ...                  ...                  ...         ...   \n",
       "228    99.756096           119.729851            49.950161     17430.0   \n",
       "229   226.677338           259.124664           145.294785     32419.0   \n",
       "230   123.176392           141.761078            76.504837      9571.0   \n",
       "231   195.176285           215.234619           145.030441     10899.0   \n",
       "232    24.967934            30.424358            11.304976     12532.0   \n",
       "\n",
       "        jobs  \n",
       "0     5499.0  \n",
       "1     1100.0  \n",
       "2     1656.0  \n",
       "3     3590.0  \n",
       "4     1743.0  \n",
       "..       ...  \n",
       "228   7395.0  \n",
       "229   6740.0  \n",
       "230     67.0  \n",
       "231  13956.0  \n",
       "232   6635.0  \n",
       "\n",
       "[233 rows x 5 columns]"
      ]
     },
     "execution_count": 32,
     "metadata": {},
     "output_type": "execute_result"
    }
   ],
   "source": [
    "df = pd.DataFrame([mean_target, mean_workday_target, mean_weekend_target, population, jobs]).T\n",
    "df.columns = ['mean_target', 'mean_workday_target', 'mean_weekend_target', 'population', 'jobs']\n",
    "df"
   ]
  },
  {
   "cell_type": "code",
   "execution_count": 33,
   "metadata": {},
   "outputs": [
    {
     "data": {
      "text/plain": [
       "<AxesSubplot:>"
      ]
     },
     "execution_count": 33,
     "metadata": {},
     "output_type": "execute_result"
    },
    {
     "data": {
      "image/png": "[encoded data removed]",
      "text/plain": [
       "<Figure size 432x288 with 2 Axes>"
      ]
     },
     "metadata": {
      "needs_background": "light"
     },
     "output_type": "display_data"
    }
   ],
   "source": [
    "sns.heatmap(df.corr(), annot=True)"
   ]
  },
  {
   "cell_type": "code",
   "execution_count": null,
   "metadata": {},
   "outputs": [],
   "source": []
  }
 ],
 "metadata": {
  "kernelspec": {
   "display_name": "Python 3.7.13 ('traffic')",
   "language": "python",
   "name": "python3"
  },
  "language_info": {
   "codemirror_mode": {
    "name": "ipython",
    "version": 3
   },
   "file_extension": ".py",
   "mimetype": "text/x-python",
   "name": "python",
   "nbconvert_exporter": "python",
   "pygments_lexer": "ipython3",
   "version": "3.7.13"
  },
  "orig_nbformat": 4,
  "vscode": {
   "interpreter": {
    "hash": "30452e0fb0b877c71442cfddf3db9e1b032e1699292a3dd400d9a1b61508e43d"
   }
  }
 },
 "nbformat": 4,
 "nbformat_minor": 2
}
