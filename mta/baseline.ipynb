{
 "cells": [
  {
   "cell_type": "code",
   "execution_count": 92,
   "metadata": {
    "trusted": false
   },
   "outputs": [
    {
     "name": "stdout",
     "output_type": "stream",
     "text": [
      "The autoreload extension is already loaded. To reload it, use:\n",
      "  %reload_ext autoreload\n"
     ]
    }
   ],
   "source": [
    "import sys\n",
    "sys.path.append('../')\n",
    "\n",
    "import glob\n",
    "\n",
    "from typing import Tuple, Union, List\n",
    "import pandas as pd\n",
    "import numpy as np\n",
    "import networkx as nx\n",
    "from tqdm.notebook import tqdm as tqdm\n",
    "\n",
    "import torch\n",
    "import torch.nn as nn\n",
    "\n",
    "import torch_geometric as pyg\n",
    "from torch_geometric.utils.convert import from_networkx\n",
    "\n",
    "from src.utils import *\n",
    "from dataset import *\n",
    "from src.train import train, test\n",
    "from src.dataloaders import make_data_loaders_from_dataset\n",
    "from src.model import KnnEstimator\n",
    "\n",
    "import matplotlib.pyplot as plt\n",
    "import seaborn as sns\n",
    "sns.set_style('darkgrid')\n",
    "\n",
    "from IPython.display import clear_output\n",
    "\n",
    "%matplotlib inline\n",
    "%load_ext autoreload\n",
    "%autoreload 2\n",
    "\n",
    "device = torch.device('cuda:0') if torch.cuda.is_available() else torch.device('cpu')"
   ]
  },
  {
   "cell_type": "code",
   "execution_count": 93,
   "metadata": {},
   "outputs": [],
   "source": [
    "G = nx.readwrite.read_gpickle('data/network.gpickle')"
   ]
  },
  {
   "cell_type": "code",
   "execution_count": 94,
   "metadata": {},
   "outputs": [
    {
     "data": {
      "text/plain": [
       "Data(edge_index=[2, 990], id=[374], lat=[374], lon=[374], dist=[990], num_nodes=374)"
      ]
     },
     "execution_count": 94,
     "metadata": {},
     "output_type": "execute_result"
    }
   ],
   "source": [
    "# Pytorch geometric Data object. For now used only for storing node embedding. \n",
    "# Supposed to be used in the future for obtaining node embeddings.\n",
    "pyg_graph = from_networkx(G)\n",
    "pyg_graph.to(device)"
   ]
  },
  {
   "cell_type": "markdown",
   "metadata": {},
   "source": [
    "$$T(a) = \\sum_{b \\neq a,\\space b\\subset Train } T(b)w(a, b), \\textrm{where summation is calculated for the {\\bf k} nearest neighbors.}$$\n",
    "\n",
    "$$ w(a,b)= \\frac{u(a,b)}{\\sum_{b \\neq a} u(a, b)};$$\n",
    "\n",
    "$u(a, b) = exp(-\\lambda_1 d(a, b));$\n",
    "\n",
    "So for this model $\\lambda_1$ is optimized."
   ]
  },
  {
   "cell_type": "code",
   "execution_count": 144,
   "metadata": {
    "pycharm": {
     "is_executing": true
    }
   },
   "outputs": [],
   "source": [
    "def weight_fn(dists, lamb):\n",
    "    return torch.exp(-lamb * dists)\n",
    "\n",
    "\n",
    "class Estimator(KnnEstimator):\n",
    "    def __init__(self, pyg_graph: pyg.data.Data, obs_nodes, obs_targets) -> None:\n",
    "        super().__init__(pyg_graph, obs_nodes, obs_targets)\n",
    "\n",
    "        # self.k = torch.tensor([1.0]).to(device)\n",
    "        self.lambda_1 = nn.Parameter(torch.rand(1))\n",
    "        self.lambda_2 = nn.Parameter(torch.rand(1))\n",
    "\n",
    "    def forward(self, X):\n",
    "        # getting nearest observed nodes\n",
    "        X_indices = torch.as_tensor(self.node_to_idx(X))\n",
    "        dists, indices = self.get_kneighbors(X_indices)\n",
    "        \n",
    "        dists = dists.to(device)\n",
    "        indices = indices.to(device)\n",
    "\n",
    "\n",
    "        dist_weights = weight_fn(dists, self.lambda_1)\n",
    "\n",
    "        # sum normalizization\n",
    "        dist_weights = nn.functional.normalize(dist_weights, p=1)\n",
    "\n",
    "        att_weights = dist_weights\n",
    "        targets = self.obs_targets[indices].to(device)\n",
    "\n",
    "        # interpolation \n",
    "        result = torch.sum(att_weights.mul(targets), dim=-1)\n",
    "\n",
    "        return result"
   ]
  },
  {
   "cell_type": "code",
   "execution_count": 145,
   "metadata": {},
   "outputs": [],
   "source": [
    "results = dict()"
   ]
  },
  {
   "cell_type": "code",
   "execution_count": 153,
   "metadata": {},
   "outputs": [
    {
     "data": {
      "application/vnd.jupyter.widget-view+json": {
       "model_id": "afa03b56c1194286acb2f61d83e2427d",
       "version_major": 2,
       "version_minor": 0
      },
      "text/plain": [
       "  0%|          | 0/20 [00:00<?, ?it/s]"
      ]
     },
     "metadata": {},
     "output_type": "display_data"
    },
    {
     "name": "stdout",
     "output_type": "stream",
     "text": [
      "2021-01-15, Test loss: 8825.0638, test score: -2.1456\n",
      "2021-01-08, Test loss: 8637.1915, test score: -1.8071\n",
      "2021-01-17, Test loss: 4927.3298, test score: -1.4336\n",
      "2020-12-28, Test loss: 9726.3830, test score: -1.7430\n",
      "2020-12-30, Test loss: 9664.2553, test score: -2.0520\n",
      "2021-01-23, Test loss: 5524.1809, test score: -1.6672\n",
      "2020-12-27, Test loss: 3448.2553, test score: -2.0251\n",
      "2021-01-05, Test loss: 10563.8298, test score: -2.6386\n",
      "2021-01-21, Test loss: 10371.4894, test score: -2.1178\n",
      "2021-01-22, Test loss: 9481.7021, test score: -2.3296\n",
      "2021-01-18, Test loss: 7512.7660, test score: -2.1822\n",
      "2020-12-31, Test loss: 6922.1277, test score: -1.6886\n",
      "2021-01-06, Test loss: 8902.5532, test score: -2.3122\n",
      "2021-01-11, Test loss: 8913.6170, test score: -1.5141\n",
      "2021-01-01, Test loss: 2700.8617, test score: -1.3528\n",
      "2020-12-26, Test loss: 7697.7553, test score: -0.1433\n",
      "2021-01-20, Test loss: 8659.5745, test score: -2.1994\n",
      "2021-01-04, Test loss: 10564.5213, test score: -1.7385\n",
      "2020-12-29, Test loss: 8360.0000, test score: -1.8842\n",
      "2021-01-07, Test loss: 8854.4787, test score: -1.8788\n"
     ]
    }
   ],
   "source": [
    "loss_fn = nn.HuberLoss(delta=20).to(device)\n",
    "model = None\n",
    "\n",
    "for path in tqdm(glob.glob('datasets/*')[:20]):\n",
    "    day = path.split('/')[1].split('.')[0]\n",
    "\n",
    "    try:\n",
    "        ds = torch.load(path)\n",
    "    except:\n",
    "        continue\n",
    "\n",
    "    train_loader, val_loader, test_loader = make_data_loaders_from_dataset(ds, batch_size=16)\n",
    "    train_batches = [batch for batch in train_loader]\n",
    "    train_nodes = [n for batch in train_batches for n in batch[0]]\n",
    "    train_targets = torch.cat([batch[1] for batch in train_batches])\n",
    "\n",
    "\n",
    "    if model is None:\n",
    "        model = Estimator(pyg_graph, train_nodes, train_targets).to(device)\n",
    "    else:\n",
    "        model.set_observations(train_nodes, train_targets)\n",
    "        \n",
    "    optimizer = torch.optim.Adam(model.parameters(), lr=1e-3)\n",
    "    # scheduler = torch.optim.lr_scheduler.StepLR(optimizer, 20, gamma=0.9)\n",
    "\n",
    "    best_model = train(model, train_loader, val_loader, loss_fn, optimizer, device, num_epochs=10, plotting=False)\n",
    "    test_loss, test_score = test(best_model, test_loader, loss_fn, device)\n",
    "\n",
    "    # for name, param in best_model.named_parameters():\n",
    "        # print(name, param)\n",
    "\n",
    "    results[f'{day}'] = test_score \n",
    "    print(f'{day}, Test loss: {test_loss:.4f}, test score: {test_score:.4f}')"
   ]
  },
  {
   "cell_type": "code",
   "execution_count": 154,
   "metadata": {},
   "outputs": [],
   "source": [
    "import json\n",
    "\n",
    "with open('results/baseline.json', mode='w') as f:\n",
    "    json.dump(results, f, indent=4)"
   ]
  },
  {
   "cell_type": "code",
   "execution_count": null,
   "metadata": {},
   "outputs": [],
   "source": []
  }
 ],
 "metadata": {
  "interpreter": {
   "hash": "30452e0fb0b877c71442cfddf3db9e1b032e1699292a3dd400d9a1b61508e43d"
  },
  "kernelspec": {
   "display_name": "Python 3.9.7 64-bit ('traffic': conda)",
   "language": "python",
   "name": "python3"
  },
  "language_info": {
   "codemirror_mode": {
    "name": "ipython",
    "version": 3
   },
   "file_extension": ".py",
   "mimetype": "text/x-python",
   "name": "python",
   "nbconvert_exporter": "python",
   "pygments_lexer": "ipython3",
   "version": "3.9.7"
  }
 },
 "nbformat": 4,
 "nbformat_minor": 2
}
