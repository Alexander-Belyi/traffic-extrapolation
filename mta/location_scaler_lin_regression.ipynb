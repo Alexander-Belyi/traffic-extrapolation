{
 "cells": [
  {
   "cell_type": "code",
   "execution_count": 14,
   "metadata": {},
   "outputs": [
    {
     "name": "stdout",
     "output_type": "stream",
     "text": [
      "The autoreload extension is already loaded. To reload it, use:\n",
      "  %reload_ext autoreload\n"
     ]
    }
   ],
   "source": [
    "import sys\n",
    "sys.path.append('../')\n",
    "\n",
    "import copy\n",
    "import glob\n",
    "\n",
    "from typing import Tuple, Union, List\n",
    "import pandas as pd\n",
    "import numpy as np\n",
    "import networkx as nx\n",
    "from tqdm.notebook import tqdm as tqdm\n",
    "\n",
    "import torch\n",
    "import torch.nn as nn\n",
    "\n",
    "import torch_geometric as pyg\n",
    "from torch_geometric.utils.convert import from_networkx\n",
    "\n",
    "from sklearn.linear_model import LinearRegression\n",
    "from sklearn.preprocessing import StandardScaler, MinMaxScaler\n",
    "from sklearn.model_selection import GridSearchCV\n",
    "from sklearn.pipeline import make_pipeline\n",
    "\n",
    "import matplotlib.pyplot as plt\n",
    "import seaborn as sns\n",
    "sns.set_style('darkgrid')\n",
    "\n",
    "from IPython.display import clear_output\n",
    "\n",
    "%matplotlib inline\n",
    "%load_ext autoreload\n",
    "%autoreload 2\n",
    "\n",
    "device = torch.device('cuda:0') if torch.cuda.is_available() else torch.device('cpu')"
   ]
  },
  {
   "cell_type": "code",
   "execution_count": 2,
   "metadata": {},
   "outputs": [],
   "source": [
    "G = nx.readwrite.read_gpickle('data/network.gpickle')"
   ]
  },
  {
   "cell_type": "code",
   "execution_count": 7,
   "metadata": {},
   "outputs": [
    {
     "name": "stdout",
     "output_type": "stream",
     "text": [
      "['labor_force_rate', 'housing_sales_num_Total:', 'housing_sales_num_Total:!!Less than $10,000', 'housing_sales_num_Total:!!$10,000 to $14,999', 'housing_sales_num_Total:!!$15,000 to $19,999', 'housing_sales_num_Total:!!$20,000 to $24,999', 'housing_sales_num_Total:!!$25,000 to $29,999', 'housing_sales_num_Total:!!$30,000 to $34,999', 'housing_sales_num_Total:!!$35,000 to $39,999', 'housing_sales_num_Total:!!$40,000 to $49,999', 'housing_sales_num_Total:!!$50,000 to $59,999', 'housing_sales_num_Total:!!$60,000 to $69,999', 'housing_sales_num_Total:!!$70,000 to $79,999', 'housing_sales_num_Total:!!$80,000 to $89,999', 'housing_sales_num_Total:!!$90,000 to $99,999', 'housing_sales_num_Total:!!$100,000 to $124,999', 'housing_sales_num_Total:!!$125,000 to $149,999', 'housing_sales_num_Total:!!$150,000 to $174,999', 'housing_sales_num_Total:!!$175,000 to $199,999', 'housing_sales_num_Total:!!$200,000 to $249,999', 'housing_sales_num_Total:!!$250,000 to $299,999', 'housing_sales_num_Total:!!$300,000 to $399,999', 'housing_sales_num_Total:!!$400,000 to $499,999', 'housing_sales_num_Total:!!$500,000 to $749,999', 'housing_sales_num_Total:!!$750,000 to $999,999', 'housing_sales_num_Total:!!$1,000,000 to $1,499,999', 'housing_sales_num_Total:!!$1,500,000 to $1,999,999', 'housing_sales_num_Total:!!$2,000,000 or more', 'median_income', ' population', ' population!!AGE!!Under 5 years', ' population!!AGE!!5 to 9 years', ' population!!AGE!!10 to 14 years', ' population!!AGE!!15 to 19 years', ' population!!AGE!!20 to 24 years', ' population!!AGE!!25 to 29 years', ' population!!AGE!!30 to 34 years', ' population!!AGE!!35 to 39 years', ' population!!AGE!!40 to 44 years', ' population!!AGE!!45 to 49 years', ' population!!AGE!!50 to 54 years', ' population!!AGE!!55 to 59 years', ' population!!AGE!!60 to 64 years', ' population!!AGE!!65 to 69 years', ' population!!AGE!!70 to 74 years', ' population!!AGE!!75 to 79 years', ' population!!AGE!!80 to 84 years', ' population!!AGE!!85 years and over']\n"
     ]
    }
   ],
   "source": [
    "node_attrs = list(next(iter(G.nodes(data=True)))[-1].keys())\n",
    "node_attrs = node_attrs[3:]\n",
    "pyg_graph = from_networkx(G, group_node_attrs=node_attrs)\n",
    "pyg_graph.to(device)\n",
    "print(node_attrs)"
   ]
  },
  {
   "cell_type": "code",
   "execution_count": 43,
   "metadata": {},
   "outputs": [],
   "source": [
    "ds = torch.load('datasets/2020-12-28.dat')\n",
    "\n",
    "node_to_idx = np.vectorize(dict(zip(pyg_graph.id, range(len(pyg_graph.id)))).get)\n",
    "X = pyg_graph.x[node_to_idx(ds.X)].cpu().numpy()\n",
    "y = ds.targets\n",
    "\n",
    "from sklearn.model_selection import train_test_split\n",
    "\n",
    "X_train, X_validation, y_train, y_validation = train_test_split(X, y, train_size=0.7, random_state=42)"
   ]
  },
  {
   "cell_type": "code",
   "execution_count": 45,
   "metadata": {},
   "outputs": [],
   "source": [
    "model = LinearRegression()"
   ]
  },
  {
   "cell_type": "code",
   "execution_count": 46,
   "metadata": {},
   "outputs": [
    {
     "data": {
      "text/plain": [
       "-0.19586784836589333"
      ]
     },
     "execution_count": 46,
     "metadata": {},
     "output_type": "execute_result"
    }
   ],
   "source": [
    "model.fit(X_train, y_train)\n",
    "model.score(X_validation, y_validation)"
   ]
  },
  {
   "cell_type": "code",
   "execution_count": null,
   "metadata": {},
   "outputs": [],
   "source": []
  }
 ],
 "metadata": {
  "interpreter": {
   "hash": "30452e0fb0b877c71442cfddf3db9e1b032e1699292a3dd400d9a1b61508e43d"
  },
  "kernelspec": {
   "display_name": "Python 3.9.7 ('traffic')",
   "language": "python",
   "name": "python3"
  },
  "language_info": {
   "codemirror_mode": {
    "name": "ipython",
    "version": 3
   },
   "file_extension": ".py",
   "mimetype": "text/x-python",
   "name": "python",
   "nbconvert_exporter": "python",
   "pygments_lexer": "ipython3",
   "version": "3.7.13"
  },
  "orig_nbformat": 4
 },
 "nbformat": 4,
 "nbformat_minor": 2
}
