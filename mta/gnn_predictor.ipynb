{
 "cells": [
  {
   "cell_type": "code",
   "execution_count": 142,
   "metadata": {},
   "outputs": [
    {
     "name": "stdout",
     "output_type": "stream",
     "text": [
      "The autoreload extension is already loaded. To reload it, use:\n",
      "  %reload_ext autoreload\n"
     ]
    }
   ],
   "source": [
    "import sys\n",
    "sys.path.append('../')\n",
    "\n",
    "import glob\n",
    "\n",
    "from typing import Tuple, Union, List\n",
    "import pandas as pd\n",
    "import numpy as np\n",
    "import networkx as nx\n",
    "from tqdm.notebook import tqdm as tqdm\n",
    "\n",
    "from hyperopt import fmin, tpe, hp, STATUS_OK, Trials\n",
    "from hyperopt.pyll import scope\n",
    "from hyperopt.pyll.stochastic import sample as ho_sample\n",
    "\n",
    "import torch\n",
    "import torch.nn as nn\n",
    "\n",
    "import torch_geometric as pyg\n",
    "from torch_geometric.utils.convert import from_networkx\n",
    "from torch_geometric.data import InMemoryDataset\n",
    "import torch_scatter\n",
    "\n",
    "from src.utils import *\n",
    "from dataset import *\n",
    "from src.train import train, test\n",
    "from src.dataloaders import make_dataloaders_from_dataset\n",
    "from src.model import BaseEstimator, KnnEstimator\n",
    "\n",
    "import matplotlib.pyplot as plt\n",
    "import seaborn as sns\n",
    "sns.set_style('darkgrid')\n",
    "\n",
    "from IPython.display import clear_output\n",
    "\n",
    "%matplotlib inline\n",
    "%load_ext autoreload\n",
    "%autoreload 2\n",
    "\n",
    "np.random.seed(17)\n",
    "\n",
    "device = torch.device('cuda:0') if torch.cuda.is_available() else torch.device('cpu')\n",
    "# device = torch.device('cpu')"
   ]
  },
  {
   "cell_type": "code",
   "execution_count": 143,
   "metadata": {},
   "outputs": [],
   "source": [
    "G = nx.readwrite.read_gpickle('data/network32.gpickle')"
   ]
  },
  {
   "cell_type": "code",
   "execution_count": 144,
   "metadata": {},
   "outputs": [
    {
     "data": {
      "text/plain": [
       "Data(edge_index=[2, 442], id=[233], lat=[233], lon=[233], population=[233], jobs=[233], labor_force_rate=[233], housing_sales_num_Total:=[233], housing_sales_num_Total:!!Less than $10,000=[233], housing_sales_num_Total:!!$10,000 to $14,999=[233], housing_sales_num_Total:!!$15,000 to $19,999=[233], housing_sales_num_Total:!!$20,000 to $24,999=[233], housing_sales_num_Total:!!$25,000 to $29,999=[233], housing_sales_num_Total:!!$30,000 to $34,999=[233], housing_sales_num_Total:!!$35,000 to $39,999=[233], housing_sales_num_Total:!!$40,000 to $49,999=[233], housing_sales_num_Total:!!$50,000 to $59,999=[233], housing_sales_num_Total:!!$60,000 to $69,999=[233], housing_sales_num_Total:!!$70,000 to $79,999=[233], housing_sales_num_Total:!!$80,000 to $89,999=[233], housing_sales_num_Total:!!$90,000 to $99,999=[233], housing_sales_num_Total:!!$100,000 to $124,999=[233], housing_sales_num_Total:!!$125,000 to $149,999=[233], housing_sales_num_Total:!!$150,000 to $174,999=[233], housing_sales_num_Total:!!$175,000 to $199,999=[233], housing_sales_num_Total:!!$200,000 to $249,999=[233], housing_sales_num_Total:!!$250,000 to $299,999=[233], housing_sales_num_Total:!!$300,000 to $399,999=[233], housing_sales_num_Total:!!$400,000 to $499,999=[233], housing_sales_num_Total:!!$500,000 to $749,999=[233], housing_sales_num_Total:!!$750,000 to $999,999=[233], housing_sales_num_Total:!!$1,000,000 to $1,499,999=[233], housing_sales_num_Total:!!$1,500,000 to $1,999,999=[233], housing_sales_num_Total:!!$2,000,000 or more=[233], median_income=[233], mean_target=[233], mean_weekend_target=[233], mean_workday_target=[233], dist=[442], x=[233, 32])"
      ]
     },
     "execution_count": 144,
     "metadata": {},
     "output_type": "execute_result"
    }
   ],
   "source": [
    "# Pytorch geometric Data object. For now used only for storing node embedding. \n",
    "# Supposed to be used in the future for obtaining node embeddings.\n",
    "pyg_data = from_networkx(G, group_node_attrs=['embedding'])\n",
    "pyg_data.to(device)"
   ]
  },
  {
   "cell_type": "code",
   "execution_count": 145,
   "metadata": {},
   "outputs": [
    {
     "data": {
      "text/plain": [
       "torch.Size([2, 2330])"
      ]
     },
     "execution_count": 145,
     "metadata": {},
     "output_type": "execute_result"
    }
   ],
   "source": [
    "knn_edge_index = pyg.nn.knn_graph(pyg_data.x, k=10, cosine=True)\n",
    "knn_edge_index.shape"
   ]
  },
  {
   "cell_type": "code",
   "execution_count": 146,
   "metadata": {},
   "outputs": [
    {
     "data": {
      "text/plain": [
       "tensor([[  9,   9,   9,   9,   9,   9,   9,   9,   9,   9,   9],\n",
       "        [ 22,  35,  41,  44,  57, 116, 120, 123, 128, 145, 208]],\n",
       "       device='cuda:0')"
      ]
     },
     "execution_count": 146,
     "metadata": {},
     "output_type": "execute_result"
    }
   ],
   "source": [
    "knn_edge_index[:, knn_edge_index[0] == 9]"
   ]
  },
  {
   "cell_type": "code",
   "execution_count": 147,
   "metadata": {},
   "outputs": [
    {
     "data": {
      "text/plain": [
       "<catboost.core.CatBoostRegressor at 0x7fab203a9fd0>"
      ]
     },
     "execution_count": 147,
     "metadata": {},
     "output_type": "execute_result"
    }
   ],
   "source": [
    "from catboost import CatBoostRegressor\n",
    "scaler = CatBoostRegressor()\n",
    "scaler.load_model('models_data/catboost_scaler.dat')"
   ]
  },
  {
   "cell_type": "code",
   "execution_count": 194,
   "metadata": {},
   "outputs": [],
   "source": [
    "class BasicLocationScaler(nn.Module):\n",
    "    def __call__(self, X):\n",
    "        return X\n",
    "\n",
    "\n",
    "class ExtrapolationLayer(pyg.nn.MessagePassing):\n",
    "    def __init__(self, in_channels, out_channels=1, hidden_channels=16, *args, **kwargs):\n",
    "        super().__init__(*args, **kwargs)\n",
    "        self.in_channels = in_channels\n",
    "        self.out_channels = out_channels\n",
    "        self.hidden_channels = hidden_channels\n",
    "        self.lin = nn.Linear(self.in_channels, self.hidden_channels)\n",
    "        self.loc_scaler = BasicLocationScaler()\n",
    "        # self.scaler = CatBoostRegressor()\n",
    "        # self.scaler.load_model('models_data/catboost_scaler.dat')\n",
    "    \n",
    "\n",
    "    def forward(self, obs_emb, obs_scaling_features, obs_targets, q_emb, q_scaling_features, edge_index):\n",
    "        # print(obs_emb.shape)\n",
    "        # print(q_emb.shape)\n",
    "        # print(obs_scaling_features.shape)\n",
    "        # print(q_scaling_features.shape)\n",
    "        # print(obs_targets.shape)\n",
    "\n",
    "        scale_obs = self.loc_scaler(obs_scaling_features)\n",
    "        scale_q = self.loc_scaler(q_scaling_features)\n",
    "\n",
    "        obs_emb = self.lin(obs_emb)\n",
    "        q_emb = self.lin(q_emb)\n",
    "\n",
    "        q_size = len(q_emb)\n",
    "        obs_size = len(obs_emb)\n",
    "\n",
    "        # print(scale_obs)\n",
    "        # print(scale_q)\n",
    "\n",
    "        scaled_targets = (obs_targets / scale_obs).reshape(-1, 1)\n",
    "        # scaled_targets = obs_targets.reshape(-1, 1)\n",
    "        out = self.propagate(edge_index, x=scaled_targets, emb=(obs_emb, q_emb), size=(obs_size, q_size))\n",
    "        # print(out.shape)\n",
    "        out = out.reshape(-1)\n",
    "        out = out * scale_q\n",
    "        # out = scale_q\n",
    "        return out\n",
    "\n",
    "\n",
    "    def message(self, x_j, emb_j, emb_i, index):\n",
    "        # print(x_j.shape, emb_j.shape, emb_i.shape, index.shape)\n",
    "        # alpha = torch.sum(emb_j * emb_i, dim=-1)[:, None]\n",
    "        alpha = torch.cosine_similarity(emb_j, emb_i)[:, None]\n",
    "        # alpha = torch.ones_like(alpha)\n",
    "        att_weights = pyg.utils.softmax(alpha, index)\n",
    "        out = att_weights * x_j\n",
    "        return out\n",
    "    \n",
    "    def aggregate(self, inputs, index):\n",
    "        return torch_scatter.scatter(inputs, index, dim=0, reduce='sum')\n"
   ]
  },
  {
   "cell_type": "code",
   "execution_count": 195,
   "metadata": {},
   "outputs": [],
   "source": [
    "from sklearn.neighbors import NearestNeighbors\n",
    "\n",
    "\n",
    "class GNNEstimator(BaseEstimator):\n",
    "    def __init__(self, pyg_graph, nodes, targets, in_channels=32, *args, **kwargs):\n",
    "        super().__init__(pyg_graph, nodes, targets, *args, **kwargs)\n",
    "\n",
    "        self.obs_targets = torch.as_tensor(self.obs_targets).to(device)\n",
    "        self.extrapolation_layer = ExtrapolationLayer(in_channels)    \n",
    "\n",
    "    def forward(self, nodes, edge_index):\n",
    "        # here can be possible node features updating\n",
    "        embeddings = self.g.x\n",
    "        q_index = np.asarray([int(self.node_to_idx(x)) for x in nodes])\n",
    "\n",
    "        obs_scaling_features = self.g.mean_target[self.obs_node_indices]\n",
    "        q_scaling_features = self.g.mean_target[q_index]\n",
    "\n",
    "        obs_emb = embeddings[self.obs_node_indices]\n",
    "        q_emb = embeddings[q_index]\n",
    "\n",
    "        return self.extrapolation_layer(obs_emb, obs_scaling_features, \n",
    "            self.obs_targets, q_emb, q_scaling_features, edge_index)\n",
    "    \n",
    "    def make_test_edge_index(self, test_graph: pyg.data.Data, neighbors_num=10):\n",
    "        nneighbors = NearestNeighbors(n_neighbors=neighbors_num, metric='haversine')\n",
    "\n",
    "        nneighbors.fit(torch.vstack([self.g.lat[self.obs_node_indices],\n",
    "                                     self.g.lon[self.obs_node_indices]]).T.detach().cpu())\n",
    "\n",
    "        indices = nneighbors.kneighbors(torch.vstack([test_graph.lat, test_graph.lon]).T.detach().cpu(), \n",
    "                return_distance=False)\n",
    "        \n",
    "        index = torch.stack((torch.asarray(indices).reshape(-1), \n",
    "                             torch.arange(test_graph.num_nodes)[:, None].expand(-1, neighbors_num).reshape(-1)))\n",
    "        return index"
   ]
  },
  {
   "cell_type": "code",
   "execution_count": 196,
   "metadata": {},
   "outputs": [],
   "source": [
    "from random import Random\n",
    "\n",
    "def node_indices_split(nodes_num, train_size=0.7, val_size=0.15, test_size=0.15):\n",
    "    assert train_size + val_size + test_size == 1.0\n",
    "    indices = np.arange(nodes_num)\n",
    "    Random(34).shuffle(indices)\n",
    "    train, val, test = map(torch.tensor, np.split(indices, [int(nodes_num*train_size), int(nodes_num*(train_size + val_size))]))\n",
    "    return train, val, test"
   ]
  },
  {
   "cell_type": "code",
   "execution_count": 200,
   "metadata": {},
   "outputs": [],
   "source": [
    "from tqdm import tqdm as tqdm\n",
    "from sklearn.metrics import r2_score\n",
    "\n",
    "\n",
    "def test(model, nodes, targets, edge_index, loss_fn, device) -> Tuple[float, float]:\n",
    "    \"\"\" returns average loss and score\n",
    "    \"\"\"\n",
    "    model.eval()\n",
    "\n",
    "    total_loss = 0\n",
    "    y_true = []\n",
    "    y_pred = []\n",
    "\n",
    "    with torch.no_grad():\n",
    "        out = model(nodes, edge_index)\n",
    "\n",
    "        y_gpu = targets.to(device)\n",
    "        loss = loss_fn(out, y_gpu)\n",
    "\n",
    "        y_true.extend(targets)\n",
    "        y_pred.extend(out.detach().cpu())\n",
    "    \n",
    "    return loss.item(), r2_score(y_true, y_pred)\n",
    "\n",
    "\n",
    "def train(model, train_nodes, y_train, train_edge_index, val_nodes, y_val, val_edge_index, loss_fn,\n",
    "          optimizer, device, scheduler=None, num_epochs=10, plot=True, plot_update_every=5):\n",
    "    \"\"\" returns best model on validation\n",
    "    \"\"\"\n",
    "\n",
    "    train_losses = []\n",
    "    train_scores = []\n",
    "    val_losses = []\n",
    "    val_scores = []\n",
    "\n",
    "    for epoch in range(num_epochs + 1):\n",
    "        model.train()\n",
    "\n",
    "        optimizer.zero_grad()\n",
    "        out = model(train_nodes, train_edge_index)\n",
    "        y_train_gpu = y_train.to(device)\n",
    "        loss = loss_fn(out, y_train_gpu)\n",
    "        loss.backward()\n",
    "        optimizer.step()\n",
    "\n",
    "        # print(y_train, out)\n",
    "        # fuck()\n",
    "   \n",
    "        train_losses.append(loss.item())\n",
    "\n",
    "        if scheduler is not None:\n",
    "            scheduler.step()\n",
    "\n",
    "        train_scores.append(r2_score(out.detach().cpu(), y_train.detach().cpu()))\n",
    "        val_loss, val_score = test(model, val_nodes, y_val, val_edge_index, loss_fn, device)\n",
    "        val_losses.append(val_loss)\n",
    "        val_scores.append(val_score)\n",
    "\n",
    "        if plot and epoch > 0 and epoch % plot_update_every == 0:\n",
    "            clear_output(True)\n",
    "            _, axes = plt.subplots(1, 2, figsize=(20, 6))\n",
    "            \n",
    "            sns.lineplot(ax=axes[0], x=range(epoch + 1), y=train_losses, label='Train', color='blue')\n",
    "            sns.lineplot(ax=axes[0], x=range(epoch + 1), y=val_losses, label='Val', color='red')\n",
    "            axes[0].set_xlabel('Epoch')\n",
    "            axes[0].set_ylabel('Loss')\n",
    "            axes[0].legend()\n",
    "\n",
    "            sns.lineplot(ax=axes[1], x=range(epoch + 1), y=val_scores, label='Val', color='red')\n",
    "            sns.lineplot(ax=axes[1], x=range(epoch + 1), y=train_scores, label='Train', color='blue')\n",
    "            axes[1].set_xlabel('Epoch')\n",
    "            axes[1].set_ylabel('Score')\n",
    "            axes[1].legend()\n",
    "\n",
    "            plt.show()\n",
    "            # print(f'Epoch {epoch}, Loss: {train_losses[-1]:.4f}, Val loss: {val_loss:.4f}, Val R2: {val_scores[-1]:.4f}')"
   ]
  },
  {
   "cell_type": "code",
   "execution_count": 224,
   "metadata": {},
   "outputs": [
    {
     "data": {
      "image/png": "[encoded data removed]",
      "text/plain": [
       "<Figure size 1440x432 with 2 Axes>"
      ]
     },
     "metadata": {
      "needs_background": "light"
     },
     "output_type": "display_data"
    },
    {
     "name": "stderr",
     "output_type": "stream",
     "text": [
      "  0%|          | 0/15 [00:02<?, ?it/s]"
     ]
    },
    {
     "name": "stdout",
     "output_type": "stream",
     "text": [
      "2021-01-04, Test loss: 15195.8428, test score: 0.8470\n"
     ]
    },
    {
     "name": "stderr",
     "output_type": "stream",
     "text": [
      "\n"
     ]
    }
   ],
   "source": [
    "results = dict()\n",
    "loss_fn = nn.MSELoss().to(device)\n",
    "model = None\n",
    "NEIGHBORS_NUM = 25\n",
    "\n",
    "for path in tqdm(glob.glob('datasets/*')[5:20]):\n",
    "    day = path.split('/')[1].split('.')[0]\n",
    "    print(day)\n",
    "\n",
    "    try:\n",
    "        ds = torch.load(path)\n",
    "    except:\n",
    "        continue\n",
    "    \n",
    "\n",
    "    train_nodes_idx, val_nodes_idx, test_nodes_idx = node_indices_split(len(ds))\n",
    "    train_nodes, train_targets = ds[train_nodes_idx]\n",
    "    val_nodes, val_targets = ds[val_nodes_idx]\n",
    "    test_nodes, test_targets = ds[test_nodes_idx]\n",
    "    y_train, y_val, y_test = map(torch.as_tensor, (train_targets, val_targets, test_targets)) \n",
    "\n",
    "    train_graph = pyg_data.subgraph(train_nodes_idx)\n",
    "    print(test_nodes_idx)\n",
    "    # fuck()\n",
    "    val_graph = pyg_data.subgraph(val_nodes_idx)\n",
    "    test_graph = pyg_data.subgraph(test_nodes_idx)\n",
    "\n",
    "    model = GNNEstimator(pyg_data, train_nodes, train_targets).to(device)\n",
    "    optimizer = torch.optim.Adam(model.parameters(), lr=1e-2)\n",
    "\n",
    "    train_edge_index = pyg.nn.knn_graph(train_graph.x, k=NEIGHBORS_NUM, cosine=True) \n",
    "    # train_edge_index = torch.vstack((torch.arange(0, len(train_nodes_idx)), torch.arange(0, len(train_nodes_idx)))).to(device)\n",
    "    print(train_edge_index.shape)\n",
    "    val_edge_index = model.make_test_edge_index(val_graph, neighbors_num=NEIGHBORS_NUM).to(device)\n",
    "    test_edge_index = model.make_test_edge_index(test_graph, neighbors_num=NEIGHBORS_NUM).to(device)\n",
    "    \n",
    "    train(model, train_nodes, y_train, train_edge_index, val_nodes, y_val, val_edge_index, \n",
    "          loss_fn, optimizer, device, num_epochs=50, plot=True, plot_update_every=10)\n",
    "\n",
    "    # scheduler = torch.optim.lr_scheduler.StepLR(optimizer, 20, gamma=0.9)\n",
    "\n",
    "    test_loss, test_score = test(model, test_nodes, y_test, test_edge_index, loss_fn, device)\n",
    "\n",
    "    # for name, param in model.named_parameters():\n",
    "        # print(name, param)\n",
    "\n",
    "    results[f'{day}'] = test_score \n",
    "    print(f'{day}, Test loss: {test_loss:.4f}, test score: {test_score:.4f}')\n",
    "    break"
   ]
  },
  {
   "cell_type": "code",
   "execution_count": null,
   "metadata": {},
   "outputs": [],
   "source": []
  },
  {
   "cell_type": "code",
   "execution_count": null,
   "metadata": {},
   "outputs": [],
   "source": []
  }
 ],
 "metadata": {
  "interpreter": {
   "hash": "30452e0fb0b877c71442cfddf3db9e1b032e1699292a3dd400d9a1b61508e43d"
  },
  "kernelspec": {
   "display_name": "Python 3.7.13 ('traffic')",
   "language": "python",
   "name": "python3"
  },
  "language_info": {
   "codemirror_mode": {
    "name": "ipython",
    "version": 3
   },
   "file_extension": ".py",
   "mimetype": "text/x-python",
   "name": "python",
   "nbconvert_exporter": "python",
   "pygments_lexer": "ipython3",
   "version": "3.7.13"
  },
  "orig_nbformat": 4
 },
 "nbformat": 4,
 "nbformat_minor": 2
}
