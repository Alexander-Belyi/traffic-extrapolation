{
 "cells": [
  {
   "cell_type": "code",
   "execution_count": 95,
   "metadata": {},
   "outputs": [
    {
     "name": "stdout",
     "output_type": "stream",
     "text": [
      "The autoreload extension is already loaded. To reload it, use:\n",
      "  %reload_ext autoreload\n"
     ]
    }
   ],
   "source": [
    "import sys\n",
    "sys.path.append('../')\n",
    "\n",
    "import pandas as pd\n",
    "import numpy as np\n",
    "import networkx as nx\n",
    "\n",
    "import torch\n",
    "\n",
    "from src.utils import haversine, radians\n",
    "from dataset import DayObservationsDataset\n",
    "\n",
    "%load_ext autoreload\n",
    "%autoreload 2"
   ]
  },
  {
   "cell_type": "code",
   "execution_count": 96,
   "metadata": {},
   "outputs": [],
   "source": [
    "legend_df = pd.read_csv('data/subway_locations_connections.csv')\n",
    "\n",
    "def parse_string_array_frame(df, column):\n",
    "    df[column] = df[column].apply(lambda x : [str(i.strip().upper()[1:-1]) for i in x[1:-1].split(',')])\n",
    "\n",
    "def parse_float_array_frame(df, column):\n",
    "    df[column] = df[column].apply(lambda x : [float(i.strip()) for i in x[1:-1].split(',')])\n",
    "\n",
    "parse_string_array_frame(legend_df, 'dest_name')\n",
    "parse_string_array_frame(legend_df, 'dest_id')\n",
    "parse_float_array_frame(legend_df, 'dest_lat')\n",
    "parse_float_array_frame(legend_df, 'dest_long')\n",
    "\n",
    "origin_cols = [x for x in legend_df.columns if x.startswith('origin')]\n",
    "dest_cols = [x for x in legend_df.columns if x.startswith('dest')]\n",
    "\n",
    "legend_df[['origin_lat', 'origin_long', 'dest_lat', 'dest_long']] = \\\n",
    "    legend_df[['origin_lat', 'origin_long', 'dest_lat', 'dest_long']].applymap(lambda x : radians(x))"
   ]
  },
  {
   "cell_type": "code",
   "execution_count": 97,
   "metadata": {},
   "outputs": [
    {
     "data": {
      "text/plain": [
       "[('1 AV', '3 AV', {'dist': 0.4333996170612458}),\n",
       " ('1 AV', 'BEDFORD AV', {'dist': 2.579846524429354}),\n",
       " ('103 ST', '96 ST', {'dist': 0.6985162154962519}),\n",
       " ('103 ST', 'CATHEDRAL PKWY', {'dist': 0.5189875230607629}),\n",
       " ('103 ST - CORONA PLAZA', 'JUNCTION BLVD', {'dist': 0.5806388684783266})]"
      ]
     },
     "execution_count": 97,
     "metadata": {},
     "output_type": "execute_result"
    }
   ],
   "source": [
    "nodes_df = legend_df[origin_cols]\n",
    "# nodes_df = nodes_df.rename(columns={'origin_lat': 'lat', 'origin_long': 'lon'})\n",
    "nodes_set = set(nodes_df['origin_name'].unique())\n",
    "\n",
    "edges = []\n",
    "for i, row in legend_df.iterrows():\n",
    "    for name, id, lat, lon in zip(*(row[col] for col in dest_cols)):\n",
    "        if name not in nodes_set:\n",
    "            nodes_df = nodes_df.append(pd.DataFrame([[name, id, lat, lon]], columns=origin_cols), ignore_index=True)\n",
    "            nodes_set.add(name)\n",
    "\n",
    "        olon, olat = row['origin_long'], row['origin_lat']\n",
    "        dist = float(haversine(olon, olat, lon, lat))\n",
    "\n",
    "        edges.append((row['origin_name'], name, {'dist' : dist}))\n",
    "\n",
    "edges[:5]\n",
    "        "
   ]
  },
  {
   "cell_type": "code",
   "execution_count": 98,
   "metadata": {},
   "outputs": [
    {
     "data": {
      "text/html": [
       "<div>\n",
       "<style scoped>\n",
       "    .dataframe tbody tr th:only-of-type {\n",
       "        vertical-align: middle;\n",
       "    }\n",
       "\n",
       "    .dataframe tbody tr th {\n",
       "        vertical-align: top;\n",
       "    }\n",
       "\n",
       "    .dataframe thead th {\n",
       "        text-align: right;\n",
       "    }\n",
       "</style>\n",
       "<table border=\"1\" class=\"dataframe\">\n",
       "  <thead>\n",
       "    <tr style=\"text-align: right;\">\n",
       "      <th></th>\n",
       "      <th>id</th>\n",
       "      <th>lat</th>\n",
       "      <th>lon</th>\n",
       "    </tr>\n",
       "    <tr>\n",
       "      <th>name</th>\n",
       "      <th></th>\n",
       "      <th></th>\n",
       "      <th></th>\n",
       "    </tr>\n",
       "  </thead>\n",
       "  <tbody>\n",
       "    <tr>\n",
       "      <th>1 AV</th>\n",
       "      <td>1 AV</td>\n",
       "      <td>0.710889</td>\n",
       "      <td>-1.291223</td>\n",
       "    </tr>\n",
       "    <tr>\n",
       "      <th>103 ST</th>\n",
       "      <td>103 ST</td>\n",
       "      <td>0.712085</td>\n",
       "      <td>-1.290992</td>\n",
       "    </tr>\n",
       "    <tr>\n",
       "      <th>103 ST - CORONA PLAZA</th>\n",
       "      <td>103 ST - CORONA PLAZA</td>\n",
       "      <td>0.711219</td>\n",
       "      <td>-1.289147</td>\n",
       "    </tr>\n",
       "    <tr>\n",
       "      <th>104 ST</th>\n",
       "      <td>104 ST</td>\n",
       "      <td>0.710030</td>\n",
       "      <td>-1.288711</td>\n",
       "    </tr>\n",
       "    <tr>\n",
       "      <th>110 ST</th>\n",
       "      <td>110 ST</td>\n",
       "      <td>0.712007</td>\n",
       "      <td>-1.290571</td>\n",
       "    </tr>\n",
       "    <tr>\n",
       "      <th>...</th>\n",
       "      <td>...</td>\n",
       "      <td>...</td>\n",
       "      <td>...</td>\n",
       "    </tr>\n",
       "    <tr>\n",
       "      <th>WOODSIDE - 61 ST</th>\n",
       "      <td>WOODSIDE - 61 ST</td>\n",
       "      <td>0.711145</td>\n",
       "      <td>-1.289850</td>\n",
       "    </tr>\n",
       "    <tr>\n",
       "      <th>WORLD TRADE CENTER</th>\n",
       "      <td>WORLD TRADE CENTER</td>\n",
       "      <td>0.710569</td>\n",
       "      <td>-1.291714</td>\n",
       "    </tr>\n",
       "    <tr>\n",
       "      <th>YORK ST</th>\n",
       "      <td>YORK ST</td>\n",
       "      <td>0.710373</td>\n",
       "      <td>-1.291312</td>\n",
       "    </tr>\n",
       "    <tr>\n",
       "      <th>ZEREGA AV</th>\n",
       "      <td>ZEREGA AV</td>\n",
       "      <td>0.712731</td>\n",
       "      <td>-1.288874</td>\n",
       "    </tr>\n",
       "    <tr>\n",
       "      <th>AQUEDUCT RACETRACK</th>\n",
       "      <td>AQUEDUCT RACETRACK</td>\n",
       "      <td>0.709795</td>\n",
       "      <td>-1.288647</td>\n",
       "    </tr>\n",
       "  </tbody>\n",
       "</table>\n",
       "<p>374 rows × 3 columns</p>\n",
       "</div>"
      ],
      "text/plain": [
       "                                          id       lat       lon\n",
       "name                                                            \n",
       "1 AV                                    1 AV  0.710889 -1.291223\n",
       "103 ST                                103 ST  0.712085 -1.290992\n",
       "103 ST - CORONA PLAZA  103 ST - CORONA PLAZA  0.711219 -1.289147\n",
       "104 ST                                104 ST  0.710030 -1.288711\n",
       "110 ST                                110 ST  0.712007 -1.290571\n",
       "...                                      ...       ...       ...\n",
       "WOODSIDE - 61 ST            WOODSIDE - 61 ST  0.711145 -1.289850\n",
       "WORLD TRADE CENTER        WORLD TRADE CENTER  0.710569 -1.291714\n",
       "YORK ST                              YORK ST  0.710373 -1.291312\n",
       "ZEREGA AV                          ZEREGA AV  0.712731 -1.288874\n",
       "AQUEDUCT RACETRACK        AQUEDUCT RACETRACK  0.709795 -1.288647\n",
       "\n",
       "[374 rows x 3 columns]"
      ]
     },
     "execution_count": 98,
     "metadata": {},
     "output_type": "execute_result"
    }
   ],
   "source": [
    "nodes_df = nodes_df.rename(columns=lambda x : x.removeprefix('origin_'))\n",
    "nodes_df = nodes_df.rename(columns={'long':'lon'})\n",
    "nodes_df['id'] = nodes_df['name']\n",
    "nodes_df = nodes_df.set_index('name')\n",
    "nodes_df"
   ]
  },
  {
   "cell_type": "code",
   "execution_count": 99,
   "metadata": {},
   "outputs": [],
   "source": [
    "def make_graph_from_df(nodes_df, edges, name='TLC', directed=True):\n",
    "    G = nx.Graph(directed=directed)\n",
    "    G.graph['Name'] = name\n",
    "\n",
    "    G.add_nodes_from(nodes_df.to_dict('index').items())\n",
    "    G.add_edges_from(edges)\n",
    "\n",
    "    return G"
   ]
  },
  {
   "cell_type": "code",
   "execution_count": 100,
   "metadata": {},
   "outputs": [
    {
     "data": {
      "text/plain": [
       "(374, 503)"
      ]
     },
     "execution_count": 100,
     "metadata": {},
     "output_type": "execute_result"
    }
   ],
   "source": [
    "G = make_graph_from_df(nodes_df, edges)\n",
    "G.number_of_nodes(), G.number_of_edges()"
   ]
  },
  {
   "cell_type": "code",
   "execution_count": 101,
   "metadata": {},
   "outputs": [],
   "source": [
    "nx.readwrite.write_gpickle(G, 'data/network.gpickle')"
   ]
  },
  {
   "cell_type": "code",
   "execution_count": 104,
   "metadata": {},
   "outputs": [
    {
     "data": {
      "text/html": [
       "<div>\n",
       "<style scoped>\n",
       "    .dataframe tbody tr th:only-of-type {\n",
       "        vertical-align: middle;\n",
       "    }\n",
       "\n",
       "    .dataframe tbody tr th {\n",
       "        vertical-align: top;\n",
       "    }\n",
       "\n",
       "    .dataframe thead th {\n",
       "        text-align: right;\n",
       "    }\n",
       "</style>\n",
       "<table border=\"1\" class=\"dataframe\">\n",
       "  <thead>\n",
       "    <tr style=\"text-align: right;\">\n",
       "      <th></th>\n",
       "      <th>DATE</th>\n",
       "      <th>STATION</th>\n",
       "      <th>ridership</th>\n",
       "    </tr>\n",
       "  </thead>\n",
       "  <tbody>\n",
       "    <tr>\n",
       "      <th>0</th>\n",
       "      <td>2020-12-26</td>\n",
       "      <td>1 AV</td>\n",
       "      <td>191.0</td>\n",
       "    </tr>\n",
       "    <tr>\n",
       "      <th>1</th>\n",
       "      <td>2020-12-26</td>\n",
       "      <td>103 ST</td>\n",
       "      <td>317.0</td>\n",
       "    </tr>\n",
       "    <tr>\n",
       "      <th>3</th>\n",
       "      <td>2020-12-26</td>\n",
       "      <td>104 ST</td>\n",
       "      <td>20.0</td>\n",
       "    </tr>\n",
       "    <tr>\n",
       "      <th>4</th>\n",
       "      <td>2020-12-26</td>\n",
       "      <td>110 ST</td>\n",
       "      <td>239.0</td>\n",
       "    </tr>\n",
       "    <tr>\n",
       "      <th>5</th>\n",
       "      <td>2020-12-26</td>\n",
       "      <td>111 ST</td>\n",
       "      <td>70.0</td>\n",
       "    </tr>\n",
       "    <tr>\n",
       "      <th>...</th>\n",
       "      <td>...</td>\n",
       "      <td>...</td>\n",
       "      <td>...</td>\n",
       "    </tr>\n",
       "    <tr>\n",
       "      <th>102330</th>\n",
       "      <td>2021-12-24</td>\n",
       "      <td>WINTHROP ST</td>\n",
       "      <td>390.0</td>\n",
       "    </tr>\n",
       "    <tr>\n",
       "      <th>102331</th>\n",
       "      <td>2021-12-24</td>\n",
       "      <td>WOODHAVEN BLVD</td>\n",
       "      <td>1546.0</td>\n",
       "    </tr>\n",
       "    <tr>\n",
       "      <th>102332</th>\n",
       "      <td>2021-12-24</td>\n",
       "      <td>WOODLAWN</td>\n",
       "      <td>488.0</td>\n",
       "    </tr>\n",
       "    <tr>\n",
       "      <th>102334</th>\n",
       "      <td>2021-12-24</td>\n",
       "      <td>YORK ST</td>\n",
       "      <td>989.0</td>\n",
       "    </tr>\n",
       "    <tr>\n",
       "      <th>102335</th>\n",
       "      <td>2021-12-24</td>\n",
       "      <td>ZEREGA AV</td>\n",
       "      <td>80.0</td>\n",
       "    </tr>\n",
       "  </tbody>\n",
       "</table>\n",
       "<p>84849 rows × 3 columns</p>\n",
       "</div>"
      ],
      "text/plain": [
       "              DATE         STATION  ridership\n",
       "0       2020-12-26            1 AV      191.0\n",
       "1       2020-12-26          103 ST      317.0\n",
       "3       2020-12-26          104 ST       20.0\n",
       "4       2020-12-26          110 ST      239.0\n",
       "5       2020-12-26          111 ST       70.0\n",
       "...            ...             ...        ...\n",
       "102330  2021-12-24     WINTHROP ST      390.0\n",
       "102331  2021-12-24  WOODHAVEN BLVD     1546.0\n",
       "102332  2021-12-24        WOODLAWN      488.0\n",
       "102334  2021-12-24         YORK ST      989.0\n",
       "102335  2021-12-24       ZEREGA AV       80.0\n",
       "\n",
       "[84849 rows x 3 columns]"
      ]
     },
     "execution_count": 104,
     "metadata": {},
     "output_type": "execute_result"
    }
   ],
   "source": [
    "mta = pd.read_csv('data/subway_2021_ridership.csv')\n",
    "mta = mta[mta['flag'] == True]\n",
    "mta['DATE_time'] = pd.to_datetime(mta['DATE_time'])\n",
    "mta['DATE'] = mta['DATE_time'].dt.date\n",
    "mta = mta.groupby(['DATE', 'STATION'], as_index=False)['ridership'].sum()\n",
    "mta = mta[mta['STATION'].isin(nodes_set)]\n",
    "mta"
   ]
  },
  {
   "cell_type": "code",
   "execution_count": 105,
   "metadata": {},
   "outputs": [],
   "source": [
    "for day in mta['DATE'].unique()[:30]:\n",
    "    ds = DayObservationsDataset.from_dataframe_by_day(mta, day)\n",
    "    torch.save(ds, f'datasets/{day}.dat')"
   ]
  },
  {
   "cell_type": "code",
   "execution_count": null,
   "metadata": {},
   "outputs": [],
   "source": []
  }
 ],
 "metadata": {
  "interpreter": {
   "hash": "30452e0fb0b877c71442cfddf3db9e1b032e1699292a3dd400d9a1b61508e43d"
  },
  "kernelspec": {
   "display_name": "Python 3.9.7 ('traffic')",
   "language": "python",
   "name": "python3"
  },
  "language_info": {
   "codemirror_mode": {
    "name": "ipython",
    "version": 3
   },
   "file_extension": ".py",
   "mimetype": "text/x-python",
   "name": "python",
   "nbconvert_exporter": "python",
   "pygments_lexer": "ipython3",
   "version": "3.9.7"
  },
  "orig_nbformat": 4
 },
 "nbformat": 4,
 "nbformat_minor": 2
}
