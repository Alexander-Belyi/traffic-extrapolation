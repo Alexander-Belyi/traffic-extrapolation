{
 "cells": [
  {
   "cell_type": "code",
   "execution_count": 1,
   "metadata": {},
   "outputs": [],
   "source": [
    "import networkx as nx\n",
    "import node2vec\n",
    "from node2vec import Node2Vec\n",
    "\n",
    "from utils import *\n",
    "\n",
    "%load_ext autoreload\n",
    "%autoreload 2"
   ]
  },
  {
   "cell_type": "code",
   "execution_count": 2,
   "metadata": {},
   "outputs": [
    {
     "data": {
      "text/plain": "(60789, 75647)"
     },
     "execution_count": 2,
     "metadata": {},
     "output_type": "execute_result"
    }
   ],
   "source": [
    "G = nx.read_gpickle('data/network.gpickle')\n",
    "G.number_of_nodes(), G.number_of_edges()"
   ]
  },
  {
   "cell_type": "markdown",
   "metadata": {},
   "source": [
    "To search for node embeddings I use node2vec approach. I tried to use network SVD from network-sklearn, but it didn't work well (I got very low scaled vectors with values about 1e-20). node2vec gives more pleasant embeddings in terms of using dot product or cosine similarity. By the way it's not so fast (model trains for 3,5 minutes for graph with 60k vertices and 75k edges with some hyperparameters tuning)"
   ]
  },
  {
   "cell_type": "code",
   "execution_count": 7,
   "metadata": {},
   "outputs": [],
   "source": [
    "def generate_node_embeddings(graph: nx.Graph):\n",
    "    model = Node2Vec(graph, dimensions=128, num_walks=30, walk_length=30, temp_folder='temp/', workers=2)\n",
    "    result = model.fit(window=5, min_count=1, batch_words=5)\n",
    "    return result"
   ]
  },
  {
   "cell_type": "code",
   "execution_count": 8,
   "metadata": {},
   "outputs": [
    {
     "data": {
      "text/plain": "Computing transition probabilities:   0%|          | 0/60789 [00:00<?, ?it/s]",
      "application/vnd.jupyter.widget-view+json": {
       "version_major": 2,
       "version_minor": 0,
       "model_id": "46d22a85e321483e9c93f9bbff1ade10"
      }
     },
     "metadata": {},
     "output_type": "display_data"
    },
    {
     "name": "stderr",
     "output_type": "stream",
     "text": [
      "Generating walks (CPU: 2):   0%|          | 0/15 [00:00<?, ?it/s]\n",
      "Generating walks (CPU: 2):  13%|█▎        | 2/15 [00:13<01:25,  6.59s/it]\n",
      "Generating walks (CPU: 2):  20%|██        | 3/15 [00:26<01:52,  9.40s/it]\u001B[A\n",
      "Generating walks (CPU: 2):  27%|██▋       | 4/15 [00:39<01:57, 10.64s/it]\u001B[A\n",
      "Generating walks (CPU: 2):  33%|███▎      | 5/15 [00:52<01:55, 11.58s/it]\u001B[A\n",
      "Generating walks (CPU: 2):  40%|████      | 6/15 [01:05<01:48, 12.06s/it]\u001B[A\n",
      "Generating walks (CPU: 2):  47%|████▋     | 7/15 [01:18<01:39, 12.43s/it]\u001B[A\n",
      "Generating walks (CPU: 2):  53%|█████▎    | 8/15 [01:31<01:27, 12.48s/it]\u001B[A\n",
      "Generating walks (CPU: 2):  60%|██████    | 9/15 [01:44<01:16, 12.82s/it]\u001B[A\n",
      "Generating walks (CPU: 2):  67%|██████▋   | 10/15 [01:57<01:04, 12.86s/it][A\n",
      "Generating walks (CPU: 2):  73%|███████▎  | 11/15 [02:11<00:51, 12.95s/it]\u001B[A\n",
      "Generating walks (CPU: 2):  80%|████████  | 12/15 [02:26<00:40, 13.62s/it]\u001B[A\n",
      "Generating walks (CPU: 2):  87%|████████▋ | 13/15 [02:39<00:27, 13.52s/it]\u001B[A\n",
      "Generating walks (CPU: 2):  93%|█████████▎| 14/15 [02:52<00:13, 13.48s/it]\u001B[A\n",
      "Generating walks (CPU: 2): 100%|██████████| 15/15 [03:06<00:00, 13.65s/it]\u001B[A\n",
      "Generating walks (CPU: 2): 100%|██████████| 15/15 [03:19<00:00, 13.31s/it]\u001B[A\n",
      "Generating walks (CPU: 1): 100%|██████████| 15/15 [03:20<00:00, 13.39s/it]\n"
     ]
    },
    {
     "name": "stdout",
     "output_type": "stream",
     "text": [
      "CPU times: user 46min 51s, sys: 2min 21s, total: 49min 13s\n",
      "Wall time: 24min 59s\n"
     ]
    }
   ],
   "source": [
    "%%time\n",
    "embeddings = generate_node_embeddings(G)"
   ]
  },
  {
   "cell_type": "code",
   "execution_count": 9,
   "metadata": {},
   "outputs": [
    {
     "name": "stdout",
     "output_type": "stream",
     "text": [
      "(0, 1)\n",
      "(0, 24)\n",
      "(0, 350192)\n",
      "(1, 2)\n",
      "(2, 3)\n"
     ]
    }
   ],
   "source": [
    "for idx, e in enumerate(G.edges()):\n",
    "    if idx == 5:\n",
    "        break\n",
    "    print(e)"
   ]
  },
  {
   "cell_type": "code",
   "execution_count": 10,
   "metadata": {},
   "outputs": [
    {
     "data": {
      "text/plain": "[('1', 0.9895632266998291),\n ('350192', 0.9811784029006958),\n ('24', 0.9749113321304321),\n ('2', 0.9552937746047974),\n ('350191', 0.9526708722114563),\n ('200921', 0.9499428272247314),\n ('200923', 0.9229863882064819),\n ('332388', 0.9122338891029358),\n ('3', 0.9114905595779419),\n ('350190', 0.9056087732315063)]"
     },
     "execution_count": 10,
     "metadata": {},
     "output_type": "execute_result"
    }
   ],
   "source": [
    "embeddings.wv.most_similar('0')"
   ]
  },
  {
   "cell_type": "code",
   "execution_count": 11,
   "metadata": {},
   "outputs": [],
   "source": [
    "embeddings.save('model_data/embeddings.data')"
   ]
  },
  {
   "cell_type": "code",
   "execution_count": 12,
   "metadata": {},
   "outputs": [],
   "source": [
    "# join embeddings with corresponding nodes (as x feature)\n",
    "for idx, node in enumerate(G.nodes()):\n",
    "    G.add_node(int(node), x=embeddings.wv[str(node)].copy())"
   ]
  },
  {
   "cell_type": "code",
   "execution_count": 13,
   "metadata": {},
   "outputs": [],
   "source": [
    "nx.readwrite.write_gpickle(G, 'data/network.gpickle')"
   ]
  },
  {
   "cell_type": "code",
   "execution_count": null,
   "metadata": {},
   "outputs": [],
   "source": []
  }
 ],
 "metadata": {
  "interpreter": {
   "hash": "30452e0fb0b877c71442cfddf3db9e1b032e1699292a3dd400d9a1b61508e43d"
  },
  "kernelspec": {
   "display_name": "Python 3.9.7 ('traffic')",
   "language": "python",
   "name": "python3"
  },
  "language_info": {
   "codemirror_mode": {
    "name": "ipython",
    "version": 3
   },
   "file_extension": ".py",
   "mimetype": "text/x-python",
   "name": "python",
   "nbconvert_exporter": "python",
   "pygments_lexer": "ipython3",
   "version": "3.9.7"
  },
  "orig_nbformat": 4
 },
 "nbformat": 4,
 "nbformat_minor": 2
}