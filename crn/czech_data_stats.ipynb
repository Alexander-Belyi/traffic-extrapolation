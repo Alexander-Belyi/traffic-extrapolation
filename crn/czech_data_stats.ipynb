{
  "cells": [
    {
      "cell_type": "code",
      "execution_count": 3,
      "id": "24d6f14b",
      "metadata": {
        "id": "24d6f14b"
      },
      "outputs": [],
      "source": [
        "import pandas as pd\n",
        "import json\n",
        "from geopandas import GeoDataFrame\n",
        "from shapely.geometry import Point\n",
        "import numpy as np\n",
        "import pickle\n",
        "from matplotlib import pyplot as plt\n",
        "import jsonlines\n",
        "from datetime import datetime\n",
        "%matplotlib inline"
      ]
    },
    {
      "cell_type": "code",
      "execution_count": 6,
      "id": "ea2c43f8",
      "metadata": {},
      "outputs": [],
      "source": [
        "data_path = \"/Users/alex/Library/CloudStorage/OneDrive-MUNI/Dokumenty/Projects Data/GNNs/cz_traffic/\"\n",
        "#data_path = \"/media/sf_bely/OneDrive - MUNI/Dokumenty/Projects Data/GNNs/cz_traffic/\""
      ]
    },
    {
      "attachments": {},
      "cell_type": "markdown",
      "id": "988c5b43",
      "metadata": {},
      "source": [
        "# Data loading and simple stats"
      ]
    },
    {
      "cell_type": "code",
      "execution_count": 73,
      "id": "e8bb827d",
      "metadata": {},
      "outputs": [
        {
          "data": {
            "text/html": [
              "<div>\n",
              "<style scoped>\n",
              "    .dataframe tbody tr th:only-of-type {\n",
              "        vertical-align: middle;\n",
              "    }\n",
              "\n",
              "    .dataframe tbody tr th {\n",
              "        vertical-align: top;\n",
              "    }\n",
              "\n",
              "    .dataframe thead th {\n",
              "        text-align: right;\n",
              "    }\n",
              "</style>\n",
              "<table border=\"1\" class=\"dataframe\">\n",
              "  <thead>\n",
              "    <tr style=\"text-align: right;\">\n",
              "      <th></th>\n",
              "      <th>timestamp</th>\n",
              "      <th>segment_id</th>\n",
              "      <th>segment_name</th>\n",
              "      <th>segment_road_name</th>\n",
              "      <th>lat</th>\n",
              "      <th>lon</th>\n",
              "      <th>intensity</th>\n",
              "      <th>avg_speed</th>\n",
              "      <th>speed_variance</th>\n",
              "    </tr>\n",
              "  </thead>\n",
              "  <tbody>\n",
              "    <tr>\n",
              "      <th>0</th>\n",
              "      <td>2022-01-17 19:00:00</td>\n",
              "      <td>40000000</td>\n",
              "      <td>D00-001</td>\n",
              "      <td>D0</td>\n",
              "      <td>50.113467</td>\n",
              "      <td>14.587899</td>\n",
              "      <td>9</td>\n",
              "      <td>76.12</td>\n",
              "      <td>55.82</td>\n",
              "    </tr>\n",
              "    <tr>\n",
              "      <th>1</th>\n",
              "      <td>2022-01-17 19:00:00</td>\n",
              "      <td>40000000</td>\n",
              "      <td>D00-001</td>\n",
              "      <td>D0</td>\n",
              "      <td>50.113467</td>\n",
              "      <td>14.587899</td>\n",
              "      <td>45</td>\n",
              "      <td>79.09</td>\n",
              "      <td>46.57</td>\n",
              "    </tr>\n",
              "    <tr>\n",
              "      <th>2</th>\n",
              "      <td>2022-01-17 19:00:00</td>\n",
              "      <td>40000001</td>\n",
              "      <td>D00-001</td>\n",
              "      <td>D0</td>\n",
              "      <td>50.114363</td>\n",
              "      <td>14.588246</td>\n",
              "      <td>8</td>\n",
              "      <td>84.10</td>\n",
              "      <td>18.19</td>\n",
              "    </tr>\n",
              "    <tr>\n",
              "      <th>3</th>\n",
              "      <td>2022-01-17 19:00:00</td>\n",
              "      <td>40000001</td>\n",
              "      <td>D00-001</td>\n",
              "      <td>D0</td>\n",
              "      <td>50.114363</td>\n",
              "      <td>14.588246</td>\n",
              "      <td>38</td>\n",
              "      <td>82.36</td>\n",
              "      <td>25.11</td>\n",
              "    </tr>\n",
              "    <tr>\n",
              "      <th>4</th>\n",
              "      <td>2022-01-17 19:00:00</td>\n",
              "      <td>40000010</td>\n",
              "      <td>D00-002</td>\n",
              "      <td>D0</td>\n",
              "      <td>50.102750</td>\n",
              "      <td>14.590411</td>\n",
              "      <td>51</td>\n",
              "      <td>84.88</td>\n",
              "      <td>90.76</td>\n",
              "    </tr>\n",
              "  </tbody>\n",
              "</table>\n",
              "</div>"
            ],
            "text/plain": [
              "            timestamp  segment_id segment_name segment_road_name        lat  \\\n",
              "0 2022-01-17 19:00:00    40000000      D00-001                D0  50.113467   \n",
              "1 2022-01-17 19:00:00    40000000      D00-001                D0  50.113467   \n",
              "2 2022-01-17 19:00:00    40000001      D00-001                D0  50.114363   \n",
              "3 2022-01-17 19:00:00    40000001      D00-001                D0  50.114363   \n",
              "4 2022-01-17 19:00:00    40000010      D00-002                D0  50.102750   \n",
              "\n",
              "         lon  intensity  avg_speed  speed_variance  \n",
              "0  14.587899          9      76.12           55.82  \n",
              "1  14.587899         45      79.09           46.57  \n",
              "2  14.588246          8      84.10           18.19  \n",
              "3  14.588246         38      82.36           25.11  \n",
              "4  14.590411         51      84.88           90.76  "
            ]
          },
          "execution_count": 73,
          "metadata": {},
          "output_type": "execute_result"
        }
      ],
      "source": [
        "data_df = pd.read_parquet(data_path + 'traffic-2022-02.pqt')\n",
        "data_df.head()"
      ]
    },
    {
      "cell_type": "code",
      "execution_count": 8,
      "id": "9eaa4f5d",
      "metadata": {
        "id": "9eaa4f5d",
        "outputId": "aba45f4b-9814-401a-bdaf-6ef8a75cadd1"
      },
      "outputs": [
        {
          "data": {
            "text/plain": [
              "(10250001, 8)"
            ]
          },
          "execution_count": 8,
          "metadata": {},
          "output_type": "execute_result"
        }
      ],
      "source": [
        "# row count\n",
        "data_df.shape"
      ]
    },
    {
      "cell_type": "code",
      "execution_count": 9,
      "id": "292e1b4e",
      "metadata": {
        "id": "292e1b4e",
        "outputId": "6254e96a-02b1-4598-809d-8af9534bf94c"
      },
      "outputs": [
        {
          "data": {
            "text/plain": [
              "2241"
            ]
          },
          "execution_count": 9,
          "metadata": {},
          "output_type": "execute_result"
        }
      ],
      "source": [
        "# unique segments\n",
        "len(data_df['segment_id'].unique())"
      ]
    },
    {
      "cell_type": "code",
      "execution_count": 10,
      "id": "cfe40044",
      "metadata": {
        "id": "cfe40044",
        "outputId": "c311c3a1-b9e2-411e-858b-e14a04e460a4"
      },
      "outputs": [
        {
          "data": {
            "text/plain": [
              "1128"
            ]
          },
          "execution_count": 10,
          "metadata": {},
          "output_type": "execute_result"
        }
      ],
      "source": [
        "len(data_df['segment_name'].unique())"
      ]
    },
    {
      "cell_type": "code",
      "execution_count": 134,
      "id": "8989220c",
      "metadata": {},
      "outputs": [
        {
          "data": {
            "text/plain": [
              "array(['2022-01-17T19:00:00.000000000', '2022-01-17T19:15:00.000000000',\n",
              "       '2022-01-17T19:30:00.000000000', ...,\n",
              "       '2022-02-18T11:15:00.000000000', '2022-02-18T11:30:00.000000000',\n",
              "       '2022-02-18T11:45:00.000000000'], dtype='datetime64[ns]')"
            ]
          },
          "execution_count": 134,
          "metadata": {},
          "output_type": "execute_result"
        }
      ],
      "source": [
        "data_df['timestamp'].unique()"
      ]
    },
    {
      "cell_type": "code",
      "execution_count": 136,
      "id": "5108e410",
      "metadata": {},
      "outputs": [
        {
          "data": {
            "text/html": [
              "<div>\n",
              "<style scoped>\n",
              "    .dataframe tbody tr th:only-of-type {\n",
              "        vertical-align: middle;\n",
              "    }\n",
              "\n",
              "    .dataframe tbody tr th {\n",
              "        vertical-align: top;\n",
              "    }\n",
              "\n",
              "    .dataframe thead th {\n",
              "        text-align: right;\n",
              "    }\n",
              "</style>\n",
              "<table border=\"1\" class=\"dataframe\">\n",
              "  <thead>\n",
              "    <tr style=\"text-align: right;\">\n",
              "      <th></th>\n",
              "      <th></th>\n",
              "      <th>segment_id</th>\n",
              "    </tr>\n",
              "    <tr>\n",
              "      <th>timestamp</th>\n",
              "      <th>segment_name</th>\n",
              "      <th></th>\n",
              "    </tr>\n",
              "  </thead>\n",
              "  <tbody>\n",
              "    <tr>\n",
              "      <th rowspan=\"5\" valign=\"top\">2022-01-17 19:00:00</th>\n",
              "      <th>D00-001</th>\n",
              "      <td>4</td>\n",
              "    </tr>\n",
              "    <tr>\n",
              "      <th>D00-002</th>\n",
              "      <td>4</td>\n",
              "    </tr>\n",
              "    <tr>\n",
              "      <th>D00-003</th>\n",
              "      <td>4</td>\n",
              "    </tr>\n",
              "    <tr>\n",
              "      <th>D00-004</th>\n",
              "      <td>4</td>\n",
              "    </tr>\n",
              "    <tr>\n",
              "      <th>D00-005</th>\n",
              "      <td>4</td>\n",
              "    </tr>\n",
              "    <tr>\n",
              "      <th>...</th>\n",
              "      <th>...</th>\n",
              "      <td>...</td>\n",
              "    </tr>\n",
              "    <tr>\n",
              "      <th rowspan=\"5\" valign=\"top\">2022-02-18 11:45:00</th>\n",
              "      <th>I38-052</th>\n",
              "      <td>2</td>\n",
              "    </tr>\n",
              "    <tr>\n",
              "      <th>I38-053</th>\n",
              "      <td>2</td>\n",
              "    </tr>\n",
              "    <tr>\n",
              "      <th>I38-054</th>\n",
              "      <td>2</td>\n",
              "    </tr>\n",
              "    <tr>\n",
              "      <th>I38-055</th>\n",
              "      <td>2</td>\n",
              "    </tr>\n",
              "    <tr>\n",
              "      <th>I38-056</th>\n",
              "      <td>2</td>\n",
              "    </tr>\n",
              "  </tbody>\n",
              "</table>\n",
              "<p>3164126 rows × 1 columns</p>\n",
              "</div>"
            ],
            "text/plain": [
              "                                  segment_id\n",
              "timestamp           segment_name            \n",
              "2022-01-17 19:00:00 D00-001                4\n",
              "                    D00-002                4\n",
              "                    D00-003                4\n",
              "                    D00-004                4\n",
              "                    D00-005                4\n",
              "...                                      ...\n",
              "2022-02-18 11:45:00 I38-052                2\n",
              "                    I38-053                2\n",
              "                    I38-054                2\n",
              "                    I38-055                2\n",
              "                    I38-056                2\n",
              "\n",
              "[3164126 rows x 1 columns]"
            ]
          },
          "execution_count": 136,
          "metadata": {},
          "output_type": "execute_result"
        }
      ],
      "source": [
        "data_df.groupby(['timestamp', 'segment_name']).agg({'segment_id': lambda x: len(x)})"
      ]
    },
    {
      "attachments": {},
      "cell_type": "markdown",
      "id": "931d1965",
      "metadata": {},
      "source": [
        "# Segments and locations"
      ]
    },
    {
      "cell_type": "code",
      "execution_count": 74,
      "id": "4188ae48",
      "metadata": {
        "id": "4188ae48",
        "outputId": "49eb93cc-83ed-4513-ab16-f60207bcdf64"
      },
      "outputs": [
        {
          "data": {
            "text/html": [
              "<div>\n",
              "<style scoped>\n",
              "    .dataframe tbody tr th:only-of-type {\n",
              "        vertical-align: middle;\n",
              "    }\n",
              "\n",
              "    .dataframe tbody tr th {\n",
              "        vertical-align: top;\n",
              "    }\n",
              "\n",
              "    .dataframe thead th {\n",
              "        text-align: right;\n",
              "    }\n",
              "</style>\n",
              "<table border=\"1\" class=\"dataframe\">\n",
              "  <thead>\n",
              "    <tr style=\"text-align: right;\">\n",
              "      <th></th>\n",
              "      <th>segment_id</th>\n",
              "      <th>lat</th>\n",
              "      <th>lon</th>\n",
              "    </tr>\n",
              "  </thead>\n",
              "  <tbody>\n",
              "    <tr>\n",
              "      <th>0</th>\n",
              "      <td>40000000</td>\n",
              "      <td>50.113467</td>\n",
              "      <td>14.587899</td>\n",
              "    </tr>\n",
              "    <tr>\n",
              "      <th>2</th>\n",
              "      <td>40000001</td>\n",
              "      <td>50.114363</td>\n",
              "      <td>14.588246</td>\n",
              "    </tr>\n",
              "    <tr>\n",
              "      <th>4</th>\n",
              "      <td>40000010</td>\n",
              "      <td>50.102750</td>\n",
              "      <td>14.590411</td>\n",
              "    </tr>\n",
              "    <tr>\n",
              "      <th>6</th>\n",
              "      <td>40000011</td>\n",
              "      <td>50.110105</td>\n",
              "      <td>14.588064</td>\n",
              "    </tr>\n",
              "    <tr>\n",
              "      <th>8</th>\n",
              "      <td>40000020</td>\n",
              "      <td>50.092003</td>\n",
              "      <td>14.594524</td>\n",
              "    </tr>\n",
              "    <tr>\n",
              "      <th>...</th>\n",
              "      <td>...</td>\n",
              "      <td>...</td>\n",
              "      <td>...</td>\n",
              "    </tr>\n",
              "    <tr>\n",
              "      <th>1551775</th>\n",
              "      <td>40015231</td>\n",
              "      <td>50.072486</td>\n",
              "      <td>14.751264</td>\n",
              "    </tr>\n",
              "    <tr>\n",
              "      <th>4997412</th>\n",
              "      <td>40015120</td>\n",
              "      <td>49.660566</td>\n",
              "      <td>18.343925</td>\n",
              "    </tr>\n",
              "    <tr>\n",
              "      <th>5027141</th>\n",
              "      <td>40015121</td>\n",
              "      <td>49.661861</td>\n",
              "      <td>18.338461</td>\n",
              "    </tr>\n",
              "    <tr>\n",
              "      <th>7695212</th>\n",
              "      <td>40015140</td>\n",
              "      <td>49.675312</td>\n",
              "      <td>18.322392</td>\n",
              "    </tr>\n",
              "    <tr>\n",
              "      <th>7695213</th>\n",
              "      <td>40015141</td>\n",
              "      <td>49.677648</td>\n",
              "      <td>18.322121</td>\n",
              "    </tr>\n",
              "  </tbody>\n",
              "</table>\n",
              "<p>2241 rows × 3 columns</p>\n",
              "</div>"
            ],
            "text/plain": [
              "         segment_id        lat        lon\n",
              "0          40000000  50.113467  14.587899\n",
              "2          40000001  50.114363  14.588246\n",
              "4          40000010  50.102750  14.590411\n",
              "6          40000011  50.110105  14.588064\n",
              "8          40000020  50.092003  14.594524\n",
              "...             ...        ...        ...\n",
              "1551775    40015231  50.072486  14.751264\n",
              "4997412    40015120  49.660566  18.343925\n",
              "5027141    40015121  49.661861  18.338461\n",
              "7695212    40015140  49.675312  18.322392\n",
              "7695213    40015141  49.677648  18.322121\n",
              "\n",
              "[2241 rows x 3 columns]"
            ]
          },
          "execution_count": 74,
          "metadata": {},
          "output_type": "execute_result"
        }
      ],
      "source": [
        "# segments with locations\n",
        "segments = data_df[['segment_id', 'lat', 'lon']].drop_duplicates()\n",
        "segments"
      ]
    },
    {
      "cell_type": "code",
      "execution_count": 75,
      "id": "4964e970",
      "metadata": {
        "id": "4964e970"
      },
      "outputs": [],
      "source": [
        "geometry = [Point(xy) for xy in zip(segments.lon, segments.lat)]\n",
        "segments_gdf = GeoDataFrame(segments, crs=\"EPSG:4326\", geometry=geometry)"
      ]
    },
    {
      "cell_type": "code",
      "execution_count": 13,
      "id": "2bfbb20c",
      "metadata": {
        "id": "2bfbb20c",
        "outputId": "88312a1d-31c6-43ee-faef-6e77f291d57e"
      },
      "outputs": [
        {
          "data": {
            "text/plain": [
              "Text(0.5, 1.0, 'segment locations')"
            ]
          },
          "execution_count": 13,
          "metadata": {},
          "output_type": "execute_result"
        },
        {
          "data": {
            "image/png": "[encoded data removed]",
            "text/plain": [
              "<Figure size 720x720 with 1 Axes>"
            ]
          },
          "metadata": {
            "needs_background": "light"
          },
          "output_type": "display_data"
        }
      ],
      "source": [
        "# plot segments\n",
        "ax = segments_gdf.plot(figsize=(10, 10))\n",
        "ax.set_title('segment locations')"
      ]
    },
    {
      "attachments": {},
      "cell_type": "markdown",
      "id": "9568496d",
      "metadata": {},
      "source": [
        "## Avg speed"
      ]
    },
    {
      "cell_type": "code",
      "execution_count": 14,
      "id": "b6b99750",
      "metadata": {
        "id": "b6b99750",
        "outputId": "0be286e2-9501-4479-fb46-3045da99e9a7"
      },
      "outputs": [
        {
          "data": {
            "text/plain": [
              "count    1.025000e+07\n",
              "mean     7.881881e+01\n",
              "std      1.037797e+01\n",
              "min      0.000000e+00\n",
              "25%      7.371000e+01\n",
              "50%      8.187000e+01\n",
              "75%      8.637000e+01\n",
              "max      1.651600e+02\n",
              "Name: avg_speed, dtype: float64"
            ]
          },
          "execution_count": 14,
          "metadata": {},
          "output_type": "execute_result"
        }
      ],
      "source": [
        "# avg speed stats\n",
        "data_df['avg_speed'].describe()"
      ]
    },
    {
      "cell_type": "code",
      "execution_count": 15,
      "id": "318a975d",
      "metadata": {
        "id": "318a975d"
      },
      "outputs": [],
      "source": [
        "segment_avgSpd = data_df.groupby('segment_id').agg({'avg_speed': 'mean'})\n",
        "avg_speed = segments_gdf.merge(segment_avgSpd, on='segment_id')"
      ]
    },
    {
      "cell_type": "code",
      "execution_count": 16,
      "id": "7122469e",
      "metadata": {},
      "outputs": [
        {
          "data": {
            "text/html": [
              "<div>\n",
              "<style scoped>\n",
              "    .dataframe tbody tr th:only-of-type {\n",
              "        vertical-align: middle;\n",
              "    }\n",
              "\n",
              "    .dataframe tbody tr th {\n",
              "        vertical-align: top;\n",
              "    }\n",
              "\n",
              "    .dataframe thead th {\n",
              "        text-align: right;\n",
              "    }\n",
              "</style>\n",
              "<table border=\"1\" class=\"dataframe\">\n",
              "  <thead>\n",
              "    <tr style=\"text-align: right;\">\n",
              "      <th></th>\n",
              "      <th>segment_id</th>\n",
              "      <th>lat</th>\n",
              "      <th>lon</th>\n",
              "      <th>geometry</th>\n",
              "      <th>avg_speed</th>\n",
              "    </tr>\n",
              "  </thead>\n",
              "  <tbody>\n",
              "    <tr>\n",
              "      <th>0</th>\n",
              "      <td>40000000</td>\n",
              "      <td>50.113467</td>\n",
              "      <td>14.587899</td>\n",
              "      <td>POINT (14.58790 50.11347)</td>\n",
              "      <td>75.532681</td>\n",
              "    </tr>\n",
              "    <tr>\n",
              "      <th>1</th>\n",
              "      <td>40000001</td>\n",
              "      <td>50.114363</td>\n",
              "      <td>14.588246</td>\n",
              "      <td>POINT (14.58825 50.11436)</td>\n",
              "      <td>79.387276</td>\n",
              "    </tr>\n",
              "    <tr>\n",
              "      <th>2</th>\n",
              "      <td>40000010</td>\n",
              "      <td>50.102750</td>\n",
              "      <td>14.590411</td>\n",
              "      <td>POINT (14.59041 50.10275)</td>\n",
              "      <td>82.900669</td>\n",
              "    </tr>\n",
              "    <tr>\n",
              "      <th>3</th>\n",
              "      <td>40000011</td>\n",
              "      <td>50.110105</td>\n",
              "      <td>14.588064</td>\n",
              "      <td>POINT (14.58806 50.11010)</td>\n",
              "      <td>75.886416</td>\n",
              "    </tr>\n",
              "    <tr>\n",
              "      <th>4</th>\n",
              "      <td>40000020</td>\n",
              "      <td>50.092003</td>\n",
              "      <td>14.594524</td>\n",
              "      <td>POINT (14.59452 50.09200)</td>\n",
              "      <td>76.412280</td>\n",
              "    </tr>\n",
              "  </tbody>\n",
              "</table>\n",
              "</div>"
            ],
            "text/plain": [
              "   segment_id        lat        lon                   geometry  avg_speed\n",
              "0    40000000  50.113467  14.587899  POINT (14.58790 50.11347)  75.532681\n",
              "1    40000001  50.114363  14.588246  POINT (14.58825 50.11436)  79.387276\n",
              "2    40000010  50.102750  14.590411  POINT (14.59041 50.10275)  82.900669\n",
              "3    40000011  50.110105  14.588064  POINT (14.58806 50.11010)  75.886416\n",
              "4    40000020  50.092003  14.594524  POINT (14.59452 50.09200)  76.412280"
            ]
          },
          "execution_count": 16,
          "metadata": {},
          "output_type": "execute_result"
        }
      ],
      "source": [
        "avg_speed.head()"
      ]
    },
    {
      "cell_type": "code",
      "execution_count": 18,
      "id": "8c115f78",
      "metadata": {
        "id": "8c115f78",
        "outputId": "53b1e23d-75d0-4550-9311-b59df17152bb"
      },
      "outputs": [
        {
          "data": {
            "text/plain": [
              "Text(0.5, 1.0, 'avg speed by segment')"
            ]
          },
          "execution_count": 18,
          "metadata": {},
          "output_type": "execute_result"
        },
        {
          "data": {
            "image/png": "[encoded data removed]",
            "text/plain": [
              "<Figure size 720x720 with 1 Axes>"
            ]
          },
          "metadata": {
            "needs_background": "light"
          },
          "output_type": "display_data"
        }
      ],
      "source": [
        "ax = avg_speed.plot(column='avg_speed', cmap='OrRd', k=10, scheme='Percentiles', figsize=(10, 10), legend=True)\n",
        "ax.set_title('avg speed by segment')"
      ]
    },
    {
      "attachments": {},
      "cell_type": "markdown",
      "id": "87f535fe",
      "metadata": {},
      "source": [
        "## Avg intensity"
      ]
    },
    {
      "cell_type": "code",
      "execution_count": 19,
      "id": "9f357f62",
      "metadata": {
        "id": "9f357f62"
      },
      "outputs": [],
      "source": [
        "# plot avg intensity by segments\n",
        "segment_avgIntensity = data_df.groupby('segment_id').agg({'intensity': 'mean'})\n",
        "avg_intensity = segments_gdf.merge(segment_avgIntensity, on='segment_id')"
      ]
    },
    {
      "cell_type": "code",
      "execution_count": 20,
      "id": "5f858ab7",
      "metadata": {
        "id": "5f858ab7",
        "outputId": "8fb73ac6-b5f3-4dd5-fd0d-c9b46d2e3cff"
      },
      "outputs": [
        {
          "data": {
            "text/plain": [
              "Text(0.5, 1.0, 'avg intensity by segment')"
            ]
          },
          "execution_count": 20,
          "metadata": {},
          "output_type": "execute_result"
        },
        {
          "data": {
            "image/png": "[encoded data removed]",
            "text/plain": [
              "<Figure size 720x720 with 1 Axes>"
            ]
          },
          "metadata": {
            "needs_background": "light"
          },
          "output_type": "display_data"
        }
      ],
      "source": [
        "ax = avg_intensity.plot(column='intensity', k=10, scheme='Percentiles', figsize=(10, 10), legend=True)\n",
        "ax.set_title('avg intensity by segment')"
      ]
    },
    {
      "cell_type": "code",
      "execution_count": 21,
      "id": "a0319faf",
      "metadata": {
        "id": "a0319faf"
      },
      "outputs": [
        {
          "data": {
            "text/plain": [
              "count    1.025000e+07\n",
              "mean     1.144768e+01\n",
              "std      1.752265e+01\n",
              "min      1.000000e+00\n",
              "25%      2.000000e+00\n",
              "50%      5.000000e+00\n",
              "75%      1.300000e+01\n",
              "max      2.750000e+02\n",
              "Name: intensity, dtype: float64"
            ]
          },
          "execution_count": 21,
          "metadata": {},
          "output_type": "execute_result"
        }
      ],
      "source": [
        "totalIntensity = data_df['intensity']\n",
        "totalIntensity.describe()"
      ]
    },
    {
      "cell_type": "code",
      "execution_count": 22,
      "id": "e158a7be",
      "metadata": {
        "id": "e158a7be",
        "outputId": "c9775fdb-be2f-4821-8179-41481afdd65d"
      },
      "outputs": [
        {
          "data": {
            "text/plain": [
              "Text(0.5, 1.0, 'intensity distribution over the observed month')"
            ]
          },
          "execution_count": 22,
          "metadata": {},
          "output_type": "execute_result"
        },
        {
          "data": {
            "image/png": "[encoded data removed]",
            "text/plain": [
              "<Figure size 432x288 with 1 Axes>"
            ]
          },
          "metadata": {
            "needs_background": "light"
          },
          "output_type": "display_data"
        }
      ],
      "source": [
        "totalIntensity.plot.hist(bins=50)\n",
        "plt.title('intensity distribution over the observed month')"
      ]
    },
    {
      "cell_type": "code",
      "execution_count": 29,
      "id": "304a1f84",
      "metadata": {},
      "outputs": [],
      "source": [
        "data_df['hour'] = data_df['timestamp'].apply(lambda x: x.hour)\n",
        "data_df['week_day'] = data_df['timestamp'].apply(lambda x: x.dayofweek)"
      ]
    },
    {
      "cell_type": "code",
      "execution_count": 34,
      "id": "423900a3",
      "metadata": {
        "id": "423900a3",
        "outputId": "29a8023e-6f50-4e10-8a54-3081e76c2c5e",
        "scrolled": true
      },
      "outputs": [
        {
          "data": {
            "image/png": "[encoded data removed]",
            "text/plain": [
              "<Figure size 720x504 with 1 Axes>"
            ]
          },
          "metadata": {
            "needs_background": "light"
          },
          "output_type": "display_data"
        }
      ],
      "source": [
        "df_hour = data_df.groupby('hour').agg({'intensity':'sum'})\n",
        "plt.figure(figsize=(10, 7))\n",
        "plt.bar(df_hour.index, df_hour['intensity'])\n",
        "plt.title('total intensity by hour')\n",
        "plt.xticks(range(0, 24));"
      ]
    },
    {
      "cell_type": "code",
      "execution_count": 51,
      "id": "c23cdb04",
      "metadata": {
        "id": "c23cdb04",
        "outputId": "3ed55c03-39be-4df4-f091-10abcb34fc58"
      },
      "outputs": [
        {
          "data": {
            "image/png": "[encoded data removed]",
            "text/plain": [
              "<Figure size 576x432 with 1 Axes>"
            ]
          },
          "metadata": {
            "needs_background": "light"
          },
          "output_type": "display_data"
        }
      ],
      "source": [
        "df_week = data_df.groupby('week_day').agg({'intensity':'sum'})\n",
        "plt.figure(figsize=(8, 6))\n",
        "plt.bar(df_week.index+1, df_week['intensity'])\n",
        "plt.title('total intensity by weekday')\n",
        "plt.xticks(range(1, 8));"
      ]
    },
    {
      "attachments": {},
      "cell_type": "markdown",
      "id": "dec04cf8",
      "metadata": {
        "id": "dec04cf8"
      },
      "source": [
        "# Understanding segment names/roads etc."
      ]
    },
    {
      "cell_type": "code",
      "execution_count": 52,
      "id": "051569e9",
      "metadata": {},
      "outputs": [
        {
          "data": {
            "text/html": [
              "<div>\n",
              "<style scoped>\n",
              "    .dataframe tbody tr th:only-of-type {\n",
              "        vertical-align: middle;\n",
              "    }\n",
              "\n",
              "    .dataframe tbody tr th {\n",
              "        vertical-align: top;\n",
              "    }\n",
              "\n",
              "    .dataframe thead th {\n",
              "        text-align: right;\n",
              "    }\n",
              "</style>\n",
              "<table border=\"1\" class=\"dataframe\">\n",
              "  <thead>\n",
              "    <tr style=\"text-align: right;\">\n",
              "      <th></th>\n",
              "      <th>timestamp</th>\n",
              "      <th>segment_id</th>\n",
              "      <th>segment_name</th>\n",
              "      <th>lat</th>\n",
              "      <th>lon</th>\n",
              "      <th>intensity</th>\n",
              "      <th>avg_speed</th>\n",
              "      <th>speed_variance</th>\n",
              "      <th>hour</th>\n",
              "      <th>week_day</th>\n",
              "    </tr>\n",
              "  </thead>\n",
              "  <tbody>\n",
              "    <tr>\n",
              "      <th>0</th>\n",
              "      <td>2022-01-17 19:00:00</td>\n",
              "      <td>40000000</td>\n",
              "      <td>D00-001</td>\n",
              "      <td>50.113467</td>\n",
              "      <td>14.587899</td>\n",
              "      <td>9</td>\n",
              "      <td>76.12</td>\n",
              "      <td>55.82</td>\n",
              "      <td>19</td>\n",
              "      <td>0</td>\n",
              "    </tr>\n",
              "    <tr>\n",
              "      <th>1</th>\n",
              "      <td>2022-01-17 19:00:00</td>\n",
              "      <td>40000000</td>\n",
              "      <td>D00-001</td>\n",
              "      <td>50.113467</td>\n",
              "      <td>14.587899</td>\n",
              "      <td>45</td>\n",
              "      <td>79.09</td>\n",
              "      <td>46.57</td>\n",
              "      <td>19</td>\n",
              "      <td>0</td>\n",
              "    </tr>\n",
              "    <tr>\n",
              "      <th>2</th>\n",
              "      <td>2022-01-17 19:00:00</td>\n",
              "      <td>40000001</td>\n",
              "      <td>D00-001</td>\n",
              "      <td>50.114363</td>\n",
              "      <td>14.588246</td>\n",
              "      <td>8</td>\n",
              "      <td>84.10</td>\n",
              "      <td>18.19</td>\n",
              "      <td>19</td>\n",
              "      <td>0</td>\n",
              "    </tr>\n",
              "    <tr>\n",
              "      <th>3</th>\n",
              "      <td>2022-01-17 19:00:00</td>\n",
              "      <td>40000001</td>\n",
              "      <td>D00-001</td>\n",
              "      <td>50.114363</td>\n",
              "      <td>14.588246</td>\n",
              "      <td>38</td>\n",
              "      <td>82.36</td>\n",
              "      <td>25.11</td>\n",
              "      <td>19</td>\n",
              "      <td>0</td>\n",
              "    </tr>\n",
              "    <tr>\n",
              "      <th>4</th>\n",
              "      <td>2022-01-17 19:00:00</td>\n",
              "      <td>40000010</td>\n",
              "      <td>D00-002</td>\n",
              "      <td>50.102750</td>\n",
              "      <td>14.590411</td>\n",
              "      <td>51</td>\n",
              "      <td>84.88</td>\n",
              "      <td>90.76</td>\n",
              "      <td>19</td>\n",
              "      <td>0</td>\n",
              "    </tr>\n",
              "  </tbody>\n",
              "</table>\n",
              "</div>"
            ],
            "text/plain": [
              "            timestamp  segment_id segment_name        lat        lon  \\\n",
              "0 2022-01-17 19:00:00    40000000      D00-001  50.113467  14.587899   \n",
              "1 2022-01-17 19:00:00    40000000      D00-001  50.113467  14.587899   \n",
              "2 2022-01-17 19:00:00    40000001      D00-001  50.114363  14.588246   \n",
              "3 2022-01-17 19:00:00    40000001      D00-001  50.114363  14.588246   \n",
              "4 2022-01-17 19:00:00    40000010      D00-002  50.102750  14.590411   \n",
              "\n",
              "   intensity  avg_speed  speed_variance  hour  week_day  \n",
              "0          9      76.12           55.82    19         0  \n",
              "1         45      79.09           46.57    19         0  \n",
              "2          8      84.10           18.19    19         0  \n",
              "3         38      82.36           25.11    19         0  \n",
              "4         51      84.88           90.76    19         0  "
            ]
          },
          "execution_count": 52,
          "metadata": {},
          "output_type": "execute_result"
        }
      ],
      "source": [
        "data_df.head()"
      ]
    },
    {
      "cell_type": "code",
      "execution_count": 65,
      "id": "df9e73d5",
      "metadata": {
        "id": "df9e73d5",
        "outputId": "299243be-0b12-4990-97fb-09b651d0cfc5"
      },
      "outputs": [],
      "source": [
        "# check segment names and attached segment ids\n",
        "segment_names = data_df.groupby('segment_name').agg({'segment_id': lambda x: set(x)})"
      ]
    },
    {
      "cell_type": "code",
      "execution_count": 66,
      "id": "7edf036c",
      "metadata": {
        "id": "7edf036c",
        "outputId": "be75f003-bdab-4d91-ad09-01a7098caf3d"
      },
      "outputs": [
        {
          "data": {
            "text/html": [
              "<div>\n",
              "<style scoped>\n",
              "    .dataframe tbody tr th:only-of-type {\n",
              "        vertical-align: middle;\n",
              "    }\n",
              "\n",
              "    .dataframe tbody tr th {\n",
              "        vertical-align: top;\n",
              "    }\n",
              "\n",
              "    .dataframe thead th {\n",
              "        text-align: right;\n",
              "    }\n",
              "</style>\n",
              "<table border=\"1\" class=\"dataframe\">\n",
              "  <thead>\n",
              "    <tr style=\"text-align: right;\">\n",
              "      <th></th>\n",
              "      <th>segment_id</th>\n",
              "    </tr>\n",
              "    <tr>\n",
              "      <th>segment_name</th>\n",
              "      <th></th>\n",
              "    </tr>\n",
              "  </thead>\n",
              "  <tbody>\n",
              "    <tr>\n",
              "      <th>D00-001</th>\n",
              "      <td>{40000000, 40000001}</td>\n",
              "    </tr>\n",
              "    <tr>\n",
              "      <th>D00-002</th>\n",
              "      <td>{40000010, 40000011}</td>\n",
              "    </tr>\n",
              "    <tr>\n",
              "      <th>D00-003</th>\n",
              "      <td>{40000020, 40000021}</td>\n",
              "    </tr>\n",
              "    <tr>\n",
              "      <th>D00-004</th>\n",
              "      <td>{40000030, 40000031}</td>\n",
              "    </tr>\n",
              "    <tr>\n",
              "      <th>D00-005</th>\n",
              "      <td>{40000040, 40000041}</td>\n",
              "    </tr>\n",
              "    <tr>\n",
              "      <th>...</th>\n",
              "      <td>...</td>\n",
              "    </tr>\n",
              "    <tr>\n",
              "      <th>I58-014</th>\n",
              "      <td>{40015170, 40015171}</td>\n",
              "    </tr>\n",
              "    <tr>\n",
              "      <th>I63-001</th>\n",
              "      <td>{40010700, 40010701}</td>\n",
              "    </tr>\n",
              "    <tr>\n",
              "      <th>I63-002</th>\n",
              "      <td>{40010710, 40010711}</td>\n",
              "    </tr>\n",
              "    <tr>\n",
              "      <th>I63-003</th>\n",
              "      <td>{40010720, 40010721}</td>\n",
              "    </tr>\n",
              "    <tr>\n",
              "      <th>I63-004</th>\n",
              "      <td>{40010730}</td>\n",
              "    </tr>\n",
              "  </tbody>\n",
              "</table>\n",
              "<p>1128 rows × 1 columns</p>\n",
              "</div>"
            ],
            "text/plain": [
              "                        segment_id\n",
              "segment_name                      \n",
              "D00-001       {40000000, 40000001}\n",
              "D00-002       {40000010, 40000011}\n",
              "D00-003       {40000020, 40000021}\n",
              "D00-004       {40000030, 40000031}\n",
              "D00-005       {40000040, 40000041}\n",
              "...                            ...\n",
              "I58-014       {40015170, 40015171}\n",
              "I63-001       {40010700, 40010701}\n",
              "I63-002       {40010710, 40010711}\n",
              "I63-003       {40010720, 40010721}\n",
              "I63-004                 {40010730}\n",
              "\n",
              "[1128 rows x 1 columns]"
            ]
          },
          "execution_count": 66,
          "metadata": {},
          "output_type": "execute_result"
        }
      ],
      "source": [
        "segment_names"
      ]
    },
    {
      "cell_type": "code",
      "execution_count": 139,
      "id": "0531d9a6",
      "metadata": {},
      "outputs": [
        {
          "data": {
            "text/plain": [
              "segment_id    {40012221}\n",
              "Name: D04-012, dtype: object"
            ]
          },
          "execution_count": 139,
          "metadata": {},
          "output_type": "execute_result"
        }
      ],
      "source": [
        "segment_names.loc['D04-012']"
      ]
    },
    {
      "cell_type": "code",
      "execution_count": 140,
      "id": "a90d4b2c",
      "metadata": {},
      "outputs": [
        {
          "data": {
            "text/html": [
              "<div>\n",
              "<style scoped>\n",
              "    .dataframe tbody tr th:only-of-type {\n",
              "        vertical-align: middle;\n",
              "    }\n",
              "\n",
              "    .dataframe tbody tr th {\n",
              "        vertical-align: top;\n",
              "    }\n",
              "\n",
              "    .dataframe thead th {\n",
              "        text-align: right;\n",
              "    }\n",
              "</style>\n",
              "<table border=\"1\" class=\"dataframe\">\n",
              "  <thead>\n",
              "    <tr style=\"text-align: right;\">\n",
              "      <th></th>\n",
              "      <th>segment_id</th>\n",
              "      <th>lat</th>\n",
              "      <th>lon</th>\n",
              "      <th>geometry</th>\n",
              "    </tr>\n",
              "  </thead>\n",
              "  <tbody>\n",
              "    <tr>\n",
              "      <th>3500</th>\n",
              "      <td>40012221</td>\n",
              "      <td>49.869908</td>\n",
              "      <td>14.269801</td>\n",
              "      <td>POINT (14.26980 49.86991)</td>\n",
              "    </tr>\n",
              "  </tbody>\n",
              "</table>\n",
              "</div>"
            ],
            "text/plain": [
              "      segment_id        lat        lon                   geometry\n",
              "3500    40012221  49.869908  14.269801  POINT (14.26980 49.86991)"
            ]
          },
          "execution_count": 140,
          "metadata": {},
          "output_type": "execute_result"
        }
      ],
      "source": [
        "segments[segments.segment_id == 40012221]"
      ]
    },
    {
      "cell_type": "code",
      "execution_count": 69,
      "id": "a66726b6",
      "metadata": {
        "id": "a66726b6",
        "outputId": "031bb5da-f6a1-4d53-a315-74e999e3557a"
      },
      "outputs": [
        {
          "data": {
            "text/html": [
              "<div>\n",
              "<style scoped>\n",
              "    .dataframe tbody tr th:only-of-type {\n",
              "        vertical-align: middle;\n",
              "    }\n",
              "\n",
              "    .dataframe tbody tr th {\n",
              "        vertical-align: top;\n",
              "    }\n",
              "\n",
              "    .dataframe thead th {\n",
              "        text-align: right;\n",
              "    }\n",
              "</style>\n",
              "<table border=\"1\" class=\"dataframe\">\n",
              "  <thead>\n",
              "    <tr style=\"text-align: right;\">\n",
              "      <th></th>\n",
              "      <th>segment_id</th>\n",
              "      <th>lat</th>\n",
              "      <th>lon</th>\n",
              "      <th>geometry</th>\n",
              "    </tr>\n",
              "  </thead>\n",
              "  <tbody>\n",
              "    <tr>\n",
              "      <th>0</th>\n",
              "      <td>40000000</td>\n",
              "      <td>50.113467</td>\n",
              "      <td>14.587899</td>\n",
              "      <td>POINT (14.58790 50.11347)</td>\n",
              "    </tr>\n",
              "  </tbody>\n",
              "</table>\n",
              "</div>"
            ],
            "text/plain": [
              "   segment_id        lat        lon                   geometry\n",
              "0    40000000  50.113467  14.587899  POINT (14.58790 50.11347)"
            ]
          },
          "execution_count": 69,
          "metadata": {},
          "output_type": "execute_result"
        }
      ],
      "source": [
        "# check ids for a segment name D00-001\n",
        "segments[segments.segment_id == 40000000]"
      ]
    },
    {
      "cell_type": "code",
      "execution_count": 137,
      "id": "4cb928af",
      "metadata": {
        "id": "4cb928af",
        "outputId": "01990f2b-ce9c-4384-c9bf-e9bae16a8a46"
      },
      "outputs": [
        {
          "data": {
            "text/html": [
              "<div>\n",
              "<style scoped>\n",
              "    .dataframe tbody tr th:only-of-type {\n",
              "        vertical-align: middle;\n",
              "    }\n",
              "\n",
              "    .dataframe tbody tr th {\n",
              "        vertical-align: top;\n",
              "    }\n",
              "\n",
              "    .dataframe thead th {\n",
              "        text-align: right;\n",
              "    }\n",
              "</style>\n",
              "<table border=\"1\" class=\"dataframe\">\n",
              "  <thead>\n",
              "    <tr style=\"text-align: right;\">\n",
              "      <th></th>\n",
              "      <th>segment_id</th>\n",
              "      <th>lat</th>\n",
              "      <th>lon</th>\n",
              "      <th>geometry</th>\n",
              "    </tr>\n",
              "  </thead>\n",
              "  <tbody>\n",
              "    <tr>\n",
              "      <th>2</th>\n",
              "      <td>40000001</td>\n",
              "      <td>50.114363</td>\n",
              "      <td>14.588246</td>\n",
              "      <td>POINT (14.58825 50.11436)</td>\n",
              "    </tr>\n",
              "  </tbody>\n",
              "</table>\n",
              "</div>"
            ],
            "text/plain": [
              "   segment_id        lat        lon                   geometry\n",
              "2    40000001  50.114363  14.588246  POINT (14.58825 50.11436)"
            ]
          },
          "execution_count": 137,
          "metadata": {},
          "output_type": "execute_result"
        }
      ],
      "source": [
        "segments_gdf[segments_gdf.segment_id == 40000001]"
      ]
    },
    {
      "cell_type": "code",
      "execution_count": 141,
      "id": "9efaa89c",
      "metadata": {
        "id": "9efaa89c",
        "outputId": "88db6ad2-20a0-4f77-8c1f-2f586b241a8c"
      },
      "outputs": [
        {
          "data": {
            "text/plain": [
              "Text(0.5, 1.0, 'segment locations')"
            ]
          },
          "execution_count": 141,
          "metadata": {},
          "output_type": "execute_result"
        },
        {
          "data": {
            "image/png": "[encoded data removed]",
            "text/plain": [
              "<Figure size 720x720 with 1 Axes>"
            ]
          },
          "metadata": {
            "needs_background": "light"
          },
          "output_type": "display_data"
        }
      ],
      "source": [
        "# plot segments attached with a segment name \n",
        "ax = segments_gdf.plot(figsize=(10, 10))\n",
        "segments_gdf[segments_gdf.segment_id == 40000000].plot(color='red', marker='x', markersize=50, ax=ax)\n",
        "segments_gdf[segments_gdf.segment_id == 40000001].plot(marker='o', markersize=10, ax=ax)\n",
        "segments_gdf[segments_gdf.segment_id == 40012221].plot(color='red', marker='o', markersize=100, ax=ax)\n",
        "ax.set_title('segment locations')"
      ]
    },
    {
      "cell_type": "code",
      "execution_count": null,
      "id": "1a8fdf4a",
      "metadata": {
        "id": "1a8fdf4a"
      },
      "outputs": [],
      "source": [
        "# most segment names seem to have 2 segment ids associated with it, which seems to be overlapping, "
      ]
    },
    {
      "cell_type": "code",
      "execution_count": 76,
      "id": "3bf1738f",
      "metadata": {
        "id": "3bf1738f"
      },
      "outputs": [],
      "source": [
        "# segment name with locations\n",
        "segment_name = data_df[['segment_name', 'segment_road_name', 'lat', 'lon']].drop_duplicates(subset=['segment_name'])\n",
        "geometry = [Point(xy) for xy in zip(segment_name.lon, segment_name.lat)]\n",
        "segment_name_gdf = GeoDataFrame(segment_name, crs=\"EPSG:4326\", geometry=geometry)"
      ]
    },
    {
      "cell_type": "code",
      "execution_count": 77,
      "id": "061f5b7f",
      "metadata": {
        "id": "061f5b7f",
        "outputId": "101d2b62-a432-400e-b96c-bb712688d0ac"
      },
      "outputs": [
        {
          "data": {
            "text/plain": [
              "Text(0.5, 1.0, 'segment name locations')"
            ]
          },
          "execution_count": 77,
          "metadata": {},
          "output_type": "execute_result"
        },
        {
          "data": {
            "image/png": "[encoded data removed]",
            "text/plain": [
              "<Figure size 720x720 with 1 Axes>"
            ]
          },
          "metadata": {
            "needs_background": "light"
          },
          "output_type": "display_data"
        }
      ],
      "source": [
        "# plot segments\n",
        "ax = segment_name_gdf.plot(figsize=(10, 10))\n",
        "segment_name_gdf[segment_name_gdf.segment_road_name == 'D0'].plot(figsize=(10, 10), ax=ax)\n",
        "segment_name_gdf[segment_name_gdf.segment_road_name == 'D4'].plot(figsize=(10, 10), ax=ax)\n",
        "ax.set_title('segment name locations')"
      ]
    },
    {
      "cell_type": "code",
      "execution_count": 78,
      "id": "da2773e2",
      "metadata": {
        "id": "da2773e2",
        "outputId": "6c51633e-2ca1-4e5f-97cc-2ebdd5ad4613"
      },
      "outputs": [
        {
          "data": {
            "text/plain": [
              "array(['D0', 'D1', 'D10', 'D11', 'D2', 'D3', 'D35', 'D4', 'D46', 'D48',\n",
              "       'D5', 'D52', 'D55', 'D56', 'D6', 'D7', 'D8', '11', '12', '16',\n",
              "       '19', '20', '26', '3', '30', '33', '34', '35', '37', '38', '4',\n",
              "       '43', '46', '47', '48', '50', '52', '55', '58', '6', '63', '7'],\n",
              "      dtype=object)"
            ]
          },
          "execution_count": 78,
          "metadata": {},
          "output_type": "execute_result"
        }
      ],
      "source": [
        "segment_name_gdf.segment_road_name.unique()"
      ]
    },
    {
      "cell_type": "code",
      "execution_count": 81,
      "id": "e15f2abb",
      "metadata": {},
      "outputs": [
        {
          "data": {
            "text/plain": [
              "array(['D00-001', 'D00-002', 'D00-003', ..., 'D07-012', 'D48-011',\n",
              "       'D56-007'], dtype=object)"
            ]
          },
          "execution_count": 81,
          "metadata": {},
          "output_type": "execute_result"
        }
      ],
      "source": [
        "segment_name_gdf.segment_name.unique()"
      ]
    },
    {
      "cell_type": "code",
      "execution_count": 79,
      "id": "77865ed1",
      "metadata": {
        "id": "77865ed1"
      },
      "outputs": [],
      "source": [
        "#segment_name_gdf.to_csv('czech_roads.csv', index=False)"
      ]
    },
    {
      "attachments": {},
      "cell_type": "markdown",
      "id": "37143a73",
      "metadata": {
        "id": "37143a73"
      },
      "source": [
        "# Make and visualize the network"
      ]
    },
    {
      "cell_type": "code",
      "execution_count": 80,
      "id": "b5d3b416",
      "metadata": {
        "id": "b5d3b416",
        "outputId": "a20a6bcc-42e0-4a6c-b25f-1acc2dc4cd5f"
      },
      "outputs": [
        {
          "data": {
            "text/html": [
              "<div>\n",
              "<style scoped>\n",
              "    .dataframe tbody tr th:only-of-type {\n",
              "        vertical-align: middle;\n",
              "    }\n",
              "\n",
              "    .dataframe tbody tr th {\n",
              "        vertical-align: top;\n",
              "    }\n",
              "\n",
              "    .dataframe thead th {\n",
              "        text-align: right;\n",
              "    }\n",
              "</style>\n",
              "<table border=\"1\" class=\"dataframe\">\n",
              "  <thead>\n",
              "    <tr style=\"text-align: right;\">\n",
              "      <th></th>\n",
              "      <th>segment_from</th>\n",
              "      <th>segment_to</th>\n",
              "    </tr>\n",
              "  </thead>\n",
              "  <tbody>\n",
              "    <tr>\n",
              "      <th>0</th>\n",
              "      <td>D00-015</td>\n",
              "      <td>D06-001</td>\n",
              "    </tr>\n",
              "    <tr>\n",
              "      <th>1</th>\n",
              "      <td>D05-017</td>\n",
              "      <td>I26-005</td>\n",
              "    </tr>\n",
              "    <tr>\n",
              "      <th>2</th>\n",
              "      <td>I26-005</td>\n",
              "      <td>D05-016</td>\n",
              "    </tr>\n",
              "    <tr>\n",
              "      <th>3</th>\n",
              "      <td>D05-014</td>\n",
              "      <td>I20-005</td>\n",
              "    </tr>\n",
              "    <tr>\n",
              "      <th>4</th>\n",
              "      <td>D06-008</td>\n",
              "      <td>I06-025</td>\n",
              "    </tr>\n",
              "    <tr>\n",
              "      <th>...</th>\n",
              "      <td>...</td>\n",
              "      <td>...</td>\n",
              "    </tr>\n",
              "    <tr>\n",
              "      <th>75</th>\n",
              "      <td>D56-007</td>\n",
              "      <td>D48-003</td>\n",
              "    </tr>\n",
              "    <tr>\n",
              "      <th>76</th>\n",
              "      <td>D56-007</td>\n",
              "      <td>D48-011</td>\n",
              "    </tr>\n",
              "    <tr>\n",
              "      <th>77</th>\n",
              "      <td>I11-005</td>\n",
              "      <td>D48-006</td>\n",
              "    </tr>\n",
              "    <tr>\n",
              "      <th>78</th>\n",
              "      <td>I11-020</td>\n",
              "      <td>D01-058</td>\n",
              "    </tr>\n",
              "    <tr>\n",
              "      <th>79</th>\n",
              "      <td>I11-020</td>\n",
              "      <td>D01-059</td>\n",
              "    </tr>\n",
              "  </tbody>\n",
              "</table>\n",
              "<p>80 rows × 2 columns</p>\n",
              "</div>"
            ],
            "text/plain": [
              "   segment_from segment_to\n",
              "0       D00-015    D06-001\n",
              "1       D05-017    I26-005\n",
              "2       I26-005    D05-016\n",
              "3       D05-014    I20-005\n",
              "4       D06-008    I06-025\n",
              "..          ...        ...\n",
              "75      D56-007    D48-003\n",
              "76      D56-007    D48-011\n",
              "77      I11-005    D48-006\n",
              "78      I11-020    D01-058\n",
              "79      I11-020    D01-059\n",
              "\n",
              "[80 rows x 2 columns]"
            ]
          },
          "execution_count": 80,
          "metadata": {},
          "output_type": "execute_result"
        }
      ],
      "source": [
        "connections = pd.DataFrame({'segment_from':['D00-015', 'D05-017','I26-005', \n",
        "                                   'D05-014', 'D06-008', 'D07-006', 'I07-001', 'D07-001', 'D00-015', 'D06-001', \n",
        "                                   'D05-001', 'D05-001', 'I04-001', 'I04-001', 'D00-004', 'D00-004', \n",
        "                                   'I03-001', 'I03-001', 'D04-011', 'D04-011', 'I20-088', 'D03-013', \n",
        "                                   'D03-013', 'I19-011', 'I19-011', 'D03-001', 'D11-001', 'D11-001', 'D10-001', \n",
        "                                   'I12-001', 'I38-025', 'I38-025', 'I12-029', 'I12-029', 'I34-092', \n",
        "                                   'I34-092', 'D01-020', 'D01-020', 'D01-018', 'D01-018', 'D35-001', \n",
        "                                   'D35-001', 'I11-001', 'I11-001', 'D11-013', 'D11-013', 'I11-004', 'I35-071', \n",
        "                                   'I35-071', 'D35-016', 'D35-016', 'D02-001', 'D02-001', 'I52-001', \n",
        "                                   'I52-001', 'I50-001', 'I50-001', 'I43-038', 'I43-038', 'D46-001', \n",
        "                                   'D46-001', 'I35-126', 'D46-011', 'D46-011', 'I46-001', 'D35-008', \n",
        "                                   'D35-008', 'I35-124', 'D01-051', 'D01-051', 'D35-013', 'D48-001', \n",
        "                                   'D48-001', 'I58-013', 'I58-013', 'D56-007', 'D56-007', 'I11-005', \n",
        "                                   'I11-020', 'I11-020'],\n",
        "                            'segment_to':['D06-001', 'I26-005', 'D05-016', 'I20-005', 'I06-025', 'I07-002', 'D07-005', \n",
        "                            'D00-015', 'D06-001', 'D00-014', 'D00-012', 'D00-013', 'D00-007', 'D00-006', \n",
        "                            'D01-005', 'D01-004', 'D01-008', 'D01-007', 'I20-052', 'I20-053', 'I34-001', \n",
        "                            'I34-001', 'I34-002', 'D03-003', 'D03-002', 'I03-027', 'D00-003', 'D00-002', \n",
        "                            'D00-001', 'D00-003', 'D11-006', 'D11-005', 'I38-033', 'I38-034', 'I38-079', \n",
        "                            'I38-080', 'I38-093', 'I38-092', 'I34-077', 'I34-078', 'D11-012', 'D11-011', \n",
        "                            'D11-012', 'D11-013', 'I35-071', 'I35-070', 'I33-001', 'I33-001', 'I11-004', \n",
        "                            'I35-079', 'I35-080', 'D01-032', 'D01-033', 'D01-032', 'D01-031', 'D01-037', \n",
        "                            'D01-038', 'I35-106', 'I35-105', 'D01-040', 'D01-041', 'D35-007', 'D35-007', \n",
        "                            'I46-001', 'D35-007', 'I46-001', 'D46-011', 'D35-002', 'D35-013', 'D01-050', \n",
        "                            'D01-050', 'D01-052', 'D01-053', 'D48-008', 'D48-007', 'D48-003', 'D48-011', \n",
        "                            'D48-006', 'D01-058', 'D01-059']})\n",
        "connections"
      ]
    },
    {
      "cell_type": "code",
      "execution_count": 144,
      "id": "ab10ef11",
      "metadata": {},
      "outputs": [
        {
          "data": {
            "text/html": [
              "<div>\n",
              "<style scoped>\n",
              "    .dataframe tbody tr th:only-of-type {\n",
              "        vertical-align: middle;\n",
              "    }\n",
              "\n",
              "    .dataframe tbody tr th {\n",
              "        vertical-align: top;\n",
              "    }\n",
              "\n",
              "    .dataframe thead th {\n",
              "        text-align: right;\n",
              "    }\n",
              "</style>\n",
              "<table border=\"1\" class=\"dataframe\">\n",
              "  <thead>\n",
              "    <tr style=\"text-align: right;\">\n",
              "      <th></th>\n",
              "      <th>segment_name</th>\n",
              "      <th>segment_road_name</th>\n",
              "      <th>lat</th>\n",
              "      <th>lon</th>\n",
              "      <th>geometry</th>\n",
              "    </tr>\n",
              "  </thead>\n",
              "  <tbody>\n",
              "    <tr>\n",
              "      <th>494</th>\n",
              "      <td>D04-001</td>\n",
              "      <td>D4</td>\n",
              "      <td>49.911785</td>\n",
              "      <td>14.336555</td>\n",
              "      <td>POINT (14.33656 49.91178)</td>\n",
              "    </tr>\n",
              "    <tr>\n",
              "      <th>496</th>\n",
              "      <td>D04-002</td>\n",
              "      <td>D4</td>\n",
              "      <td>49.886854</td>\n",
              "      <td>14.282595</td>\n",
              "      <td>POINT (14.28260 49.88685)</td>\n",
              "    </tr>\n",
              "    <tr>\n",
              "      <th>500</th>\n",
              "      <td>D04-004</td>\n",
              "      <td>D4</td>\n",
              "      <td>49.824431</td>\n",
              "      <td>14.228866</td>\n",
              "      <td>POINT (14.22887 49.82443)</td>\n",
              "    </tr>\n",
              "    <tr>\n",
              "      <th>504</th>\n",
              "      <td>D04-005</td>\n",
              "      <td>D4</td>\n",
              "      <td>49.815497</td>\n",
              "      <td>14.219902</td>\n",
              "      <td>POINT (14.21990 49.81550)</td>\n",
              "    </tr>\n",
              "    <tr>\n",
              "      <th>508</th>\n",
              "      <td>D04-006</td>\n",
              "      <td>D4</td>\n",
              "      <td>49.798255</td>\n",
              "      <td>14.196610</td>\n",
              "      <td>POINT (14.19661 49.79826)</td>\n",
              "    </tr>\n",
              "    <tr>\n",
              "      <th>510</th>\n",
              "      <td>D04-007</td>\n",
              "      <td>D4</td>\n",
              "      <td>49.776509</td>\n",
              "      <td>14.185656</td>\n",
              "      <td>POINT (14.18566 49.77651)</td>\n",
              "    </tr>\n",
              "    <tr>\n",
              "      <th>513</th>\n",
              "      <td>D04-008</td>\n",
              "      <td>D4</td>\n",
              "      <td>49.726380</td>\n",
              "      <td>14.126752</td>\n",
              "      <td>POINT (14.12675 49.72638)</td>\n",
              "    </tr>\n",
              "    <tr>\n",
              "      <th>517</th>\n",
              "      <td>D04-009</td>\n",
              "      <td>D4</td>\n",
              "      <td>49.700581</td>\n",
              "      <td>14.081306</td>\n",
              "      <td>POINT (14.08131 49.70058)</td>\n",
              "    </tr>\n",
              "    <tr>\n",
              "      <th>521</th>\n",
              "      <td>D04-010</td>\n",
              "      <td>D4</td>\n",
              "      <td>49.404316</td>\n",
              "      <td>14.040890</td>\n",
              "      <td>POINT (14.04089 49.40432)</td>\n",
              "    </tr>\n",
              "    <tr>\n",
              "      <th>524</th>\n",
              "      <td>D04-011</td>\n",
              "      <td>D4</td>\n",
              "      <td>49.360780</td>\n",
              "      <td>14.055477</td>\n",
              "      <td>POINT (14.05548 49.36078)</td>\n",
              "    </tr>\n",
              "    <tr>\n",
              "      <th>3500</th>\n",
              "      <td>D04-012</td>\n",
              "      <td>D4</td>\n",
              "      <td>49.869908</td>\n",
              "      <td>14.269801</td>\n",
              "      <td>POINT (14.26980 49.86991)</td>\n",
              "    </tr>\n",
              "    <tr>\n",
              "      <th>3546</th>\n",
              "      <td>D04-003</td>\n",
              "      <td>D4</td>\n",
              "      <td>49.856539</td>\n",
              "      <td>14.257099</td>\n",
              "      <td>POINT (14.25710 49.85654)</td>\n",
              "    </tr>\n",
              "  </tbody>\n",
              "</table>\n",
              "</div>"
            ],
            "text/plain": [
              "     segment_name segment_road_name        lat        lon  \\\n",
              "494       D04-001                D4  49.911785  14.336555   \n",
              "496       D04-002                D4  49.886854  14.282595   \n",
              "500       D04-004                D4  49.824431  14.228866   \n",
              "504       D04-005                D4  49.815497  14.219902   \n",
              "508       D04-006                D4  49.798255  14.196610   \n",
              "510       D04-007                D4  49.776509  14.185656   \n",
              "513       D04-008                D4  49.726380  14.126752   \n",
              "517       D04-009                D4  49.700581  14.081306   \n",
              "521       D04-010                D4  49.404316  14.040890   \n",
              "524       D04-011                D4  49.360780  14.055477   \n",
              "3500      D04-012                D4  49.869908  14.269801   \n",
              "3546      D04-003                D4  49.856539  14.257099   \n",
              "\n",
              "                       geometry  \n",
              "494   POINT (14.33656 49.91178)  \n",
              "496   POINT (14.28260 49.88685)  \n",
              "500   POINT (14.22887 49.82443)  \n",
              "504   POINT (14.21990 49.81550)  \n",
              "508   POINT (14.19661 49.79826)  \n",
              "510   POINT (14.18566 49.77651)  \n",
              "513   POINT (14.12675 49.72638)  \n",
              "517   POINT (14.08131 49.70058)  \n",
              "521   POINT (14.04089 49.40432)  \n",
              "524   POINT (14.05548 49.36078)  \n",
              "3500  POINT (14.26980 49.86991)  \n",
              "3546  POINT (14.25710 49.85654)  "
            ]
          },
          "execution_count": 144,
          "metadata": {},
          "output_type": "execute_result"
        }
      ],
      "source": [
        "road = 'D4'\n",
        "segment_name_gdf[segment_name_gdf.segment_road_name == road]"
      ]
    },
    {
      "cell_type": "code",
      "execution_count": 149,
      "id": "4a648ac3",
      "metadata": {},
      "outputs": [
        {
          "name": "stderr",
          "output_type": "stream",
          "text": [
            "/Users/alex/.virtualenvs/main_env/lib/python3.9/site-packages/geopandas/geodataframe.py:1443: SettingWithCopyWarning: \n",
            "A value is trying to be set on a copy of a slice from a DataFrame.\n",
            "Try using .loc[row_indexer,col_indexer] = value instead\n",
            "\n",
            "See the caveats in the documentation: https://pandas.pydata.org/pandas-docs/stable/user_guide/indexing.html#returning-a-view-versus-a-copy\n",
            "  super().__setitem__(key, value)\n",
            "/Users/alex/.virtualenvs/main_env/lib/python3.9/site-packages/pandas/core/frame.py:5039: SettingWithCopyWarning: \n",
            "A value is trying to be set on a copy of a slice from a DataFrame\n",
            "\n",
            "See the caveats in the documentation: https://pandas.pydata.org/pandas-docs/stable/user_guide/indexing.html#returning-a-view-versus-a-copy\n",
            "  return super().rename(\n"
          ]
        },
        {
          "data": {
            "text/html": [
              "<div>\n",
              "<style scoped>\n",
              "    .dataframe tbody tr th:only-of-type {\n",
              "        vertical-align: middle;\n",
              "    }\n",
              "\n",
              "    .dataframe tbody tr th {\n",
              "        vertical-align: top;\n",
              "    }\n",
              "\n",
              "    .dataframe thead th {\n",
              "        text-align: right;\n",
              "    }\n",
              "</style>\n",
              "<table border=\"1\" class=\"dataframe\">\n",
              "  <thead>\n",
              "    <tr style=\"text-align: right;\">\n",
              "      <th></th>\n",
              "      <th>segment_from</th>\n",
              "      <th>segment_to</th>\n",
              "    </tr>\n",
              "  </thead>\n",
              "  <tbody>\n",
              "    <tr>\n",
              "      <th>0</th>\n",
              "      <td>D04-001</td>\n",
              "      <td>D04-002</td>\n",
              "    </tr>\n",
              "    <tr>\n",
              "      <th>1</th>\n",
              "      <td>D04-002</td>\n",
              "      <td>D04-004</td>\n",
              "    </tr>\n",
              "    <tr>\n",
              "      <th>2</th>\n",
              "      <td>D04-004</td>\n",
              "      <td>D04-005</td>\n",
              "    </tr>\n",
              "    <tr>\n",
              "      <th>3</th>\n",
              "      <td>D04-005</td>\n",
              "      <td>D04-006</td>\n",
              "    </tr>\n",
              "    <tr>\n",
              "      <th>4</th>\n",
              "      <td>D04-006</td>\n",
              "      <td>D04-007</td>\n",
              "    </tr>\n",
              "    <tr>\n",
              "      <th>5</th>\n",
              "      <td>D04-007</td>\n",
              "      <td>D04-008</td>\n",
              "    </tr>\n",
              "    <tr>\n",
              "      <th>6</th>\n",
              "      <td>D04-008</td>\n",
              "      <td>D04-009</td>\n",
              "    </tr>\n",
              "    <tr>\n",
              "      <th>7</th>\n",
              "      <td>D04-009</td>\n",
              "      <td>D04-010</td>\n",
              "    </tr>\n",
              "    <tr>\n",
              "      <th>8</th>\n",
              "      <td>D04-010</td>\n",
              "      <td>D04-011</td>\n",
              "    </tr>\n",
              "    <tr>\n",
              "      <th>9</th>\n",
              "      <td>D04-011</td>\n",
              "      <td>D04-012</td>\n",
              "    </tr>\n",
              "    <tr>\n",
              "      <th>10</th>\n",
              "      <td>D04-012</td>\n",
              "      <td>D04-003</td>\n",
              "    </tr>\n",
              "  </tbody>\n",
              "</table>\n",
              "</div>"
            ],
            "text/plain": [
              "   segment_from segment_to\n",
              "0       D04-001    D04-002\n",
              "1       D04-002    D04-004\n",
              "2       D04-004    D04-005\n",
              "3       D04-005    D04-006\n",
              "4       D04-006    D04-007\n",
              "5       D04-007    D04-008\n",
              "6       D04-008    D04-009\n",
              "7       D04-009    D04-010\n",
              "8       D04-010    D04-011\n",
              "9       D04-011    D04-012\n",
              "10      D04-012    D04-003"
            ]
          },
          "execution_count": 149,
          "metadata": {},
          "output_type": "execute_result"
        }
      ],
      "source": [
        "road_temp = segment_name_gdf[segment_name_gdf.segment_road_name == road]\n",
        "road_temp['segment_from'] = road_temp[['segment_name']].shift()\n",
        "road_temp.rename(columns={'segment_name':'segment_to'}, inplace=True)\n",
        "within_roads = []\n",
        "within_roads.append(road_temp[['segment_from', 'segment_to']])\n",
        "segment_connections = pd.concat(within_roads)\n",
        "segment_connections.dropna(inplace=True)\n",
        "segment_connections.reset_index(drop=True, inplace=True)\n",
        "segment_connections"
      ]
    },
    {
      "cell_type": "code",
      "execution_count": 158,
      "id": "633d4699",
      "metadata": {
        "id": "633d4699",
        "outputId": "4c3d6dbe-09c1-4307-9566-65e851fc64f0"
      },
      "outputs": [
        {
          "name": "stderr",
          "output_type": "stream",
          "text": [
            "/Users/alex/.virtualenvs/main_env/lib/python3.9/site-packages/geopandas/geodataframe.py:1443: SettingWithCopyWarning: \n",
            "A value is trying to be set on a copy of a slice from a DataFrame.\n",
            "Try using .loc[row_indexer,col_indexer] = value instead\n",
            "\n",
            "See the caveats in the documentation: https://pandas.pydata.org/pandas-docs/stable/user_guide/indexing.html#returning-a-view-versus-a-copy\n",
            "  super().__setitem__(key, value)\n",
            "/Users/alex/.virtualenvs/main_env/lib/python3.9/site-packages/pandas/core/frame.py:5039: SettingWithCopyWarning: \n",
            "A value is trying to be set on a copy of a slice from a DataFrame\n",
            "\n",
            "See the caveats in the documentation: https://pandas.pydata.org/pandas-docs/stable/user_guide/indexing.html#returning-a-view-versus-a-copy\n",
            "  return super().rename(\n"
          ]
        }
      ],
      "source": [
        "within_roads = []\n",
        "for road in segment_name_gdf.segment_road_name.unique():\n",
        "    road_temp = segment_name_gdf[segment_name_gdf.segment_road_name == road]\n",
        "    road_temp['segment_from'] = road_temp[['segment_name']].shift()\n",
        "    road_temp.rename(columns={'segment_name':'segment_to'}, inplace=True)\n",
        "    within_roads.append(road_temp[['segment_from', 'segment_to']])"
      ]
    },
    {
      "cell_type": "code",
      "execution_count": 159,
      "id": "24801470",
      "metadata": {
        "id": "24801470",
        "outputId": "f983c732-5368-4273-ca10-18c9f4ecfc8f"
      },
      "outputs": [
        {
          "data": {
            "text/html": [
              "<div>\n",
              "<style scoped>\n",
              "    .dataframe tbody tr th:only-of-type {\n",
              "        vertical-align: middle;\n",
              "    }\n",
              "\n",
              "    .dataframe tbody tr th {\n",
              "        vertical-align: top;\n",
              "    }\n",
              "\n",
              "    .dataframe thead th {\n",
              "        text-align: right;\n",
              "    }\n",
              "</style>\n",
              "<table border=\"1\" class=\"dataframe\">\n",
              "  <thead>\n",
              "    <tr style=\"text-align: right;\">\n",
              "      <th></th>\n",
              "      <th>segment_from</th>\n",
              "      <th>segment_to</th>\n",
              "    </tr>\n",
              "  </thead>\n",
              "  <tbody>\n",
              "    <tr>\n",
              "      <th>0</th>\n",
              "      <td>D00-001</td>\n",
              "      <td>D00-002</td>\n",
              "    </tr>\n",
              "    <tr>\n",
              "      <th>1</th>\n",
              "      <td>D00-002</td>\n",
              "      <td>D00-003</td>\n",
              "    </tr>\n",
              "    <tr>\n",
              "      <th>2</th>\n",
              "      <td>D00-003</td>\n",
              "      <td>D00-004</td>\n",
              "    </tr>\n",
              "    <tr>\n",
              "      <th>3</th>\n",
              "      <td>D00-004</td>\n",
              "      <td>D00-005</td>\n",
              "    </tr>\n",
              "    <tr>\n",
              "      <th>4</th>\n",
              "      <td>D00-005</td>\n",
              "      <td>D00-006</td>\n",
              "    </tr>\n",
              "    <tr>\n",
              "      <th>...</th>\n",
              "      <td>...</td>\n",
              "      <td>...</td>\n",
              "    </tr>\n",
              "    <tr>\n",
              "      <th>1161</th>\n",
              "      <td>D56-007</td>\n",
              "      <td>D48-003</td>\n",
              "    </tr>\n",
              "    <tr>\n",
              "      <th>1162</th>\n",
              "      <td>D56-007</td>\n",
              "      <td>D48-011</td>\n",
              "    </tr>\n",
              "    <tr>\n",
              "      <th>1163</th>\n",
              "      <td>I11-005</td>\n",
              "      <td>D48-006</td>\n",
              "    </tr>\n",
              "    <tr>\n",
              "      <th>1164</th>\n",
              "      <td>I11-020</td>\n",
              "      <td>D01-058</td>\n",
              "    </tr>\n",
              "    <tr>\n",
              "      <th>1165</th>\n",
              "      <td>I11-020</td>\n",
              "      <td>D01-059</td>\n",
              "    </tr>\n",
              "  </tbody>\n",
              "</table>\n",
              "<p>1166 rows × 2 columns</p>\n",
              "</div>"
            ],
            "text/plain": [
              "     segment_from segment_to\n",
              "0         D00-001    D00-002\n",
              "1         D00-002    D00-003\n",
              "2         D00-003    D00-004\n",
              "3         D00-004    D00-005\n",
              "4         D00-005    D00-006\n",
              "...           ...        ...\n",
              "1161      D56-007    D48-003\n",
              "1162      D56-007    D48-011\n",
              "1163      I11-005    D48-006\n",
              "1164      I11-020    D01-058\n",
              "1165      I11-020    D01-059\n",
              "\n",
              "[1166 rows x 2 columns]"
            ]
          },
          "execution_count": 159,
          "metadata": {},
          "output_type": "execute_result"
        }
      ],
      "source": [
        "within_roads.append(connections)\n",
        "segment_connections = pd.concat(within_roads)\n",
        "segment_connections.dropna(inplace=True)\n",
        "segment_connections.reset_index(drop=True, inplace=True)\n",
        "segment_connections"
      ]
    },
    {
      "cell_type": "code",
      "execution_count": 161,
      "id": "07b0a670",
      "metadata": {
        "id": "07b0a670"
      },
      "outputs": [
        {
          "data": {
            "image/png": "[encoded data removed]",
            "text/plain": [
              "<Figure size 720x720 with 1 Axes>"
            ]
          },
          "metadata": {},
          "output_type": "display_data"
        }
      ],
      "source": [
        "import networkx as nx\n",
        "\n",
        "#create road network\n",
        "segments_graph = nx.Graph()\n",
        "for i in segment_connections.index:\n",
        "    segments_graph.add_edge(segment_connections.segment_from[i], segment_connections.segment_to[i])   \n",
        "    \n",
        "#create a dictionary of segment locations\n",
        "segment_position_dict = {segment_name_gdf.segment_name[c]:(segment_name_gdf.lon[c], segment_name_gdf.lat[c]) for c in segment_name_gdf.index}\n",
        "\n",
        "segments_graph.remove_edge('D06-017', 'D06-018')\n",
        "segments_graph.remove_edge('D06-007', 'D06-008')\n",
        "segments_graph.remove_edge('D06-006', 'D06-007')\n",
        "segments_graph.remove_edge('I07-002', 'I07-003')\n",
        "segments_graph.remove_edge('I35-129', 'I35-128')\n",
        "segments_graph.remove_edge('D35-015', 'D35-014')\n",
        "segments_graph.remove_edge('I35-140', 'I35-141')\n",
        "segments_graph.remove_edge('D04-012', 'D04-011')\n",
        "segments_graph.remove_edge('D04-002', 'D04-004')\n",
        "segments_graph.add_edge('D04-002', 'D04-012')\n",
        "segments_graph.add_edge('D04-012', 'D04-003')\n",
        "segments_graph.add_edge('D04-003', 'D04-004')\n",
        "segments_graph.add_edge('D06-007', 'D06-021')\n",
        "segments_graph.add_edge('D06-007', 'I06-001')\n",
        "segments_graph.add_edge('D06-006', 'D06-018')\n",
        "segments_graph.add_edge('I07-003', 'D07-010')\n",
        "#visualize the road newtork\n",
        "plt.figure(figsize = (10,10))\n",
        "nx.draw(segments_graph, pos=segment_position_dict, with_labels=False, arrows=False, node_size=3, width=1, edge_color='green')"
      ]
    },
    {
      "cell_type": "code",
      "execution_count": null,
      "id": "ed3d0fca",
      "metadata": {
        "id": "ed3d0fca"
      },
      "outputs": [],
      "source": [
        "segments_graph_df = nx.to_pandas_edgelist(segments_graph)\n",
        "segments_graph_df = segments_graph_df.rename(columns={'source':'segment_from', 'target':'segment_to'})\n",
        "#segments_graph_df.to_csv('czech_road_connections.csv', index=False)"
      ]
    },
    {
      "cell_type": "code",
      "execution_count": null,
      "id": "d5685299",
      "metadata": {
        "id": "d5685299"
      },
      "outputs": [],
      "source": [
        "with open(\"czech_road_network.p\", 'wb') as f:\n",
        "    pickle.dump(segments_graph, f)\n",
        "    \n",
        "with open(\"czech_road_network.p\", 'rb') as f:  # notice the r instead of w\n",
        "    G_loaded = pickle.load(f)"
      ]
    },
    {
      "attachments": {},
      "cell_type": "markdown",
      "id": "ee362d2d",
      "metadata": {},
      "source": [
        "# Repeated locations"
      ]
    },
    {
      "cell_type": "code",
      "execution_count": 111,
      "id": "1eaa7ecb",
      "metadata": {
        "id": "1eaa7ecb",
        "outputId": "39bf9b36-f65b-4711-ea73-28654f47207e"
      },
      "outputs": [
        {
          "data": {
            "text/html": [
              "<div>\n",
              "<style scoped>\n",
              "    .dataframe tbody tr th:only-of-type {\n",
              "        vertical-align: middle;\n",
              "    }\n",
              "\n",
              "    .dataframe tbody tr th {\n",
              "        vertical-align: top;\n",
              "    }\n",
              "\n",
              "    .dataframe thead th {\n",
              "        text-align: right;\n",
              "    }\n",
              "</style>\n",
              "<table border=\"1\" class=\"dataframe\">\n",
              "  <thead>\n",
              "    <tr style=\"text-align: right;\">\n",
              "      <th></th>\n",
              "      <th>segment_id</th>\n",
              "      <th>lat</th>\n",
              "      <th>lon</th>\n",
              "      <th>geometry</th>\n",
              "    </tr>\n",
              "  </thead>\n",
              "  <tbody>\n",
              "    <tr>\n",
              "      <th>456</th>\n",
              "      <td>40001281</td>\n",
              "      <td>50.142684</td>\n",
              "      <td>15.759507</td>\n",
              "      <td>POINT (15.75951 50.14268)</td>\n",
              "    </tr>\n",
              "  </tbody>\n",
              "</table>\n",
              "</div>"
            ],
            "text/plain": [
              "     segment_id        lat        lon                   geometry\n",
              "456    40001281  50.142684  15.759507  POINT (15.75951 50.14268)"
            ]
          },
          "execution_count": 111,
          "metadata": {},
          "output_type": "execute_result"
        }
      ],
      "source": [
        "# check for a particular segment full name\n",
        "\n",
        "segments_gdf[segments_gdf.segment_id == 40001281]"
      ]
    },
    {
      "cell_type": "code",
      "execution_count": 112,
      "id": "961c89b7",
      "metadata": {
        "id": "961c89b7",
        "outputId": "07687d8d-e3ad-4ee6-cdaf-63cb32d19dcb"
      },
      "outputs": [
        {
          "data": {
            "text/html": [
              "<div>\n",
              "<style scoped>\n",
              "    .dataframe tbody tr th:only-of-type {\n",
              "        vertical-align: middle;\n",
              "    }\n",
              "\n",
              "    .dataframe tbody tr th {\n",
              "        vertical-align: top;\n",
              "    }\n",
              "\n",
              "    .dataframe thead th {\n",
              "        text-align: right;\n",
              "    }\n",
              "</style>\n",
              "<table border=\"1\" class=\"dataframe\">\n",
              "  <thead>\n",
              "    <tr style=\"text-align: right;\">\n",
              "      <th></th>\n",
              "      <th>segment_id</th>\n",
              "      <th>lat</th>\n",
              "      <th>lon</th>\n",
              "      <th>geometry</th>\n",
              "    </tr>\n",
              "  </thead>\n",
              "  <tbody>\n",
              "    <tr>\n",
              "      <th>1543733</th>\n",
              "      <td>40015321</td>\n",
              "      <td>50.142684</td>\n",
              "      <td>15.759507</td>\n",
              "      <td>POINT (15.75951 50.14268)</td>\n",
              "    </tr>\n",
              "  </tbody>\n",
              "</table>\n",
              "</div>"
            ],
            "text/plain": [
              "         segment_id        lat        lon                   geometry\n",
              "1543733    40015321  50.142684  15.759507  POINT (15.75951 50.14268)"
            ]
          },
          "execution_count": 112,
          "metadata": {},
          "output_type": "execute_result"
        }
      ],
      "source": [
        "segments_gdf[segments_gdf.segment_id == 40015321]"
      ]
    },
    {
      "cell_type": "code",
      "execution_count": null,
      "id": "1aecff1c",
      "metadata": {
        "id": "1aecff1c"
      },
      "outputs": [],
      "source": [
        "# repeated location"
      ]
    },
    {
      "cell_type": "code",
      "execution_count": 113,
      "id": "89236d6c",
      "metadata": {
        "id": "89236d6c",
        "outputId": "0f367087-f208-49f8-cf4e-39c9af0139e8"
      },
      "outputs": [
        {
          "data": {
            "text/html": [
              "<div>\n",
              "<style scoped>\n",
              "    .dataframe tbody tr th:only-of-type {\n",
              "        vertical-align: middle;\n",
              "    }\n",
              "\n",
              "    .dataframe tbody tr th {\n",
              "        vertical-align: top;\n",
              "    }\n",
              "\n",
              "    .dataframe thead th {\n",
              "        text-align: right;\n",
              "    }\n",
              "</style>\n",
              "<table border=\"1\" class=\"dataframe\">\n",
              "  <thead>\n",
              "    <tr style=\"text-align: right;\">\n",
              "      <th></th>\n",
              "      <th>segment_id</th>\n",
              "      <th>lat</th>\n",
              "      <th>lon</th>\n",
              "      <th>geometry</th>\n",
              "    </tr>\n",
              "  </thead>\n",
              "  <tbody>\n",
              "    <tr>\n",
              "      <th>1543731</th>\n",
              "      <td>40015320</td>\n",
              "      <td>50.145381</td>\n",
              "      <td>15.750391</td>\n",
              "      <td>POINT (15.75039 50.14538)</td>\n",
              "    </tr>\n",
              "  </tbody>\n",
              "</table>\n",
              "</div>"
            ],
            "text/plain": [
              "         segment_id        lat        lon                   geometry\n",
              "1543731    40015320  50.145381  15.750391  POINT (15.75039 50.14538)"
            ]
          },
          "execution_count": 113,
          "metadata": {},
          "output_type": "execute_result"
        }
      ],
      "source": [
        "# check another\n",
        "\n",
        "segments_gdf[segments_gdf.segment_id == 40015320]"
      ]
    },
    {
      "cell_type": "code",
      "execution_count": 114,
      "id": "ad2dd688",
      "metadata": {
        "id": "ad2dd688",
        "outputId": "c5619ea6-6a73-41df-95f9-21c22e84be88"
      },
      "outputs": [
        {
          "data": {
            "text/html": [
              "<div>\n",
              "<style scoped>\n",
              "    .dataframe tbody tr th:only-of-type {\n",
              "        vertical-align: middle;\n",
              "    }\n",
              "\n",
              "    .dataframe tbody tr th {\n",
              "        vertical-align: top;\n",
              "    }\n",
              "\n",
              "    .dataframe thead th {\n",
              "        text-align: right;\n",
              "    }\n",
              "</style>\n",
              "<table border=\"1\" class=\"dataframe\">\n",
              "  <thead>\n",
              "    <tr style=\"text-align: right;\">\n",
              "      <th></th>\n",
              "      <th>segment_id</th>\n",
              "      <th>lat</th>\n",
              "      <th>lon</th>\n",
              "      <th>geometry</th>\n",
              "    </tr>\n",
              "  </thead>\n",
              "  <tbody>\n",
              "    <tr>\n",
              "      <th>454</th>\n",
              "      <td>40001280</td>\n",
              "      <td>50.145381</td>\n",
              "      <td>15.750391</td>\n",
              "      <td>POINT (15.75039 50.14538)</td>\n",
              "    </tr>\n",
              "  </tbody>\n",
              "</table>\n",
              "</div>"
            ],
            "text/plain": [
              "     segment_id        lat        lon                   geometry\n",
              "454    40001280  50.145381  15.750391  POINT (15.75039 50.14538)"
            ]
          },
          "execution_count": 114,
          "metadata": {},
          "output_type": "execute_result"
        }
      ],
      "source": [
        "segments_gdf[segments_gdf.segment_id == 40001280]"
      ]
    },
    {
      "cell_type": "code",
      "execution_count": null,
      "id": "ed8b867a",
      "metadata": {
        "id": "ed8b867a"
      },
      "outputs": [],
      "source": [
        "# another repeated\n"
      ]
    },
    {
      "cell_type": "code",
      "execution_count": 116,
      "id": "14db95bf",
      "metadata": {
        "id": "14db95bf",
        "outputId": "efe54760-047d-4548-8ca1-3d0694bb0a64"
      },
      "outputs": [
        {
          "data": {
            "text/plain": [
              "42"
            ]
          },
          "execution_count": 116,
          "metadata": {},
          "output_type": "execute_result"
        }
      ],
      "source": [
        "# roads\n",
        "len(data_df['segment_road_name'].unique())"
      ]
    },
    {
      "cell_type": "code",
      "execution_count": 117,
      "id": "0f86b758",
      "metadata": {
        "id": "0f86b758",
        "outputId": "2c9e3181-7d84-4fa0-fa81-b017fbf511ed",
        "scrolled": true
      },
      "outputs": [
        {
          "data": {
            "text/html": [
              "<div>\n",
              "<style scoped>\n",
              "    .dataframe tbody tr th:only-of-type {\n",
              "        vertical-align: middle;\n",
              "    }\n",
              "\n",
              "    .dataframe tbody tr th {\n",
              "        vertical-align: top;\n",
              "    }\n",
              "\n",
              "    .dataframe thead th {\n",
              "        text-align: right;\n",
              "    }\n",
              "</style>\n",
              "<table border=\"1\" class=\"dataframe\">\n",
              "  <thead>\n",
              "    <tr style=\"text-align: right;\">\n",
              "      <th></th>\n",
              "      <th>segment_id</th>\n",
              "    </tr>\n",
              "    <tr>\n",
              "      <th>segment_road_name</th>\n",
              "      <th></th>\n",
              "    </tr>\n",
              "  </thead>\n",
              "  <tbody>\n",
              "    <tr>\n",
              "      <th>11</th>\n",
              "      <td>{40002561, 40002570, 40002571, 40002450, 40002...</td>\n",
              "    </tr>\n",
              "    <tr>\n",
              "      <th>12</th>\n",
              "      <td>{40002690, 40002691, 40002820, 40002821, 40002...</td>\n",
              "    </tr>\n",
              "    <tr>\n",
              "      <th>16</th>\n",
              "      <td>{40003200, 40003201, 40002950, 40002951, 40003...</td>\n",
              "    </tr>\n",
              "    <tr>\n",
              "      <th>19</th>\n",
              "      <td>{40003590, 40003591, 40003610, 40003611, 40003...</td>\n",
              "    </tr>\n",
              "    <tr>\n",
              "      <th>20</th>\n",
              "      <td>{40004100, 40004101, 40004110, 40004111, 40004...</td>\n",
              "    </tr>\n",
              "    <tr>\n",
              "      <th>26</th>\n",
              "      <td>{40004610, 40004611, 40004620, 40004621, 40004...</td>\n",
              "    </tr>\n",
              "    <tr>\n",
              "      <th>3</th>\n",
              "      <td>{40005120, 40005121, 40005250, 40005251, 40005...</td>\n",
              "    </tr>\n",
              "    <tr>\n",
              "      <th>30</th>\n",
              "      <td>{40005280, 40005281, 40005320, 40005321, 40005...</td>\n",
              "    </tr>\n",
              "    <tr>\n",
              "      <th>33</th>\n",
              "      <td>{40005380, 40005381, 40005390, 40005391, 40005...</td>\n",
              "    </tr>\n",
              "    <tr>\n",
              "      <th>34</th>\n",
              "      <td>{40006150, 40006151, 40005640, 40005641, 40006...</td>\n",
              "    </tr>\n",
              "    <tr>\n",
              "      <th>35</th>\n",
              "      <td>{40007680, 40007681, 40007170, 40007171, 40006...</td>\n",
              "    </tr>\n",
              "    <tr>\n",
              "      <th>37</th>\n",
              "      <td>{40007840, 40007841, 40007810, 40007811, 40007...</td>\n",
              "    </tr>\n",
              "    <tr>\n",
              "      <th>38</th>\n",
              "      <td>{40008710, 40008711, 40008200, 40008201, 40008...</td>\n",
              "    </tr>\n",
              "    <tr>\n",
              "      <th>4</th>\n",
              "      <td>{40008800, 40008801, 40008810, 40008811, 40008...</td>\n",
              "    </tr>\n",
              "    <tr>\n",
              "      <th>43</th>\n",
              "      <td>{40008960, 40008961, 40009090, 40009091, 40008...</td>\n",
              "    </tr>\n",
              "    <tr>\n",
              "      <th>46</th>\n",
              "      <td>{40009210, 40009211}</td>\n",
              "    </tr>\n",
              "    <tr>\n",
              "      <th>47</th>\n",
              "      <td>{40012160, 40012161, 40009220, 40009221, 40012...</td>\n",
              "    </tr>\n",
              "    <tr>\n",
              "      <th>48</th>\n",
              "      <td>{40009480, 40009481, 40009490, 40009491, 40009...</td>\n",
              "    </tr>\n",
              "    <tr>\n",
              "      <th>50</th>\n",
              "      <td>{40009730, 40009731, 40009740, 40009741, 40009...</td>\n",
              "    </tr>\n",
              "    <tr>\n",
              "      <th>52</th>\n",
              "      <td>{40010240, 40010241, 40010120, 40010121, 40010...</td>\n",
              "    </tr>\n",
              "    <tr>\n",
              "      <th>55</th>\n",
              "      <td>{40010310, 40010311, 40010280, 40010281, 40010...</td>\n",
              "    </tr>\n",
              "    <tr>\n",
              "      <th>58</th>\n",
              "      <td>{40010370, 40010371, 40010380, 40010381, 40010...</td>\n",
              "    </tr>\n",
              "    <tr>\n",
              "      <th>6</th>\n",
              "      <td>{40010500, 40010501, 40010630, 40010631, 40010...</td>\n",
              "    </tr>\n",
              "    <tr>\n",
              "      <th>63</th>\n",
              "      <td>{40010720, 40010721, 40010730, 40010700, 40010...</td>\n",
              "    </tr>\n",
              "    <tr>\n",
              "      <th>7</th>\n",
              "      <td>{40010760, 40010761, 40010740, 40010741, 40010...</td>\n",
              "    </tr>\n",
              "    <tr>\n",
              "      <th>D0</th>\n",
              "      <td>{40000000, 40000001, 40000130, 40000131, 40000...</td>\n",
              "    </tr>\n",
              "    <tr>\n",
              "      <th>D1</th>\n",
              "      <td>{40000520, 40000521, 40000530, 40000531, 40000...</td>\n",
              "    </tr>\n",
              "    <tr>\n",
              "      <th>D10</th>\n",
              "      <td>{40000900, 40000901, 40000910, 40000911, 40000...</td>\n",
              "    </tr>\n",
              "    <tr>\n",
              "      <th>D11</th>\n",
              "      <td>{40001030, 40001031, 40001040, 40001041, 40001...</td>\n",
              "    </tr>\n",
              "    <tr>\n",
              "      <th>D2</th>\n",
              "      <td>{40001120, 40001121, 40001090, 40001091, 40001...</td>\n",
              "    </tr>\n",
              "    <tr>\n",
              "      <th>D3</th>\n",
              "      <td>{40001160, 40001161, 40001170, 40001171, 40001...</td>\n",
              "    </tr>\n",
              "    <tr>\n",
              "      <th>D35</th>\n",
              "      <td>{40001280, 40001281, 40011010, 40011011, 40001...</td>\n",
              "    </tr>\n",
              "    <tr>\n",
              "      <th>D4</th>\n",
              "      <td>{40001410, 40001411, 40001430, 40001431, 40001...</td>\n",
              "    </tr>\n",
              "    <tr>\n",
              "      <th>D46</th>\n",
              "      <td>{40001540, 40001541, 40001550, 40001551, 40001...</td>\n",
              "    </tr>\n",
              "    <tr>\n",
              "      <th>D48</th>\n",
              "      <td>{40001670, 40001671, 40015120, 40015121, 40012...</td>\n",
              "    </tr>\n",
              "    <tr>\n",
              "      <th>D5</th>\n",
              "      <td>{40001800, 40001801, 40001810, 40001811, 40001...</td>\n",
              "    </tr>\n",
              "    <tr>\n",
              "      <th>D52</th>\n",
              "      <td>{40001920, 40001921, 40001930, 40001931, 40001...</td>\n",
              "    </tr>\n",
              "    <tr>\n",
              "      <th>D55</th>\n",
              "      <td>{40015330, 40015331, 40001960, 40001961, 40012...</td>\n",
              "    </tr>\n",
              "    <tr>\n",
              "      <th>D56</th>\n",
              "      <td>{40002020, 40002021, 40001990, 40001991, 40015...</td>\n",
              "    </tr>\n",
              "    <tr>\n",
              "      <th>D6</th>\n",
              "      <td>{40002050, 40002051, 40002180, 40002181, 40012...</td>\n",
              "    </tr>\n",
              "    <tr>\n",
              "      <th>D7</th>\n",
              "      <td>{40002440, 40002441, 40002200, 40002201, 40002...</td>\n",
              "    </tr>\n",
              "    <tr>\n",
              "      <th>D8</th>\n",
              "      <td>{40002310, 40002311, 40002320, 40002321, 40002...</td>\n",
              "    </tr>\n",
              "  </tbody>\n",
              "</table>\n",
              "</div>"
            ],
            "text/plain": [
              "                                                          segment_id\n",
              "segment_road_name                                                   \n",
              "11                 {40002561, 40002570, 40002571, 40002450, 40002...\n",
              "12                 {40002690, 40002691, 40002820, 40002821, 40002...\n",
              "16                 {40003200, 40003201, 40002950, 40002951, 40003...\n",
              "19                 {40003590, 40003591, 40003610, 40003611, 40003...\n",
              "20                 {40004100, 40004101, 40004110, 40004111, 40004...\n",
              "26                 {40004610, 40004611, 40004620, 40004621, 40004...\n",
              "3                  {40005120, 40005121, 40005250, 40005251, 40005...\n",
              "30                 {40005280, 40005281, 40005320, 40005321, 40005...\n",
              "33                 {40005380, 40005381, 40005390, 40005391, 40005...\n",
              "34                 {40006150, 40006151, 40005640, 40005641, 40006...\n",
              "35                 {40007680, 40007681, 40007170, 40007171, 40006...\n",
              "37                 {40007840, 40007841, 40007810, 40007811, 40007...\n",
              "38                 {40008710, 40008711, 40008200, 40008201, 40008...\n",
              "4                  {40008800, 40008801, 40008810, 40008811, 40008...\n",
              "43                 {40008960, 40008961, 40009090, 40009091, 40008...\n",
              "46                                              {40009210, 40009211}\n",
              "47                 {40012160, 40012161, 40009220, 40009221, 40012...\n",
              "48                 {40009480, 40009481, 40009490, 40009491, 40009...\n",
              "50                 {40009730, 40009731, 40009740, 40009741, 40009...\n",
              "52                 {40010240, 40010241, 40010120, 40010121, 40010...\n",
              "55                 {40010310, 40010311, 40010280, 40010281, 40010...\n",
              "58                 {40010370, 40010371, 40010380, 40010381, 40010...\n",
              "6                  {40010500, 40010501, 40010630, 40010631, 40010...\n",
              "63                 {40010720, 40010721, 40010730, 40010700, 40010...\n",
              "7                  {40010760, 40010761, 40010740, 40010741, 40010...\n",
              "D0                 {40000000, 40000001, 40000130, 40000131, 40000...\n",
              "D1                 {40000520, 40000521, 40000530, 40000531, 40000...\n",
              "D10                {40000900, 40000901, 40000910, 40000911, 40000...\n",
              "D11                {40001030, 40001031, 40001040, 40001041, 40001...\n",
              "D2                 {40001120, 40001121, 40001090, 40001091, 40001...\n",
              "D3                 {40001160, 40001161, 40001170, 40001171, 40001...\n",
              "D35                {40001280, 40001281, 40011010, 40011011, 40001...\n",
              "D4                 {40001410, 40001411, 40001430, 40001431, 40001...\n",
              "D46                {40001540, 40001541, 40001550, 40001551, 40001...\n",
              "D48                {40001670, 40001671, 40015120, 40015121, 40012...\n",
              "D5                 {40001800, 40001801, 40001810, 40001811, 40001...\n",
              "D52                {40001920, 40001921, 40001930, 40001931, 40001...\n",
              "D55                {40015330, 40015331, 40001960, 40001961, 40012...\n",
              "D56                {40002020, 40002021, 40001990, 40001991, 40015...\n",
              "D6                 {40002050, 40002051, 40002180, 40002181, 40012...\n",
              "D7                 {40002440, 40002441, 40002200, 40002201, 40002...\n",
              "D8                 {40002310, 40002311, 40002320, 40002321, 40002..."
            ]
          },
          "execution_count": 117,
          "metadata": {},
          "output_type": "execute_result"
        }
      ],
      "source": [
        "# roads with segment ids\n",
        "roads = data_df.groupby('segment_road_name').agg({'segment_id': lambda x: set(x)})\n",
        "roads"
      ]
    },
    {
      "cell_type": "code",
      "execution_count": 118,
      "id": "9f1050d0",
      "metadata": {
        "id": "9f1050d0",
        "outputId": "eeda66b9-967a-4b7b-dc9d-5982dae0aeb4",
        "scrolled": true
      },
      "outputs": [
        {
          "data": {
            "text/html": [
              "<div>\n",
              "<style scoped>\n",
              "    .dataframe tbody tr th:only-of-type {\n",
              "        vertical-align: middle;\n",
              "    }\n",
              "\n",
              "    .dataframe tbody tr th {\n",
              "        vertical-align: top;\n",
              "    }\n",
              "\n",
              "    .dataframe thead th {\n",
              "        text-align: right;\n",
              "    }\n",
              "</style>\n",
              "<table border=\"1\" class=\"dataframe\">\n",
              "  <thead>\n",
              "    <tr style=\"text-align: right;\">\n",
              "      <th></th>\n",
              "      <th>segment_name</th>\n",
              "    </tr>\n",
              "    <tr>\n",
              "      <th>segment_road_name</th>\n",
              "      <th></th>\n",
              "    </tr>\n",
              "  </thead>\n",
              "  <tbody>\n",
              "    <tr>\n",
              "      <th>11</th>\n",
              "      <td>{I11-008, I11-011, I11-018, I11-017, I11-016, ...</td>\n",
              "    </tr>\n",
              "    <tr>\n",
              "      <th>12</th>\n",
              "      <td>{I12-030, I12-008, I12-004, I12-017, I12-028, ...</td>\n",
              "    </tr>\n",
              "    <tr>\n",
              "      <th>16</th>\n",
              "      <td>{I16-021, I16-016, I16-026, I16-014, I16-033, ...</td>\n",
              "    </tr>\n",
              "    <tr>\n",
              "      <th>19</th>\n",
              "      <td>{I19-024, I19-003, I19-020, I19-019, I19-002, ...</td>\n",
              "    </tr>\n",
              "    <tr>\n",
              "      <th>20</th>\n",
              "      <td>{I20-078, I20-026, I20-054, I20-060, I20-042, ...</td>\n",
              "    </tr>\n",
              "    <tr>\n",
              "      <th>26</th>\n",
              "      <td>{I26-024, I26-015, I26-008, I26-028, I26-045, ...</td>\n",
              "    </tr>\n",
              "    <tr>\n",
              "      <th>3</th>\n",
              "      <td>{I03-007, I03-004, I03-021, I03-008, I03-016, ...</td>\n",
              "    </tr>\n",
              "    <tr>\n",
              "      <th>30</th>\n",
              "      <td>{I30-007, I30-008, I30-003, I30-004, I30-006, ...</td>\n",
              "    </tr>\n",
              "    <tr>\n",
              "      <th>33</th>\n",
              "      <td>{I33-018, I33-025, I33-015, I33-024, I33-023, ...</td>\n",
              "    </tr>\n",
              "    <tr>\n",
              "      <th>34</th>\n",
              "      <td>{I34-006, I34-035, I34-045, I34-012, I34-057, ...</td>\n",
              "    </tr>\n",
              "    <tr>\n",
              "      <th>35</th>\n",
              "      <td>{I35-021, I35-104, I35-035, I35-037, I35-053, ...</td>\n",
              "    </tr>\n",
              "    <tr>\n",
              "      <th>37</th>\n",
              "      <td>{I37-007, I37-004, I37-001, I37-003, I37-002, ...</td>\n",
              "    </tr>\n",
              "    <tr>\n",
              "      <th>38</th>\n",
              "      <td>{I38-012, I38-065, I38-070, I38-067, I38-073, ...</td>\n",
              "    </tr>\n",
              "    <tr>\n",
              "      <th>4</th>\n",
              "      <td>{I04-003, I04-002, I04-001}</td>\n",
              "    </tr>\n",
              "    <tr>\n",
              "      <th>43</th>\n",
              "      <td>{I43-031, I43-022, I43-013, I43-038, I43-020, ...</td>\n",
              "    </tr>\n",
              "    <tr>\n",
              "      <th>46</th>\n",
              "      <td>{I46-001}</td>\n",
              "    </tr>\n",
              "    <tr>\n",
              "      <th>47</th>\n",
              "      <td>{I47-020, I47-003, I47-015, I47-012, I47-018, ...</td>\n",
              "    </tr>\n",
              "    <tr>\n",
              "      <th>48</th>\n",
              "      <td>{I48-004, I48-009, I48-006, I48-003, I48-008, ...</td>\n",
              "    </tr>\n",
              "    <tr>\n",
              "      <th>50</th>\n",
              "      <td>{I50-017, I50-038, I50-003, I50-014, I50-037, ...</td>\n",
              "    </tr>\n",
              "    <tr>\n",
              "      <th>52</th>\n",
              "      <td>{I52-015, I52-012, I52-014, I52-010, I52-003, ...</td>\n",
              "    </tr>\n",
              "    <tr>\n",
              "      <th>55</th>\n",
              "      <td>{I55-006, I55-005, I55-007, I55-002, I55-004, ...</td>\n",
              "    </tr>\n",
              "    <tr>\n",
              "      <th>58</th>\n",
              "      <td>{I58-005, I58-012, I58-013, I58-007, I58-001, ...</td>\n",
              "    </tr>\n",
              "    <tr>\n",
              "      <th>6</th>\n",
              "      <td>{I06-025, I06-019, I06-024, I06-018, I06-017, ...</td>\n",
              "    </tr>\n",
              "    <tr>\n",
              "      <th>63</th>\n",
              "      <td>{I63-001, I63-002, I63-003, I63-004}</td>\n",
              "    </tr>\n",
              "    <tr>\n",
              "      <th>7</th>\n",
              "      <td>{I07-001, I07-003, I07-002}</td>\n",
              "    </tr>\n",
              "    <tr>\n",
              "      <th>D0</th>\n",
              "      <td>{D00-012, D00-014, D00-001, D00-003, D00-008, ...</td>\n",
              "    </tr>\n",
              "    <tr>\n",
              "      <th>D1</th>\n",
              "      <td>{D01-012, D01-001, D01-020, D01-043, D01-056, ...</td>\n",
              "    </tr>\n",
              "    <tr>\n",
              "      <th>D10</th>\n",
              "      <td>{D10-009, D10-014, D10-010, D10-008, D10-001, ...</td>\n",
              "    </tr>\n",
              "    <tr>\n",
              "      <th>D11</th>\n",
              "      <td>{D11-007, D11-006, D11-009, D11-012, D11-004, ...</td>\n",
              "    </tr>\n",
              "    <tr>\n",
              "      <th>D2</th>\n",
              "      <td>{D02-001, D02-006, D02-007, D02-008, D02-002, ...</td>\n",
              "    </tr>\n",
              "    <tr>\n",
              "      <th>D3</th>\n",
              "      <td>{D03-007, D03-011, D03-005, D03-004, D03-009, ...</td>\n",
              "    </tr>\n",
              "    <tr>\n",
              "      <th>D35</th>\n",
              "      <td>{D35-011, D35-012, D35-016, D35-002, D35-013, ...</td>\n",
              "    </tr>\n",
              "    <tr>\n",
              "      <th>D4</th>\n",
              "      <td>{D04-005, D04-006, D04-010, D04-008, D04-004, ...</td>\n",
              "    </tr>\n",
              "    <tr>\n",
              "      <th>D46</th>\n",
              "      <td>{D46-007, D46-012, D46-011, D46-005, D46-004, ...</td>\n",
              "    </tr>\n",
              "    <tr>\n",
              "      <th>D48</th>\n",
              "      <td>{D48-004, D48-003, D48-006, D48-002, D48-005, ...</td>\n",
              "    </tr>\n",
              "    <tr>\n",
              "      <th>D5</th>\n",
              "      <td>{D05-010, D05-021, D05-007, D05-015, D05-001, ...</td>\n",
              "    </tr>\n",
              "    <tr>\n",
              "      <th>D52</th>\n",
              "      <td>{D52-002, D52-003, D52-001}</td>\n",
              "    </tr>\n",
              "    <tr>\n",
              "      <th>D55</th>\n",
              "      <td>{D55-002, D55-001, D55-004, D55-006, D55-005, ...</td>\n",
              "    </tr>\n",
              "    <tr>\n",
              "      <th>D56</th>\n",
              "      <td>{D56-001, D56-003, D56-007, D56-006, D56-002, ...</td>\n",
              "    </tr>\n",
              "    <tr>\n",
              "      <th>D6</th>\n",
              "      <td>{D06-010, D06-013, D06-005, D06-009, D06-011, ...</td>\n",
              "    </tr>\n",
              "    <tr>\n",
              "      <th>D7</th>\n",
              "      <td>{D07-009, D07-008, D07-005, D07-007, D07-006, ...</td>\n",
              "    </tr>\n",
              "    <tr>\n",
              "      <th>D8</th>\n",
              "      <td>{D08-014, D08-006, D08-002, D08-001, D08-005, ...</td>\n",
              "    </tr>\n",
              "  </tbody>\n",
              "</table>\n",
              "</div>"
            ],
            "text/plain": [
              "                                                        segment_name\n",
              "segment_road_name                                                   \n",
              "11                 {I11-008, I11-011, I11-018, I11-017, I11-016, ...\n",
              "12                 {I12-030, I12-008, I12-004, I12-017, I12-028, ...\n",
              "16                 {I16-021, I16-016, I16-026, I16-014, I16-033, ...\n",
              "19                 {I19-024, I19-003, I19-020, I19-019, I19-002, ...\n",
              "20                 {I20-078, I20-026, I20-054, I20-060, I20-042, ...\n",
              "26                 {I26-024, I26-015, I26-008, I26-028, I26-045, ...\n",
              "3                  {I03-007, I03-004, I03-021, I03-008, I03-016, ...\n",
              "30                 {I30-007, I30-008, I30-003, I30-004, I30-006, ...\n",
              "33                 {I33-018, I33-025, I33-015, I33-024, I33-023, ...\n",
              "34                 {I34-006, I34-035, I34-045, I34-012, I34-057, ...\n",
              "35                 {I35-021, I35-104, I35-035, I35-037, I35-053, ...\n",
              "37                 {I37-007, I37-004, I37-001, I37-003, I37-002, ...\n",
              "38                 {I38-012, I38-065, I38-070, I38-067, I38-073, ...\n",
              "4                                        {I04-003, I04-002, I04-001}\n",
              "43                 {I43-031, I43-022, I43-013, I43-038, I43-020, ...\n",
              "46                                                         {I46-001}\n",
              "47                 {I47-020, I47-003, I47-015, I47-012, I47-018, ...\n",
              "48                 {I48-004, I48-009, I48-006, I48-003, I48-008, ...\n",
              "50                 {I50-017, I50-038, I50-003, I50-014, I50-037, ...\n",
              "52                 {I52-015, I52-012, I52-014, I52-010, I52-003, ...\n",
              "55                 {I55-006, I55-005, I55-007, I55-002, I55-004, ...\n",
              "58                 {I58-005, I58-012, I58-013, I58-007, I58-001, ...\n",
              "6                  {I06-025, I06-019, I06-024, I06-018, I06-017, ...\n",
              "63                              {I63-001, I63-002, I63-003, I63-004}\n",
              "7                                        {I07-001, I07-003, I07-002}\n",
              "D0                 {D00-012, D00-014, D00-001, D00-003, D00-008, ...\n",
              "D1                 {D01-012, D01-001, D01-020, D01-043, D01-056, ...\n",
              "D10                {D10-009, D10-014, D10-010, D10-008, D10-001, ...\n",
              "D11                {D11-007, D11-006, D11-009, D11-012, D11-004, ...\n",
              "D2                 {D02-001, D02-006, D02-007, D02-008, D02-002, ...\n",
              "D3                 {D03-007, D03-011, D03-005, D03-004, D03-009, ...\n",
              "D35                {D35-011, D35-012, D35-016, D35-002, D35-013, ...\n",
              "D4                 {D04-005, D04-006, D04-010, D04-008, D04-004, ...\n",
              "D46                {D46-007, D46-012, D46-011, D46-005, D46-004, ...\n",
              "D48                {D48-004, D48-003, D48-006, D48-002, D48-005, ...\n",
              "D5                 {D05-010, D05-021, D05-007, D05-015, D05-001, ...\n",
              "D52                                      {D52-002, D52-003, D52-001}\n",
              "D55                {D55-002, D55-001, D55-004, D55-006, D55-005, ...\n",
              "D56                {D56-001, D56-003, D56-007, D56-006, D56-002, ...\n",
              "D6                 {D06-010, D06-013, D06-005, D06-009, D06-011, ...\n",
              "D7                 {D07-009, D07-008, D07-005, D07-007, D07-006, ...\n",
              "D8                 {D08-014, D08-006, D08-002, D08-001, D08-005, ..."
            ]
          },
          "execution_count": 118,
          "metadata": {},
          "output_type": "execute_result"
        }
      ],
      "source": [
        "# roads with segment names\n",
        "roads = data_df.groupby('segment_road_name').agg({'segment_name': lambda x: set(x)})\n",
        "roads"
      ]
    },
    {
      "cell_type": "code",
      "execution_count": 119,
      "id": "3dd8fafb",
      "metadata": {
        "id": "3dd8fafb",
        "outputId": "034ff916-709a-4ffb-fd08-3331b747e137"
      },
      "outputs": [
        {
          "data": {
            "text/html": [
              "<div>\n",
              "<style scoped>\n",
              "    .dataframe tbody tr th:only-of-type {\n",
              "        vertical-align: middle;\n",
              "    }\n",
              "\n",
              "    .dataframe tbody tr th {\n",
              "        vertical-align: top;\n",
              "    }\n",
              "\n",
              "    .dataframe thead th {\n",
              "        text-align: right;\n",
              "    }\n",
              "</style>\n",
              "<table border=\"1\" class=\"dataframe\">\n",
              "  <thead>\n",
              "    <tr style=\"text-align: right;\">\n",
              "      <th></th>\n",
              "      <th>segment_road_name</th>\n",
              "      <th>lat</th>\n",
              "      <th>lon</th>\n",
              "    </tr>\n",
              "  </thead>\n",
              "  <tbody>\n",
              "    <tr>\n",
              "      <th>0</th>\n",
              "      <td>D0</td>\n",
              "      <td>50.113467</td>\n",
              "      <td>14.587899</td>\n",
              "    </tr>\n",
              "    <tr>\n",
              "      <th>2</th>\n",
              "      <td>D0</td>\n",
              "      <td>50.114363</td>\n",
              "      <td>14.588246</td>\n",
              "    </tr>\n",
              "    <tr>\n",
              "      <th>4</th>\n",
              "      <td>D0</td>\n",
              "      <td>50.102750</td>\n",
              "      <td>14.590411</td>\n",
              "    </tr>\n",
              "    <tr>\n",
              "      <th>6</th>\n",
              "      <td>D0</td>\n",
              "      <td>50.110105</td>\n",
              "      <td>14.588064</td>\n",
              "    </tr>\n",
              "    <tr>\n",
              "      <th>8</th>\n",
              "      <td>D0</td>\n",
              "      <td>50.092003</td>\n",
              "      <td>14.594524</td>\n",
              "    </tr>\n",
              "    <tr>\n",
              "      <th>...</th>\n",
              "      <td>...</td>\n",
              "      <td>...</td>\n",
              "      <td>...</td>\n",
              "    </tr>\n",
              "    <tr>\n",
              "      <th>1551775</th>\n",
              "      <td>12</td>\n",
              "      <td>50.072486</td>\n",
              "      <td>14.751264</td>\n",
              "    </tr>\n",
              "    <tr>\n",
              "      <th>4997412</th>\n",
              "      <td>D48</td>\n",
              "      <td>49.660566</td>\n",
              "      <td>18.343925</td>\n",
              "    </tr>\n",
              "    <tr>\n",
              "      <th>5027141</th>\n",
              "      <td>D48</td>\n",
              "      <td>49.661861</td>\n",
              "      <td>18.338461</td>\n",
              "    </tr>\n",
              "    <tr>\n",
              "      <th>7695212</th>\n",
              "      <td>D56</td>\n",
              "      <td>49.675312</td>\n",
              "      <td>18.322392</td>\n",
              "    </tr>\n",
              "    <tr>\n",
              "      <th>7695213</th>\n",
              "      <td>D56</td>\n",
              "      <td>49.677648</td>\n",
              "      <td>18.322121</td>\n",
              "    </tr>\n",
              "  </tbody>\n",
              "</table>\n",
              "<p>2230 rows × 3 columns</p>\n",
              "</div>"
            ],
            "text/plain": [
              "        segment_road_name        lat        lon\n",
              "0                      D0  50.113467  14.587899\n",
              "2                      D0  50.114363  14.588246\n",
              "4                      D0  50.102750  14.590411\n",
              "6                      D0  50.110105  14.588064\n",
              "8                      D0  50.092003  14.594524\n",
              "...                   ...        ...        ...\n",
              "1551775                12  50.072486  14.751264\n",
              "4997412               D48  49.660566  18.343925\n",
              "5027141               D48  49.661861  18.338461\n",
              "7695212               D56  49.675312  18.322392\n",
              "7695213               D56  49.677648  18.322121\n",
              "\n",
              "[2230 rows x 3 columns]"
            ]
          },
          "execution_count": 119,
          "metadata": {},
          "output_type": "execute_result"
        }
      ],
      "source": [
        "# roads with locations\n",
        "roads = data_df[['segment_road_name', 'lat', 'lon']].drop_duplicates()\n",
        "roads"
      ]
    },
    {
      "cell_type": "code",
      "execution_count": 131,
      "id": "58efea6f",
      "metadata": {
        "id": "58efea6f",
        "outputId": "5b1554a6-82c9-4c79-89cf-a733d4c56bd8"
      },
      "outputs": [
        {
          "data": {
            "text/plain": [
              "Text(0.5, 1.0, 'avg intensity by road')"
            ]
          },
          "execution_count": 131,
          "metadata": {},
          "output_type": "execute_result"
        },
        {
          "data": {
            "image/png": "[encoded data removed]",
            "text/plain": [
              "<Figure size 720x720 with 1 Axes>"
            ]
          },
          "metadata": {
            "needs_background": "light"
          },
          "output_type": "display_data"
        }
      ],
      "source": [
        "# avg intensity by road\n",
        "\n",
        "roads_avgInt = data_df.groupby('segment_road_name').agg({'intensity': 'mean'})\n",
        "geometry = [Point(xy) for xy in zip(roads.lon, roads.lat)]\n",
        "roads_gdf = GeoDataFrame(roads, crs=\"EPSG:4326\", geometry=geometry)\n",
        "roads_avgIntensity = roads_gdf.merge(roads_avgInt, on='segment_road_name')\n",
        "roads_avgIntensity.plot(column='intensity', k=2, figsize=(10, 10))#, legend=True, scheme='Percentiles')\n",
        "plt.title('avg intensity by road')"
      ]
    },
    {
      "cell_type": "code",
      "execution_count": 133,
      "id": "1a482fb5",
      "metadata": {
        "id": "1a482fb5",
        "outputId": "bd7935d7-c459-49ea-c5ca-d26e841674e9"
      },
      "outputs": [
        {
          "data": {
            "text/plain": [
              "Text(0.5, 1.0, 'avg speed by road')"
            ]
          },
          "execution_count": 133,
          "metadata": {},
          "output_type": "execute_result"
        },
        {
          "data": {
            "image/png": "[encoded data removed]",
            "text/plain": [
              "<Figure size 720x720 with 1 Axes>"
            ]
          },
          "metadata": {
            "needs_background": "light"
          },
          "output_type": "display_data"
        }
      ],
      "source": [
        "# avg speed by road\n",
        "\n",
        "roads_avgSp = data_df.groupby('segment_road_name').agg({'avg_speed': 'mean'})\n",
        "roads_avgSpeed = roads_gdf.merge(roads_avgSp, on='segment_road_name')\n",
        "roads_avgSpeed.plot(column='avg_speed', k=10, scheme='Percentiles', figsize=(10, 10), legend=True)\n",
        "plt.title('avg speed by road')"
      ]
    },
    {
      "attachments": {},
      "cell_type": "markdown",
      "id": "e764f725",
      "metadata": {},
      "source": [
        "# 15 min data aggregation (OLD code)"
      ]
    },
    {
      "cell_type": "code",
      "execution_count": null,
      "id": "64ce3dd6",
      "metadata": {
        "id": "64ce3dd6"
      },
      "outputs": [],
      "source": [
        "seconds = 900\n",
        "epoch = (col(\"timestamp\").cast(\"timestamp\").cast(\"bigint\") / seconds).cast(\n",
        "    \"bigint\"\n",
        ") * seconds"
      ]
    },
    {
      "cell_type": "code",
      "execution_count": null,
      "id": "4e365ba9",
      "metadata": {
        "id": "4e365ba9"
      },
      "outputs": [],
      "source": [
        "df_1 = df.withColumn(\"epoch\", epoch)"
      ]
    },
    {
      "cell_type": "code",
      "execution_count": null,
      "id": "fded0657",
      "metadata": {
        "id": "fded0657"
      },
      "outputs": [],
      "source": [
        "df_1 = df_1.withColumn(\"intensity\", df_1[\"intensity\"].cast(IntegerType()))"
      ]
    },
    {
      "cell_type": "code",
      "execution_count": null,
      "id": "ac739d5c",
      "metadata": {
        "id": "ac739d5c"
      },
      "outputs": [],
      "source": [
        "min_epoch, max_epoch = df_1.select(min(\"epoch\"), max(\"epoch\")).first()\n",
        "\n",
        "ref = spark.range(min_epoch, max_epoch + seconds, seconds).toDF(\"epoch\")"
      ]
    },
    {
      "cell_type": "code",
      "execution_count": null,
      "id": "7c3dd99a",
      "metadata": {
        "id": "7c3dd99a",
        "outputId": "c9b68c22-b6aa-4cb3-b5f9-f63a675e794b"
      },
      "outputs": [
        {
          "name": "stdout",
          "output_type": "stream",
          "text": [
            "22/08/17 19:25:08 WARN RowBasedKeyValueBatch: Calling spill() on RowBasedKeyValueBatch. Will not spill but return 0.\n",
            "22/08/17 19:25:09 WARN RowBasedKeyValueBatch: Calling spill() on RowBasedKeyValueBatch. Will not spill but return 0.\n",
            "+------------+-------------------+--------------+\n",
            "|segment_name|ts_resampled       |sum(intensity)|\n",
            "+------------+-------------------+--------------+\n",
            "|D00-001     |2022-01-18 00:30:00|100           |\n",
            "|D00-002     |2022-01-18 00:30:00|108           |\n",
            "|D00-003     |2022-01-18 00:30:00|123           |\n",
            "|D00-004     |2022-01-18 00:30:00|134           |\n",
            "|D00-005     |2022-01-18 00:30:00|138           |\n",
            "|D00-006     |2022-01-18 00:30:00|122           |\n",
            "|D00-007     |2022-01-18 00:30:00|132           |\n",
            "|D00-008     |2022-01-18 00:30:00|130           |\n",
            "|D00-009     |2022-01-18 00:30:00|121           |\n",
            "|D00-010     |2022-01-18 00:30:00|111           |\n",
            "|D00-011     |2022-01-18 00:30:00|120           |\n",
            "|D00-012     |2022-01-18 00:30:00|111           |\n",
            "|D00-013     |2022-01-18 00:30:00|40            |\n",
            "|D00-014     |2022-01-18 00:30:00|49            |\n",
            "|D00-015     |2022-01-18 00:30:00|28            |\n",
            "|D01-001     |2022-01-18 00:30:00|115           |\n",
            "|D01-002     |2022-01-18 00:30:00|125           |\n",
            "|D01-003     |2022-01-18 00:30:00|122           |\n",
            "|D01-004     |2022-01-18 00:30:00|131           |\n",
            "|D01-005     |2022-01-18 00:30:00|193           |\n",
            "+------------+-------------------+--------------+\n",
            "only showing top 20 rows\n",
            "\n"
          ]
        }
      ],
      "source": [
        "(\n",
        "    ref.join(df_1, \"epoch\", \"left\")\n",
        "    .withColumn(\"ts_resampled\", timestamp_seconds(\"epoch\"))\n",
        "    .groupBy(\"segment_name\", \"ts_resampled\")\n",
        "    .sum(\"intensity\")\n",
        "    .orderBy(\"ts_resampled\")\n",
        "    .fillna(0, subset=[\"sum(intensity)\"])\n",
        "    .show(truncate=False)\n",
        ")"
      ]
    },
    {
      "cell_type": "code",
      "execution_count": null,
      "id": "d2617cd8",
      "metadata": {
        "id": "d2617cd8",
        "outputId": "2f2f7ffc-d565-49d8-bec7-1f29d1655974"
      },
      "outputs": [
        {
          "data": {
            "text/plain": [
              "DataFrame[avg_speed: string, intensity: int, segment_fullname: string, segment_id: string, segment_location: struct<lat:string,lon:string>, segment_name: string, segment_road_name: string, speed_variance: string, timestamp: string, epoch: bigint]"
            ]
          },
          "execution_count": 187,
          "metadata": {},
          "output_type": "execute_result"
        }
      ],
      "source": [
        "df_1"
      ]
    },
    {
      "cell_type": "code",
      "execution_count": null,
      "id": "54783eaa",
      "metadata": {
        "id": "54783eaa"
      },
      "outputs": [],
      "source": [
        "df_ = (\n",
        "    ref.join(df_1, \"epoch\", \"left\")\n",
        "    .withColumn(\"ts_resampled\", timestamp_seconds(\"epoch\"))\n",
        "    .groupBy(\"segment_name\", \"ts_resampled\")\n",
        "    .sum(\"intensity\")\n",
        "    .orderBy(\"ts_resampled\")\n",
        "    .fillna(0, subset=[\"sum(intensity)\"])\n",
        ")"
      ]
    },
    {
      "cell_type": "code",
      "execution_count": null,
      "id": "89c3f35c",
      "metadata": {
        "id": "89c3f35c",
        "outputId": "5fd15317-22ce-4311-c9a1-4246e21289d6"
      },
      "outputs": [
        {
          "name": "stdout",
          "output_type": "stream",
          "text": [
            "22/08/17 19:37:56 WARN RowBasedKeyValueBatch: Calling spill() on RowBasedKeyValueBatch. Will not spill but return 0.\n",
            "22/08/17 19:37:58 WARN RowBasedKeyValueBatch: Calling spill() on RowBasedKeyValueBatch. Will not spill but return 0.\n",
            "+------------+-------------------+--------------+\n",
            "|segment_name|       ts_resampled|sum(intensity)|\n",
            "+------------+-------------------+--------------+\n",
            "|     D00-001|2022-01-18 00:30:00|           100|\n",
            "|     D00-002|2022-01-18 00:30:00|           108|\n",
            "|     D00-003|2022-01-18 00:30:00|           123|\n",
            "|     D00-004|2022-01-18 00:30:00|           134|\n",
            "|     D00-005|2022-01-18 00:30:00|           138|\n",
            "|     D00-006|2022-01-18 00:30:00|           122|\n",
            "|     D00-007|2022-01-18 00:30:00|           132|\n",
            "|     D00-008|2022-01-18 00:30:00|           130|\n",
            "|     D00-009|2022-01-18 00:30:00|           121|\n",
            "|     D00-010|2022-01-18 00:30:00|           111|\n",
            "|     D00-011|2022-01-18 00:30:00|           120|\n",
            "|     D00-012|2022-01-18 00:30:00|           111|\n",
            "|     D00-013|2022-01-18 00:30:00|            40|\n",
            "|     D00-014|2022-01-18 00:30:00|            49|\n",
            "|     D00-015|2022-01-18 00:30:00|            28|\n",
            "|     D01-001|2022-01-18 00:30:00|           115|\n",
            "|     D01-002|2022-01-18 00:30:00|           125|\n",
            "|     D01-003|2022-01-18 00:30:00|           122|\n",
            "|     D01-004|2022-01-18 00:30:00|           131|\n",
            "|     D01-005|2022-01-18 00:30:00|           193|\n",
            "+------------+-------------------+--------------+\n",
            "only showing top 20 rows\n",
            "\n"
          ]
        }
      ],
      "source": [
        "df_.show()"
      ]
    },
    {
      "cell_type": "code",
      "execution_count": null,
      "id": "1dc8dae3",
      "metadata": {
        "id": "1dc8dae3",
        "outputId": "563a9c7f-272b-4e4e-8de2-d7903ccb5fb8"
      },
      "outputs": [
        {
          "data": {
            "text/plain": [
              "DataFrame[segment_name: string, ts_resampled: timestamp, sum(intensity): bigint]"
            ]
          },
          "execution_count": 197,
          "metadata": {},
          "output_type": "execute_result"
        }
      ],
      "source": [
        "df_"
      ]
    },
    {
      "cell_type": "code",
      "execution_count": null,
      "id": "80212009",
      "metadata": {
        "id": "80212009"
      },
      "outputs": [],
      "source": [
        "df__ = df_.groupBy(\"ts_resampled\").pivot('segment_name').agg(sum('sum(intensity)'))"
      ]
    },
    {
      "cell_type": "code",
      "execution_count": null,
      "id": "59ef9d43",
      "metadata": {
        "id": "59ef9d43",
        "outputId": "0dee9667-fba0-4793-9f75-32ebe5181940"
      },
      "outputs": [
        {
          "name": "stdout",
          "output_type": "stream",
          "text": [
            "22/08/18 09:50:20 WARN RowBasedKeyValueBatch: Calling spill() on RowBasedKeyValueBatch. Will not spill but return 0.\n",
            "22/08/18 09:50:20 WARN RowBasedKeyValueBatch: Calling spill() on RowBasedKeyValueBatch. Will not spill but return 0.\n",
            "22/08/18 09:50:22 WARN RowBasedKeyValueBatch: Calling spill() on RowBasedKeyValueBatch. Will not spill but return 0.\n",
            "22/08/18 09:50:22 WARN RowBasedKeyValueBatch: Calling spill() on RowBasedKeyValueBatch. Will not spill but return 0.\n"
          ]
        }
      ],
      "source": [
        "df1 = df__.select('ts_resampled', 'D00-001').toPandas()"
      ]
    },
    {
      "cell_type": "code",
      "execution_count": null,
      "id": "5352190c",
      "metadata": {
        "id": "5352190c",
        "outputId": "956f790c-f692-424a-f964-ab6bcbdba70d"
      },
      "outputs": [
        {
          "data": {
            "text/html": [
              "<div>\n",
              "<style scoped>\n",
              "    .dataframe tbody tr th:only-of-type {\n",
              "        vertical-align: middle;\n",
              "    }\n",
              "\n",
              "    .dataframe tbody tr th {\n",
              "        vertical-align: top;\n",
              "    }\n",
              "\n",
              "    .dataframe thead th {\n",
              "        text-align: right;\n",
              "    }\n",
              "</style>\n",
              "<table border=\"1\" class=\"dataframe\">\n",
              "  <thead>\n",
              "    <tr style=\"text-align: right;\">\n",
              "      <th></th>\n",
              "      <th>ts_resampled</th>\n",
              "      <th>D00-001</th>\n",
              "    </tr>\n",
              "  </thead>\n",
              "  <tbody>\n",
              "    <tr>\n",
              "      <th>0</th>\n",
              "      <td>2022-01-18 00:30:00</td>\n",
              "      <td>100</td>\n",
              "    </tr>\n",
              "    <tr>\n",
              "      <th>1</th>\n",
              "      <td>2022-01-18 00:45:00</td>\n",
              "      <td>118</td>\n",
              "    </tr>\n",
              "    <tr>\n",
              "      <th>2</th>\n",
              "      <td>2022-01-18 01:00:00</td>\n",
              "      <td>81</td>\n",
              "    </tr>\n",
              "    <tr>\n",
              "      <th>3</th>\n",
              "      <td>2022-01-18 01:15:00</td>\n",
              "      <td>68</td>\n",
              "    </tr>\n",
              "    <tr>\n",
              "      <th>4</th>\n",
              "      <td>2022-01-18 01:30:00</td>\n",
              "      <td>80</td>\n",
              "    </tr>\n",
              "    <tr>\n",
              "      <th>...</th>\n",
              "      <td>...</td>\n",
              "      <td>...</td>\n",
              "    </tr>\n",
              "    <tr>\n",
              "      <th>3039</th>\n",
              "      <td>2022-02-14 05:15:00</td>\n",
              "      <td>68</td>\n",
              "    </tr>\n",
              "    <tr>\n",
              "      <th>3040</th>\n",
              "      <td>2022-02-14 05:30:00</td>\n",
              "      <td>80</td>\n",
              "    </tr>\n",
              "    <tr>\n",
              "      <th>3041</th>\n",
              "      <td>2022-02-14 05:45:00</td>\n",
              "      <td>83</td>\n",
              "    </tr>\n",
              "    <tr>\n",
              "      <th>3042</th>\n",
              "      <td>2022-02-14 06:00:00</td>\n",
              "      <td>86</td>\n",
              "    </tr>\n",
              "    <tr>\n",
              "      <th>3043</th>\n",
              "      <td>2022-02-14 06:15:00</td>\n",
              "      <td>88</td>\n",
              "    </tr>\n",
              "  </tbody>\n",
              "</table>\n",
              "<p>3044 rows × 2 columns</p>\n",
              "</div>"
            ],
            "text/plain": [
              "            ts_resampled  D00-001\n",
              "0    2022-01-18 00:30:00      100\n",
              "1    2022-01-18 00:45:00      118\n",
              "2    2022-01-18 01:00:00       81\n",
              "3    2022-01-18 01:15:00       68\n",
              "4    2022-01-18 01:30:00       80\n",
              "...                  ...      ...\n",
              "3039 2022-02-14 05:15:00       68\n",
              "3040 2022-02-14 05:30:00       80\n",
              "3041 2022-02-14 05:45:00       83\n",
              "3042 2022-02-14 06:00:00       86\n",
              "3043 2022-02-14 06:15:00       88\n",
              "\n",
              "[3044 rows x 2 columns]"
            ]
          },
          "execution_count": 213,
          "metadata": {},
          "output_type": "execute_result"
        }
      ],
      "source": [
        "df1"
      ]
    }
  ],
  "metadata": {
    "colab": {
      "name": "czech_data_stats.ipynb",
      "provenance": []
    },
    "kernelspec": {
      "display_name": ".venv",
      "language": "python",
      "name": "python3"
    },
    "language_info": {
      "codemirror_mode": {
        "name": "ipython",
        "version": 3
      },
      "file_extension": ".py",
      "mimetype": "text/x-python",
      "name": "python",
      "nbconvert_exporter": "python",
      "pygments_lexer": "ipython3",
      "version": "3.8.10"
    },
    "vscode": {
      "interpreter": {
        "hash": "aa8c9e988bba47ec3e791b22c0bbb49eb66a938b6cde8fffd564472f09fd563a"
      }
    }
  },
  "nbformat": 4,
  "nbformat_minor": 5
}
