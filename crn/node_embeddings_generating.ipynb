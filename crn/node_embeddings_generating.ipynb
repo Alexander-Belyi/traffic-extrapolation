{
 "cells": [
  {
   "cell_type": "code",
   "execution_count": 1,
   "metadata": {},
   "outputs": [],
   "source": [
    "import networkx as nx\n",
    "import fastnode2vec"
   ]
  },
  {
   "cell_type": "code",
   "execution_count": 4,
   "metadata": {},
   "outputs": [],
   "source": [
    "data_path = \"/Users/alex/Library/CloudStorage/OneDrive-MUNI/Dokumenty/Projects Data/GNNs/cz_traffic/\"\n",
    "#data_path = \"/media/sf_bely/OneDrive - MUNI/Dokumenty/Projects Data/GNNs/cz_traffic/\""
   ]
  },
  {
   "cell_type": "code",
   "execution_count": 30,
   "metadata": {},
   "outputs": [
    {
     "name": "stdout",
     "output_type": "stream",
     "text": [
      "G num of nodes =  1128 num of edges =  1153\n",
      "G, isolated nodes: ['D04-012', 'D05-025', 'D35-014', 'I35-141']\n",
      "G num of nodes =  1124 num of edges =  1153\n"
     ]
    }
   ],
   "source": [
    "G = nx.read_gpickle(data_path + 'czech_road_network.p')\n",
    "print(\"G num of nodes = \", G.number_of_nodes(), \"num of edges = \", G.number_of_edges())\n",
    "isolated_nodes = [k for k, v in dict(G.degree()).items() if v == 0]\n",
    "print(\"G, isolated nodes:\", isolated_nodes)\n",
    "G.remove_nodes_from(isolated_nodes)\n",
    "print(\"G num of nodes = \", G.number_of_nodes(), \"num of edges = \", G.number_of_edges())"
   ]
  },
  {
   "cell_type": "code",
   "execution_count": 13,
   "metadata": {},
   "outputs": [
    {
     "data": {
      "text/plain": [
       "[('D00-001', 'D00-002', {}),\n",
       " ('D00-001', 'D10-001', {}),\n",
       " ('D00-002', 'D00-003', {}),\n",
       " ('D00-002', 'D11-001', {}),\n",
       " ('D00-003', 'D00-004', {}),\n",
       " ('D00-003', 'D11-001', {}),\n",
       " ('D00-003', 'I12-001', {}),\n",
       " ('D00-004', 'D00-005', {}),\n",
       " ('D00-004', 'D01-005', {}),\n",
       " ('D00-004', 'D01-004', {})]"
      ]
     },
     "execution_count": 13,
     "metadata": {},
     "output_type": "execute_result"
    }
   ],
   "source": [
    "list(G.edges(data=True))[:10]"
   ]
  },
  {
   "cell_type": "code",
   "execution_count": 31,
   "metadata": {},
   "outputs": [
    {
     "name": "stdout",
     "output_type": "stream",
     "text": [
      "weighted G num of nodes =  1128 num of edges =  1153\n",
      "weighted G, isolated nodes: ['D04-012', 'D05-025', 'D35-014', 'I35-141']\n",
      "weighted G num of nodes =  1124 num of edges =  1153\n"
     ]
    }
   ],
   "source": [
    "G2 = nx.read_gpickle(data_path + 'cz_road_network.p')\n",
    "print(\"weighted G num of nodes = \", G2.number_of_nodes(), \"num of edges = \", G2.number_of_edges())\n",
    "isolated_nodes2 = [k for k, v in dict(G2.degree()).items() if v == 0]\n",
    "print(\"weighted G, isolated nodes:\", isolated_nodes2)\n",
    "G2.remove_nodes_from(isolated_nodes2)\n",
    "print(\"weighted G num of nodes = \", G2.number_of_nodes(), \"num of edges = \", G2.number_of_edges())"
   ]
  },
  {
   "cell_type": "code",
   "execution_count": 12,
   "metadata": {},
   "outputs": [
    {
     "data": {
      "text/plain": [
       "[('D00-001', 'D00-002', {'weight': 1.2050837311556577}),\n",
       " ('D00-001', 'D10-001', {'weight': 2.5476607143833463}),\n",
       " ('D00-002', 'D00-003', {'weight': 1.2305560445026138}),\n",
       " ('D00-002', 'D11-001', {'weight': 4.208540877539873}),\n",
       " ('D00-003', 'D00-004', {'weight': 13.864838928754674}),\n",
       " ('D00-003', 'D11-001', {'weight': 4.359794366391371}),\n",
       " ('D00-003', 'I12-001', {'weight': 8.00865339673411}),\n",
       " ('D00-004', 'D00-005', {'weight': 4.745505898863562}),\n",
       " ('D00-004', 'D01-005', {'weight': 3.5671360137480663}),\n",
       " ('D00-004', 'D01-004', {'weight': 3.2169261012041366})]"
      ]
     },
     "execution_count": 12,
     "metadata": {},
     "output_type": "execute_result"
    }
   ],
   "source": [
    "list(G2.edges(data=True))[:10]"
   ]
  },
  {
   "cell_type": "code",
   "execution_count": 34,
   "metadata": {},
   "outputs": [],
   "source": [
    "def node2vec_embedding(G: nx.Graph, dim=32, walk_length=100, context=32, p=2.0, q=0.5, workers=4, seed=42):\n",
    "    if nx.is_weighted(G):\n",
    "        n2v_graph = fastnode2vec.Graph([(str(edge[0]), str(edge[1]), edge[2]['weight']) for edge in G.edges(data=True)],\n",
    "                directed=False, weighted=True)\n",
    "    else:\n",
    "        n2v_graph = fastnode2vec.Graph([(str(edge[0]), str(edge[1])) for edge in G.edges(data=True)],\n",
    "                    directed=False, weighted=False)\n",
    "    n2v = fastnode2vec.Node2Vec(n2v_graph, dim=dim, walk_length=walk_length, context=context, p=p, q=q, workers=workers, seed=seed)\n",
    "    n2v.train(epochs=100)\n",
    "    n2v_embeddings = [n2v.wv[str(node)] for node in G]\n",
    "    return n2v_embeddings"
   ]
  },
  {
   "cell_type": "code",
   "execution_count": 35,
   "metadata": {},
   "outputs": [
    {
     "name": "stderr",
     "output_type": "stream",
     "text": [
      "Reading graph: 100%|██████████| 1153/1153 [00:00<00:00, 260099.63it/s]\n",
      "Training: 100%|██████████| 112400/112400 [00:17<00:00, 6446.89it/s]\n"
     ]
    }
   ],
   "source": [
    "embeddings = node2vec_embedding(G)"
   ]
  },
  {
   "cell_type": "code",
   "execution_count": 36,
   "metadata": {},
   "outputs": [],
   "source": [
    "# join embeddings with corresponding nodes (as x feature)\n",
    "for idx, node in enumerate(G.nodes()):\n",
    "    G.add_node(node, embedding=embeddings[idx])"
   ]
  },
  {
   "cell_type": "code",
   "execution_count": 40,
   "metadata": {},
   "outputs": [
    {
     "name": "stderr",
     "output_type": "stream",
     "text": [
      "Reading graph: 100%|██████████| 1153/1153 [00:00<00:00, 390727.36it/s]\n",
      "Training: 100%|██████████| 112400/112400 [00:17<00:00, 6294.86it/s]\n"
     ]
    }
   ],
   "source": [
    "embeddings2 = node2vec_embedding(G2)\n",
    "# join embeddings with corresponding nodes (as x feature)\n",
    "for idx, node in enumerate(G2.nodes()):\n",
    "    G2.add_node(node, embedding=embeddings2[idx])"
   ]
  },
  {
   "cell_type": "code",
   "execution_count": 42,
   "metadata": {},
   "outputs": [
    {
     "data": {
      "text/plain": [
       "{'embedding': array([ 0.28925058, -0.5321759 ,  0.1633069 ,  0.22804017,  0.07528   ,\n",
       "         0.3985399 , -0.76625425,  0.98368603, -0.40598074, -0.7826637 ,\n",
       "         0.15234624, -0.35742223,  0.5700691 ,  0.10301872,  0.32726422,\n",
       "         1.1231879 , -0.26717177, -0.7335326 , -0.16624275,  0.11566973,\n",
       "         0.7801394 ,  1.143941  , -0.44375572, -0.02538498, -0.28431115,\n",
       "         1.1864569 , -0.22486278, -0.90309584, -0.40372974, -1.263226  ,\n",
       "         0.64763814, -0.23639019], dtype=float32)}"
      ]
     },
     "execution_count": 42,
     "metadata": {},
     "output_type": "execute_result"
    }
   ],
   "source": [
    "G2.nodes['D00-001']"
   ]
  },
  {
   "attachments": {},
   "cell_type": "markdown",
   "metadata": {},
   "source": [
    "# Old code follows"
   ]
  },
  {
   "cell_type": "code",
   "execution_count": 3,
   "metadata": {},
   "outputs": [],
   "source": [
    "def generate_node_embeddings(graph: nx.Graph):\n",
    "    model = Node2Vec(graph, dimensions=32, num_walks=100, walk_length=80, weight_key='dist', temp_folder='temp/', workers=2)\n",
    "    result = model.fit(window=5, min_count=1)\n",
    "    return result"
   ]
  },
  {
   "cell_type": "code",
   "execution_count": 5,
   "metadata": {},
   "outputs": [
    {
     "name": "stderr",
     "output_type": "stream",
     "text": [
      "Computing transition probabilities: 100%|██████████| 1128/1128 [00:00<00:00, 21222.88it/s]\n",
      "Generating walks (CPU: 2): 100%|██████████| 50/50 [05:57<00:00,  7.16s/it]\n",
      "Generating walks (CPU: 1): 100%|██████████| 50/50 [06:10<00:00,  7.41s/it]\n"
     ]
    },
    {
     "name": "stdout",
     "output_type": "stream",
     "text": [
      "CPU times: user 7min 6s, sys: 53 s, total: 7min 59s\n",
      "Wall time: 6min 34s\n"
     ]
    }
   ],
   "source": [
    "%%time\n",
    "embeddings = generate_node_embeddings(G)"
   ]
  },
  {
   "cell_type": "code",
   "execution_count": 7,
   "metadata": {},
   "outputs": [
    {
     "data": {
      "text/plain": [
       "[('D10-001', 0.935806393623352),\n",
       " ('D00-002', 0.8871928453445435),\n",
       " ('D10-002', 0.7911334037780762),\n",
       " ('D00-003', 0.6844806671142578),\n",
       " ('D11-001', 0.683589518070221),\n",
       " ('D11-002', 0.6108906269073486),\n",
       " ('D10-003', 0.5654127597808838),\n",
       " ('I12-001', 0.4950152039527893),\n",
       " ('I12-002', 0.46955227851867676),\n",
       " ('D11-003', 0.41467419266700745)]"
      ]
     },
     "execution_count": 7,
     "metadata": {},
     "output_type": "execute_result"
    }
   ],
   "source": [
    "embeddings.wv.most_similar('D00-001')"
   ]
  },
  {
   "cell_type": "code",
   "execution_count": 9,
   "metadata": {},
   "outputs": [],
   "source": [
    "embeddings.save('data/embeddings32.data')"
   ]
  },
  {
   "cell_type": "code",
   "execution_count": null,
   "metadata": {},
   "outputs": [],
   "source": [
    "# join embeddings with corresponding nodes (as x feature)\n",
    "for idx, node in enumerate(G.nodes()):\n",
    "    G.add_node(node, embedding=embeddings.wv[str(node)].copy())"
   ]
  },
  {
   "cell_type": "code",
   "execution_count": null,
   "metadata": {},
   "outputs": [],
   "source": [
    "nx.readwrite.write_gpickle(G, 'data/network32.gpickle')"
   ]
  },
  {
   "cell_type": "code",
   "execution_count": null,
   "metadata": {},
   "outputs": [],
   "source": []
  }
 ],
 "metadata": {
  "kernelspec": {
   "display_name": "main_env",
   "language": "python",
   "name": "python3"
  },
  "language_info": {
   "codemirror_mode": {
    "name": "ipython",
    "version": 3
   },
   "file_extension": ".py",
   "mimetype": "text/x-python",
   "name": "python",
   "nbconvert_exporter": "python",
   "pygments_lexer": "ipython3",
   "version": "3.9.7"
  },
  "orig_nbformat": 4,
  "vscode": {
   "interpreter": {
    "hash": "7d5edf4258bbc637805e302ba85a0073c54e6d301b29d811b35bf8e759b824fe"
   }
  }
 },
 "nbformat": 4,
 "nbformat_minor": 2
}
