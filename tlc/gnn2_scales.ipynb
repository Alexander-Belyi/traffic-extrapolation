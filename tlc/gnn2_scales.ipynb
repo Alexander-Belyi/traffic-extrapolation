{
 "cells": [
  {
   "cell_type": "markdown",
   "metadata": {},
   "source": [
    "#TODO"
   ]
  },
  {
   "cell_type": "code",
   "execution_count": 1,
   "metadata": {
    "trusted": false
   },
   "outputs": [],
   "source": [
    "import sys\n",
    "sys.path.append('../')\n",
    "\n",
    "import glob\n",
    "\n",
    "from typing import Tuple, Union, List\n",
    "import pandas as pd\n",
    "import numpy as np\n",
    "import networkx as nx\n",
    "from tqdm.notebook import tqdm as tqdm\n",
    "\n",
    "import torch\n",
    "import torch.nn as nn\n",
    "\n",
    "import torch_geometric as pyg\n",
    "from torch_geometric.utils.convert import from_networkx\n",
    "\n",
    "from src.utils import *\n",
    "from dataset import *\n",
    "from src.train import train, test\n",
    "from src.dataloaders import make_data_loaders_from_dataset\n",
    "from src.model import KnnEstimator\n",
    "\n",
    "import matplotlib.pyplot as plt\n",
    "import seaborn as sns\n",
    "sns.set_style('darkgrid')\n",
    "\n",
    "from IPython.display import clear_output\n",
    "\n",
    "%matplotlib inline\n",
    "%load_ext autoreload\n",
    "%autoreload 2\n",
    "\n",
    "device = torch.device('cuda:0') if torch.cuda.is_available() else torch.device('cpu')"
   ]
  },
  {
   "cell_type": "code",
   "execution_count": 33,
   "metadata": {},
   "outputs": [],
   "source": [
    "class StandardScaler:\n",
    "\n",
    "    def __init__(self, mean=None, std=None, epsilon=1e-7):\n",
    "        \"\"\"Standard Scaler.\n",
    "        The class can be used to normalize PyTorch Tensors using native functions. The module does not expect the\n",
    "        tensors to be of any specific shape; as long as the features are the last dimension in the tensor, the module\n",
    "        will work fine.\n",
    "        :param mean: The mean of the features. The property will be set after a call to fit.\n",
    "        :param std: The standard deviation of the features. The property will be set after a call to fit.\n",
    "        :param epsilon: Used to avoid a Division-By-Zero exception.\n",
    "        \"\"\"\n",
    "        self.mean = mean\n",
    "        self.std = std\n",
    "        self.epsilon = epsilon\n",
    "\n",
    "    def fit(self, values):\n",
    "        dims = list(range(values.dim() - 1))\n",
    "        self.mean = torch.mean(values, dim=dims)\n",
    "        self.std = torch.std(values, dim=dims)\n",
    "\n",
    "    def transform(self, values):\n",
    "        return (values - self.mean) / (self.std + self.epsilon)\n",
    "\n",
    "    def fit_transform(self, values):\n",
    "        self.fit(values)\n",
    "        return self.transform(values)"
   ]
  },
  {
   "cell_type": "code",
   "execution_count": 2,
   "metadata": {},
   "outputs": [],
   "source": [
    "G = nx.readwrite.read_gpickle('data/network64.gpickle')"
   ]
  },
  {
   "cell_type": "code",
   "execution_count": 5,
   "metadata": {},
   "outputs": [
    {
     "data": {
      "text/plain": [
       "Data(x=[60789, 2], edge_index=[2, 151294], lon=[60789], lat=[60789], id=[60789], dist=[151294])"
      ]
     },
     "execution_count": 5,
     "metadata": {},
     "output_type": "execute_result"
    }
   ],
   "source": [
    "# Pytorch geometric Data object. For now used only for storing node embedding. \n",
    "# Supposed to be used in the future for obtaining node embeddings.\n",
    "pyg_graph = from_networkx(G, ['population', 'jobs'])\n",
    "pyg_graph.to(device)"
   ]
  },
  {
   "cell_type": "code",
   "execution_count": 34,
   "metadata": {},
   "outputs": [
    {
     "data": {
      "text/plain": [
       "tensor([[ 2.7330,  0.0446],\n",
       "        [ 2.7330,  0.0446],\n",
       "        [ 0.6586, -0.1095],\n",
       "        ...,\n",
       "        [ 0.8096, -0.1095],\n",
       "        [ 0.8096, -0.1095],\n",
       "        [ 0.8096, -0.1095]], device='cuda:0')"
      ]
     },
     "execution_count": 34,
     "metadata": {},
     "output_type": "execute_result"
    }
   ],
   "source": [
    "pyg_graph.x = StandardScaler().fit_transform(pyg_graph.x)\n",
    "pyg_graph.x"
   ]
  },
  {
   "cell_type": "markdown",
   "metadata": {},
   "source": [
    "$$T(a) = \\sum_{b \\neq a,\\space b\\subset Train } T(b)w(a, b)\\frac{v(a)}{v(b)}, \\textrm{where summation is calculated for the {\\bf k} nearest neighbors.}$$\n",
    "\n",
    "$$ w(a,b)= \\frac{e^{u(a,b)}}{\\sum_{b \\neq a} e^{u(a, b)}} ;$$\n",
    "\n",
    "$u(a, b) = exp(-\\lambda_1 d(a, b));$\n",
    "\n",
    "$v(a) = MLP(x_a)$\n",
    "\n",
    "$x_a$ is an embedding for a node **a**;\n",
    "\n",
    "So for this model $\\lambda_1$, $MLP$ parameters are optimized."
   ]
  },
  {
   "cell_type": "code",
   "execution_count": 55,
   "metadata": {
    "pycharm": {
     "is_executing": true
    }
   },
   "outputs": [],
   "source": [
    "def weight_fn(dists, lamb):\n",
    "    return torch.exp(-lamb * dists)\n",
    "\n",
    "\n",
    "class MLP(nn.Module):\n",
    "    def __init__(self, input_dim):\n",
    "        super().__init__()\n",
    "\n",
    "        self.out_activation = nn.ReLU()\n",
    "\n",
    "        self.layers = nn.Sequential(\n",
    "            nn.Linear(input_dim, 8),\n",
    "            nn.Linear(8, 1),\n",
    "        )\n",
    "\n",
    "    def forward(self, X, neighbors=False):\n",
    "        if neighbors:\n",
    "            out_shape = X.shape[:2]\n",
    "            X = X.reshape(-1, X.shape[-1])\n",
    "\n",
    "        out = self.layers(X)\n",
    "\n",
    "        if neighbors:\n",
    "            out = out.reshape(*out_shape)\n",
    "\n",
    "        out = self.out_activation(out) + 1\n",
    "\n",
    "        return out\n",
    "\n",
    "\n",
    "class Estimator(KnnEstimator):\n",
    "    def __init__(self, pyg_graph: pyg.data.Data, obs_nodes, obs_targets) -> None:\n",
    "        super().__init__(pyg_graph, obs_nodes, obs_targets)\n",
    "\n",
    "        self.scale_mlp = MLP(self.g.x.shape[-1])\n",
    "        self.lambda_1 = nn.Parameter(torch.rand(1))\n",
    "        self.a = nn.Parameter(torch.rand(1))\n",
    "        self.b = nn.Parameter(torch.rand(1))\n",
    "\n",
    "    def forward(self, X):\n",
    "        # getting nearest observed nodes\n",
    "        X_indices = torch.as_tensor(self.node_to_idx(X))\n",
    "        dists, indices = self.get_kneighbors(X_indices)\n",
    "        dists = dists.to(device)\n",
    "\n",
    "        targets = self.obs_targets[indices].to(device)\n",
    "\n",
    "        # finding corresponding node embedding of neighbors\n",
    "        neighbors_indices = torch.as_tensor(self.node_to_idx(self.obs_nodes[indices]), device=device)\n",
    "        neighbors_embeds = self.g.x[neighbors_indices]\n",
    "        \n",
    "        # computing similarities between node ans its neighbors\n",
    "        X_embeds = self.g.x[X_indices]\n",
    "        neighbors_scales = self.scale_mlp(neighbors_embeds, neighbors=True)\n",
    "        X_scales = self.scale_mlp(X_embeds)\n",
    "\n",
    "        # dists = dists * self.a + self.b\n",
    "        # print(dists[0][:5])\n",
    "\n",
    "        dist_weights = weight_fn(dists, self.lambda_1)\n",
    "   \n",
    "        # sum normalizization\n",
    "        dist_weights = nn.functional.normalize(dist_weights, p=1)\n",
    "\n",
    "        att_weights = dist_weights\n",
    "\n",
    "        # print(torch.div(X_scales, neighbors_scales)[0][:5])\n",
    "\n",
    "        targets = targets * torch.div(X_scales, neighbors_scales)\n",
    "\n",
    "        # interpolation \n",
    "        result = torch.sum(att_weights.mul(targets), dim=-1)\n",
    "\n",
    "        return result"
   ]
  },
  {
   "cell_type": "code",
   "execution_count": 56,
   "metadata": {},
   "outputs": [],
   "source": [
    "results = dict()"
   ]
  },
  {
   "cell_type": "code",
   "execution_count": 59,
   "metadata": {},
   "outputs": [
    {
     "data": {
      "image/png": "[encoded data removed]",
      "text/plain": [
       "<Figure size 1440x432 with 2 Axes>"
      ]
     },
     "metadata": {
      "needs_background": "light"
     },
     "output_type": "display_data"
    },
    {
     "name": "stdout",
     "output_type": "stream",
     "text": [
      "day_24, Test loss: 101.3905, test score: 0.7193\n"
     ]
    }
   ],
   "source": [
    "loss_fn = nn.HuberLoss(delta=20).to(device)\n",
    "model = None\n",
    "\n",
    "for path in tqdm(glob.glob('datasets/*')[:1]):\n",
    "    day = path.split('/')[1].split('.')[0]\n",
    "\n",
    "    try:\n",
    "        ds = torch.load(path)\n",
    "    except:\n",
    "        continue\n",
    "\n",
    "    train_loader, val_loader, test_loader = make_data_loaders_from_dataset(ds, batch_size=128)\n",
    "    train_batches = [batch for batch in train_loader]\n",
    "    train_nodes = [n for batch in train_batches for n in batch[0]]\n",
    "    train_targets = torch.cat([batch[1] for batch in train_batches])\n",
    "\n",
    "\n",
    "    if model is None:\n",
    "        model = Estimator(pyg_graph, train_nodes, train_targets).to(device)\n",
    "    else:\n",
    "        model.set_observations(train_nodes, train_targets)\n",
    "        \n",
    "    optimizer = torch.optim.Adam(model.parameters(), lr=1e-3)\n",
    "    # scheduler = torch.optim.lr_scheduler.StepLR(optimizer, 20, gamma=0.9)\n",
    "\n",
    "    best_model = train(model, train_loader, val_loader, loss_fn, optimizer, device, num_epochs=20, plotting=True)\n",
    "    test_loss, test_score = test(best_model, test_loader, loss_fn, device)\n",
    "\n",
    "    # for name, param in best_model.named_parameters():\n",
    "        # print(name, param)\n",
    "\n",
    "    results[f'{day}'] = test_score \n",
    "    print(f'{day}, Test loss: {test_loss:.4f}, test score: {test_score:.4f}')"
   ]
  },
  {
   "cell_type": "code",
   "execution_count": 23,
   "metadata": {},
   "outputs": [],
   "source": [
    "import json\n",
    "\n",
    "with open('results/gnn1.json', mode='w') as f:\n",
    "    json.dump(results, f, indent=4)"
   ]
  },
  {
   "cell_type": "code",
   "execution_count": null,
   "metadata": {},
   "outputs": [],
   "source": []
  }
 ],
 "metadata": {
  "interpreter": {
   "hash": "30452e0fb0b877c71442cfddf3db9e1b032e1699292a3dd400d9a1b61508e43d"
  },
  "kernelspec": {
   "display_name": "Python 3.9.7 64-bit ('traffic': conda)",
   "language": "python",
   "name": "python3"
  },
  "language_info": {
   "codemirror_mode": {
    "name": "ipython",
    "version": 3
   },
   "file_extension": ".py",
   "mimetype": "text/x-python",
   "name": "python",
   "nbconvert_exporter": "python",
   "pygments_lexer": "ipython3",
   "version": "3.9.7"
  }
 },
 "nbformat": 4,
 "nbformat_minor": 2
}
