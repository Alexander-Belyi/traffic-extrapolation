{
 "cells": [
  {
   "cell_type": "code",
   "execution_count": 1,
   "metadata": {},
   "outputs": [],
   "source": [
    "import sys\n",
    "sys.path.append('../')\n",
    "\n",
    "import networkx as nx\n",
    "from node2vec import Node2Vec\n",
    "\n",
    "from src.utils import load_embeddings\n",
    "\n",
    "%load_ext autoreload\n",
    "%autoreload 2"
   ]
  },
  {
   "cell_type": "code",
   "execution_count": 2,
   "metadata": {},
   "outputs": [
    {
     "data": {
      "text/plain": [
       "(60789, 75647)"
      ]
     },
     "execution_count": 2,
     "metadata": {},
     "output_type": "execute_result"
    }
   ],
   "source": [
    "G = nx.read_gpickle('data/network.gpickle')\n",
    "G.number_of_nodes(), G.number_of_edges()"
   ]
  },
  {
   "cell_type": "markdown",
   "metadata": {},
   "source": [
    "To search for node embeddings I use node2vec approach. I tried to use network SVD from network-sklearn, but it didn't work well (I got very low scaled vectors with values about 1e-20). node2vec gives more pleasant embeddings in terms of using dot product or cosine similarity. By the way it's not so fast (model trains for 3,5 minutes for graph with 60k vertices and 75k edges with some hyperparameters tuning)"
   ]
  },
  {
   "cell_type": "code",
   "execution_count": 4,
   "metadata": {},
   "outputs": [],
   "source": [
    "def generate_node_embeddings(graph: nx.Graph):\n",
    "    model = Node2Vec(graph, dimensions=64, num_walks=25, walk_length=25, temp_folder='temp/', workers=4)\n",
    "    result = model.fit(window=5, min_count=1)\n",
    "    return result"
   ]
  },
  {
   "cell_type": "code",
   "execution_count": 5,
   "metadata": {},
   "outputs": [
    {
     "name": "stderr",
     "output_type": "stream",
     "text": [
      "Computing transition probabilities: 100%|██████████| 60789/60789 [00:02<00:00, 21166.04it/s]\n",
      "\n",
      "Generating walks (CPU: 1):   0%|          | 0/7 [00:00<?, ?it/s]\n",
      "\n",
      "\u001b[A\u001b[A\n",
      "Generating walks (CPU: 1):  29%|██▊       | 2/7 [00:21<00:54, 10.97s/it]\n",
      "\n",
      "Generating walks (CPU: 1):  43%|████▎     | 3/7 [00:42<01:00, 15.14s/it]\n",
      "\u001b[A\n",
      "\n",
      "Generating walks (CPU: 1):  57%|█████▋    | 4/7 [01:02<00:49, 16.66s/it]\n",
      "\u001b[A\n",
      "\n",
      "Generating walks (CPU: 1):  71%|███████▏  | 5/7 [01:25<00:37, 18.94s/it]\n",
      "\u001b[A\n",
      "\n",
      "Generating walks (CPU: 1):  86%|████████▌ | 6/7 [01:44<00:19, 19.08s/it]\n",
      "\u001b[A\n",
      "\n",
      "Generating walks (CPU: 3): 100%|██████████| 6/6 [02:07<00:00, 21.29s/it]\n",
      "Generating walks (CPU: 2): 100%|██████████| 6/6 [02:11<00:00, 21.91s/it]\n",
      "Generating walks (CPU: 4): 100%|██████████| 6/6 [02:13<00:00, 22.25s/it]\n",
      "Generating walks (CPU: 1): 100%|██████████| 7/7 [02:15<00:00, 19.41s/it]\n"
     ]
    },
    {
     "name": "stdout",
     "output_type": "stream",
     "text": [
      "CPU times: user 21min 36s, sys: 3.4 s, total: 21min 40s\n",
      "Wall time: 7min 16s\n"
     ]
    }
   ],
   "source": [
    "%%time\n",
    "embeddings = generate_node_embeddings(G)"
   ]
  },
  {
   "cell_type": "code",
   "execution_count": 6,
   "metadata": {},
   "outputs": [
    {
     "name": "stdout",
     "output_type": "stream",
     "text": [
      "(0, 1)\n",
      "(0, 24)\n",
      "(0, 350192)\n",
      "(1, 2)\n",
      "(2, 3)\n"
     ]
    }
   ],
   "source": [
    "for idx, e in enumerate(G.edges()):\n",
    "    if idx == 5:\n",
    "        break\n",
    "    print(e)"
   ]
  },
  {
   "cell_type": "code",
   "execution_count": 7,
   "metadata": {},
   "outputs": [
    {
     "data": {
      "text/plain": [
       "[('1', 0.9892374873161316),\n",
       " ('350192', 0.9839320778846741),\n",
       " ('24', 0.9814940094947815),\n",
       " ('350191', 0.9578383564949036),\n",
       " ('200921', 0.9544402360916138),\n",
       " ('2', 0.9531792998313904),\n",
       " ('200923', 0.937479555606842),\n",
       " ('3', 0.920913815498352),\n",
       " ('332388', 0.9163187742233276),\n",
       " ('350190', 0.9128226041793823)]"
      ]
     },
     "execution_count": 7,
     "metadata": {},
     "output_type": "execute_result"
    }
   ],
   "source": [
    "embeddings.wv.most_similar('0')"
   ]
  },
  {
   "cell_type": "code",
   "execution_count": 8,
   "metadata": {},
   "outputs": [],
   "source": [
    "embeddings.save('models_data/embeddings64.data')"
   ]
  },
  {
   "cell_type": "code",
   "execution_count": 9,
   "metadata": {},
   "outputs": [],
   "source": [
    "# join embeddings with corresponding nodes (as x feature)\n",
    "for idx, node in enumerate(G.nodes()):\n",
    "    G.add_node(int(node), x=embeddings.wv[str(node)].copy())"
   ]
  },
  {
   "cell_type": "code",
   "execution_count": 10,
   "metadata": {},
   "outputs": [],
   "source": [
    "nx.readwrite.write_gpickle(G, 'data/network64.gpickle')"
   ]
  },
  {
   "cell_type": "code",
   "execution_count": null,
   "metadata": {},
   "outputs": [],
   "source": []
  }
 ],
 "metadata": {
  "interpreter": {
   "hash": "30452e0fb0b877c71442cfddf3db9e1b032e1699292a3dd400d9a1b61508e43d"
  },
  "kernelspec": {
   "display_name": "Python 3.9.7 ('traffic')",
   "language": "python",
   "name": "python3"
  },
  "language_info": {
   "codemirror_mode": {
    "name": "ipython",
    "version": 3
   },
   "file_extension": ".py",
   "mimetype": "text/x-python",
   "name": "python",
   "nbconvert_exporter": "python",
   "pygments_lexer": "ipython3",
   "version": "3.9.7"
  },
  "orig_nbformat": 4
 },
 "nbformat": 4,
 "nbformat_minor": 2
}
