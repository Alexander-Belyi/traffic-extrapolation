{
 "cells": [
  {
   "cell_type": "code",
   "execution_count": 1,
   "metadata": {
    "trusted": false
   },
   "outputs": [],
   "source": [
    "import pandas as pd\n",
    "import numpy as np\n",
    "import networkx as nx\n",
    "from sklearn.model_selection import train_test_split\n",
    "from node2vec import Node2Vec\n",
    "import torch\n",
    "import torch.nn as nn"
   ]
  },
  {
   "cell_type": "code",
   "execution_count": 2,
   "metadata": {
    "collapsed": false,
    "pycharm": {
     "name": "#%%\n"
    },
    "trusted": false
   },
   "outputs": [],
   "source": [
    "from math import radians, cos, sin, asin, sqrt\n",
    "\n",
    "def haversine(lon1, lat1, lon2, lat2):\n",
    "    \"\"\"\n",
    "    Calculate the great circle distance in kilometers between two points\n",
    "    on the earth (specified in decimal degrees)\n",
    "    \"\"\"\n",
    "    # convert decimal degrees to radians\n",
    "    # lon1, lat1, lon2, lat2 = map(radians, [lon1, lat1, lon2, lat2])\n",
    "\n",
    "    # haversine formula\n",
    "    dlon = lon2 - lon1\n",
    "    dlat = lat2 - lat1\n",
    "    a = sin(dlat/2)**2 + cos(lat1) * cos(lat2) * sin(dlon/2)**2\n",
    "    c = 2 * asin(sqrt(a))\n",
    "    r = 6371 # Radius of earth in kilometers. Use 3956 for miles. Determines return value units.\n",
    "    return c * r"
   ]
  },
  {
   "cell_type": "code",
   "execution_count": 3,
   "metadata": {
    "collapsed": false,
    "pycharm": {
     "name": "#%%\n"
    },
    "trusted": false
   },
   "outputs": [
    {
     "name": "stdout",
     "output_type": "stream",
     "text": [
      "<class 'pandas.core.frame.DataFrame'>\n",
      "RangeIndex: 236258 entries, 0 to 236257\n",
      "Data columns (total 3 columns):\n",
      " #   Column  Non-Null Count   Dtype  \n",
      "---  ------  --------------   -----  \n",
      " 0   lng     236258 non-null  float64\n",
      " 1   lat     236258 non-null  float64\n",
      " 2   id      236258 non-null  int64  \n",
      "dtypes: float64(2), int64(1)\n",
      "memory usage: 5.4 MB\n"
     ]
    }
   ],
   "source": [
    "nodes_df = pd.read_csv('data/road_intersection_nodes.csv')\n",
    "nodes_df.info()"
   ]
  },
  {
   "cell_type": "code",
   "execution_count": 4,
   "metadata": {},
   "outputs": [
    {
     "data": {
      "text/html": [
       "<div>\n",
       "<style scoped>\n",
       "    .dataframe tbody tr th:only-of-type {\n",
       "        vertical-align: middle;\n",
       "    }\n",
       "\n",
       "    .dataframe tbody tr th {\n",
       "        vertical-align: top;\n",
       "    }\n",
       "\n",
       "    .dataframe thead th {\n",
       "        text-align: right;\n",
       "    }\n",
       "</style>\n",
       "<table border=\"1\" class=\"dataframe\">\n",
       "  <thead>\n",
       "    <tr style=\"text-align: right;\">\n",
       "      <th></th>\n",
       "      <th>lng</th>\n",
       "      <th>lat</th>\n",
       "      <th>id</th>\n",
       "    </tr>\n",
       "  </thead>\n",
       "  <tbody>\n",
       "    <tr>\n",
       "      <th>0</th>\n",
       "      <td>-1.291857</td>\n",
       "      <td>0.710457</td>\n",
       "      <td>0</td>\n",
       "    </tr>\n",
       "    <tr>\n",
       "      <th>1</th>\n",
       "      <td>-1.291856</td>\n",
       "      <td>0.710460</td>\n",
       "      <td>1</td>\n",
       "    </tr>\n",
       "    <tr>\n",
       "      <th>2</th>\n",
       "      <td>-1.291854</td>\n",
       "      <td>0.710463</td>\n",
       "      <td>2</td>\n",
       "    </tr>\n",
       "    <tr>\n",
       "      <th>3</th>\n",
       "      <td>-1.291852</td>\n",
       "      <td>0.710466</td>\n",
       "      <td>3</td>\n",
       "    </tr>\n",
       "    <tr>\n",
       "      <th>4</th>\n",
       "      <td>-1.291850</td>\n",
       "      <td>0.710468</td>\n",
       "      <td>4</td>\n",
       "    </tr>\n",
       "    <tr>\n",
       "      <th>...</th>\n",
       "      <td>...</td>\n",
       "      <td>...</td>\n",
       "      <td>...</td>\n",
       "    </tr>\n",
       "    <tr>\n",
       "      <th>236253</th>\n",
       "      <td>-1.289822</td>\n",
       "      <td>0.709714</td>\n",
       "      <td>2414372</td>\n",
       "    </tr>\n",
       "    <tr>\n",
       "      <th>236254</th>\n",
       "      <td>-1.290694</td>\n",
       "      <td>0.711094</td>\n",
       "      <td>2414375</td>\n",
       "    </tr>\n",
       "    <tr>\n",
       "      <th>236255</th>\n",
       "      <td>-1.290695</td>\n",
       "      <td>0.711093</td>\n",
       "      <td>2414376</td>\n",
       "    </tr>\n",
       "    <tr>\n",
       "      <th>236256</th>\n",
       "      <td>-1.290695</td>\n",
       "      <td>0.711091</td>\n",
       "      <td>2414377</td>\n",
       "    </tr>\n",
       "    <tr>\n",
       "      <th>236257</th>\n",
       "      <td>-1.290696</td>\n",
       "      <td>0.711090</td>\n",
       "      <td>2414378</td>\n",
       "    </tr>\n",
       "  </tbody>\n",
       "</table>\n",
       "<p>236258 rows × 3 columns</p>\n",
       "</div>"
      ],
      "text/plain": [
       "             lng       lat       id\n",
       "0      -1.291857  0.710457        0\n",
       "1      -1.291856  0.710460        1\n",
       "2      -1.291854  0.710463        2\n",
       "3      -1.291852  0.710466        3\n",
       "4      -1.291850  0.710468        4\n",
       "...          ...       ...      ...\n",
       "236253 -1.289822  0.709714  2414372\n",
       "236254 -1.290694  0.711094  2414375\n",
       "236255 -1.290695  0.711093  2414376\n",
       "236256 -1.290695  0.711091  2414377\n",
       "236257 -1.290696  0.711090  2414378\n",
       "\n",
       "[236258 rows x 3 columns]"
      ]
     },
     "execution_count": 4,
     "metadata": {},
     "output_type": "execute_result"
    }
   ],
   "source": [
    "nodes_df[['lng', 'lat']] = nodes_df[['lng', 'lat']].apply(np.vectorize(radians))\n",
    "nodes_df"
   ]
  },
  {
   "cell_type": "code",
   "execution_count": 5,
   "metadata": {
    "collapsed": false,
    "pycharm": {
     "name": "#%%\n"
    },
    "trusted": false
   },
   "outputs": [],
   "source": [
    "lat_center, lng_center = nodes_df.lat.mean(), nodes_df.lng.mean()"
   ]
  },
  {
   "cell_type": "code",
   "execution_count": 6,
   "metadata": {
    "collapsed": false,
    "pycharm": {
     "name": "#%%\n"
    },
    "trusted": false
   },
   "outputs": [
    {
     "data": {
      "text/plain": [
       "(11704, 0)"
      ]
     },
     "execution_count": 6,
     "metadata": {},
     "output_type": "execute_result"
    }
   ],
   "source": [
    "G = nx.Graph()\n",
    "G.graph['Name'] = 'TLC'\n",
    "\n",
    "RADIUS = 4\n",
    "node_to_idx = {}\n",
    "\n",
    "for idx, (_, row) in enumerate(nodes_df.iterrows()):\n",
    "    if haversine(lng_center, lat_center, row.lng, row.lat) > RADIUS:\n",
    "       continue\n",
    "    G.add_node(int(row.id), lng=row.lng, lat=row.lat)\n",
    "    node_to_idx[int(row.id)] = idx\n",
    "\n",
    "G.number_of_nodes(), G.number_of_edges()"
   ]
  },
  {
   "cell_type": "code",
   "execution_count": 7,
   "metadata": {
    "collapsed": false,
    "pycharm": {
     "name": "#%%\n"
    },
    "trusted": false
   },
   "outputs": [],
   "source": [
    "observed_nodes = list(G.nodes())\n",
    "obs_nodes_set = set(observed_nodes)"
   ]
  },
  {
   "cell_type": "code",
   "execution_count": 8,
   "metadata": {
    "pycharm": {
     "is_executing": true
    }
   },
   "outputs": [
    {
     "data": {
      "text/html": [
       "<div>\n",
       "<style scoped>\n",
       "    .dataframe tbody tr th:only-of-type {\n",
       "        vertical-align: middle;\n",
       "    }\n",
       "\n",
       "    .dataframe tbody tr th {\n",
       "        vertical-align: top;\n",
       "    }\n",
       "\n",
       "    .dataframe thead th {\n",
       "        text-align: right;\n",
       "    }\n",
       "</style>\n",
       "<table border=\"1\" class=\"dataframe\">\n",
       "  <thead>\n",
       "    <tr style=\"text-align: right;\">\n",
       "      <th></th>\n",
       "      <th>day</th>\n",
       "      <th>id</th>\n",
       "      <th>pickups</th>\n",
       "    </tr>\n",
       "  </thead>\n",
       "  <tbody>\n",
       "    <tr>\n",
       "      <th>5902</th>\n",
       "      <td>1.0</td>\n",
       "      <td>19416</td>\n",
       "      <td>3.0</td>\n",
       "    </tr>\n",
       "    <tr>\n",
       "      <th>5903</th>\n",
       "      <td>1.0</td>\n",
       "      <td>19417</td>\n",
       "      <td>2.0</td>\n",
       "    </tr>\n",
       "    <tr>\n",
       "      <th>5904</th>\n",
       "      <td>1.0</td>\n",
       "      <td>19418</td>\n",
       "      <td>2.0</td>\n",
       "    </tr>\n",
       "    <tr>\n",
       "      <th>5905</th>\n",
       "      <td>1.0</td>\n",
       "      <td>19420</td>\n",
       "      <td>2.0</td>\n",
       "    </tr>\n",
       "    <tr>\n",
       "      <th>5906</th>\n",
       "      <td>1.0</td>\n",
       "      <td>19422</td>\n",
       "      <td>4.0</td>\n",
       "    </tr>\n",
       "    <tr>\n",
       "      <th>...</th>\n",
       "      <td>...</td>\n",
       "      <td>...</td>\n",
       "      <td>...</td>\n",
       "    </tr>\n",
       "    <tr>\n",
       "      <th>35910369</th>\n",
       "      <td>152.0</td>\n",
       "      <td>401970</td>\n",
       "      <td>0.0</td>\n",
       "    </tr>\n",
       "    <tr>\n",
       "      <th>35910370</th>\n",
       "      <td>152.0</td>\n",
       "      <td>401973</td>\n",
       "      <td>0.0</td>\n",
       "    </tr>\n",
       "    <tr>\n",
       "      <th>35910371</th>\n",
       "      <td>152.0</td>\n",
       "      <td>401974</td>\n",
       "      <td>0.0</td>\n",
       "    </tr>\n",
       "    <tr>\n",
       "      <th>35910491</th>\n",
       "      <td>152.0</td>\n",
       "      <td>872198</td>\n",
       "      <td>0.0</td>\n",
       "    </tr>\n",
       "    <tr>\n",
       "      <th>35910811</th>\n",
       "      <td>152.0</td>\n",
       "      <td>1206243</td>\n",
       "      <td>0.0</td>\n",
       "    </tr>\n",
       "  </tbody>\n",
       "</table>\n",
       "<p>1779008 rows × 3 columns</p>\n",
       "</div>"
      ],
      "text/plain": [
       "            day       id  pickups\n",
       "5902        1.0    19416      3.0\n",
       "5903        1.0    19417      2.0\n",
       "5904        1.0    19418      2.0\n",
       "5905        1.0    19420      2.0\n",
       "5906        1.0    19422      4.0\n",
       "...         ...      ...      ...\n",
       "35910369  152.0   401970      0.0\n",
       "35910370  152.0   401973      0.0\n",
       "35910371  152.0   401974      0.0\n",
       "35910491  152.0   872198      0.0\n",
       "35910811  152.0  1206243      0.0\n",
       "\n",
       "[1779008 rows x 3 columns]"
      ]
     },
     "execution_count": 8,
     "metadata": {},
     "output_type": "execute_result"
    }
   ],
   "source": [
    "pickups_df = pd.read_csv('data/TLC_daily.csv')\n",
    "pickups_df = pickups_df[pickups_df['id'].isin(obs_nodes_set)]\n",
    "pickups_df"
   ]
  },
  {
   "cell_type": "code",
   "execution_count": 9,
   "metadata": {
    "collapsed": false,
    "pycharm": {
     "is_executing": true,
     "name": "#%%\n"
    },
    "trusted": false
   },
   "outputs": [
    {
     "name": "stdout",
     "output_type": "stream",
     "text": [
      "<class 'pandas.core.frame.DataFrame'>\n",
      "RangeIndex: 282983 entries, 0 to 282982\n",
      "Data columns (total 6 columns):\n",
      " #   Column  Non-Null Count   Dtype  \n",
      "---  ------  --------------   -----  \n",
      " 0   olng    282983 non-null  float64\n",
      " 1   olat    282983 non-null  float64\n",
      " 2   dlng    282983 non-null  float64\n",
      " 3   dlat    282983 non-null  float64\n",
      " 4   oid     282983 non-null  int64  \n",
      " 5   did     282983 non-null  int64  \n",
      "dtypes: float64(4), int64(2)\n",
      "memory usage: 13.0 MB\n"
     ]
    }
   ],
   "source": [
    "edges_df = pd.read_csv('data/road_intersection_edges.csv')\n",
    "edges_df.info()"
   ]
  },
  {
   "cell_type": "code",
   "execution_count": 10,
   "metadata": {
    "collapsed": false,
    "pycharm": {
     "is_executing": true,
     "name": "#%%\n"
    },
    "trusted": false
   },
   "outputs": [],
   "source": [
    "for _, row in edges_df.iterrows():\n",
    "    if row.oid not in obs_nodes_set or row.did not in obs_nodes_set:\n",
    "        continue\n",
    "\n",
    "    dist = haversine(row.olng, row.olat, row.dlng, row.dlat)\n",
    "\n",
    "    G.add_edge(int(row.oid), int(row.did), weight=dist)\n",
    "    \n",
    "G.number_of_nodes(), G.number_of_edges()"
   ]
  },
  {
   "cell_type": "code",
   "execution_count": 11,
   "metadata": {
    "collapsed": false,
    "pycharm": {
     "is_executing": true,
     "name": "#%%\n"
    },
    "trusted": false
   },
   "outputs": [
    {
     "name": "stderr",
     "output_type": "stream",
     "text": [
      "Computing transition probabilities: 100%|██████████| 11704/11704 [00:00<00:00, 24554.48it/s]\n",
      "Generating walks (CPU: 1): 100%|██████████| 3/3 [00:03<00:00,  1.20s/it]\n",
      "Generating walks (CPU: 3): 100%|██████████| 2/2 [00:02<00:00,  1.24s/it]\n",
      "Generating walks (CPU: 2): 100%|██████████| 3/3 [00:03<00:00,  1.20s/it]\n",
      "Generating walks (CPU: 4): 100%|██████████| 2/2 [00:02<00:00,  1.24s/it]\n"
     ]
    }
   ],
   "source": [
    "embedder = Node2Vec(G, dimensions=128, walk_length=30, workers=4)"
   ]
  },
  {
   "cell_type": "code",
   "execution_count": 12,
   "metadata": {
    "collapsed": false,
    "pycharm": {
     "is_executing": true,
     "name": "#%%\n"
    },
    "trusted": false
   },
   "outputs": [],
   "source": [
    "model = embedder.fit(window=5, min_count=1)"
   ]
  },
  {
   "cell_type": "code",
   "execution_count": 13,
   "metadata": {
    "collapsed": false,
    "pycharm": {
     "is_executing": true,
     "name": "#%%\n"
    },
    "trusted": false
   },
   "outputs": [
    {
     "name": "stdout",
     "output_type": "stream",
     "text": [
      "(19416, 19417)\n",
      "(19416, 195466)\n",
      "(19416, 195451)\n",
      "(19416, 388769)\n",
      "(19417, 19418)\n"
     ]
    }
   ],
   "source": [
    "for idx, e in enumerate(G.edges()):\n",
    "    if idx == 5:\n",
    "        break\n",
    "    print(e)"
   ]
  },
  {
   "cell_type": "code",
   "execution_count": null,
   "metadata": {
    "collapsed": false,
    "pycharm": {
     "is_executing": true,
     "name": "#%%\n"
    },
    "trusted": false
   },
   "outputs": [],
   "source": [
    "# model.wv.most_similar('19459')"
   ]
  },
  {
   "cell_type": "code",
   "execution_count": null,
   "metadata": {
    "collapsed": false,
    "pycharm": {
     "is_executing": true,
     "name": "#%%\n"
    },
    "trusted": false
   },
   "outputs": [],
   "source": [
    "# embedding = nn.Embedding(G.number_of_nodes(), 128)\n",
    "# embedding.weight.requires_grad = False\n",
    "\n",
    "for idx, node in enumerate(G.nodes()):\n",
    "    G.add_node(int(node), x=model.wv[str(node)].copy())"
   ]
  },
  {
   "cell_type": "code",
   "execution_count": 80,
   "metadata": {
    "pycharm": {
     "is_executing": true
    }
   },
   "outputs": [
    {
     "data": {
      "text/plain": [
       "(19422, 3.0)"
      ]
     },
     "execution_count": 80,
     "metadata": {},
     "output_type": "execute_result"
    }
   ],
   "source": [
    "from torch.utils.data import Dataset\n",
    "\n",
    "\n",
    "class DayObservationsDataset(Dataset):\n",
    "    def __init__(self, df: pd.DataFrame) -> None:\n",
    "        super().__init__()\n",
    "        self.data = df['id'].to_numpy()\n",
    "        self.targets = df['pickups'].to_numpy()\n",
    "        self.observed_nodes = set(np.unique(self.data))\n",
    "\n",
    "        self.node_to_target = df.set_index('id')['pickups'].to_dict()\n",
    "    \n",
    "    def __len__(self):\n",
    "        return len(self.data)\n",
    "    \n",
    "    def __getitem__(self, idx):\n",
    "        # returns node, and its observation\n",
    "        return self.data[idx], self.targets[idx]\n",
    "\n",
    "    def get_observation_by_node(self, node):\n",
    "        return self.node_to_target[node]\n",
    "\n",
    "    def get_observed_nodes(self):\n",
    "        return self.observed_nodes\n",
    "\n",
    "\n",
    "def get_dataset_by_day(pickups_df, day):\n",
    "    df = pickups_df[pickups_df['day'].astype('int') == day].copy()\n",
    "    df.drop('day', axis=1, inplace=True)\n",
    "    return DayObservationsDataset(df)\n",
    "\n",
    "\n",
    "ds = get_dataset_by_day(pickups_df, 16)\n",
    "next(iter(ds))"
   ]
  },
  {
   "cell_type": "code",
   "execution_count": 81,
   "metadata": {
    "collapsed": false,
    "pycharm": {
     "is_executing": true,
     "name": "#%%\n"
    },
    "trusted": false
   },
   "outputs": [
    {
     "name": "stdout",
     "output_type": "stream",
     "text": [
      "8455 1493 1756\n"
     ]
    }
   ],
   "source": [
    "from torch.utils.data import DataLoader\n",
    "from torch.utils.data.sampler import SubsetRandomSampler, Sampler\n",
    "\n",
    "np.random.seed(228)\n",
    "\n",
    "indices = list(range(len(ds)))\n",
    "\n",
    "train_indices, test_indices = train_test_split(indices, test_size=0.15)\n",
    "train_indices, val_indices = train_test_split(train_indices, test_size=0.15)\n",
    "print(len(train_indices), len(val_indices), len(test_indices))\n",
    "\n",
    "train_sampler = SubsetRandomSampler(train_indices)\n",
    "val_sampler = SubsetRandomSampler(val_indices)\n",
    "test_sampler = SubsetRandomSampler(test_indices)\n",
    "\n",
    "\n",
    "train_loader = DataLoader(ds, batch_size=128, sampler=train_sampler)\n",
    "val_loader = DataLoader(ds, batch_size=len(val_sampler.indices), sampler=val_sampler)\n",
    "test_loader = DataLoader(ds, batch_size=len(test_sampler.indices), sampler=test_sampler)"
   ]
  },
  {
   "cell_type": "code",
   "execution_count": 82,
   "metadata": {
    "pycharm": {
     "is_executing": true
    }
   },
   "outputs": [
    {
     "data": {
      "text/plain": [
       "[tensor([230298, 267138, 177663, 317350, 116113, 117764, 225551, 210600, 117121,\n",
       "         246571, 128300, 117979, 191861, 285700, 286930,  67883, 234779,  67209,\n",
       "          30528, 114183,  73297, 317347,  80475, 284193, 234476,  84171, 392680,\n",
       "          30347,  19443, 172562, 120175,  73275, 215398,  27219,  63138, 277655,\n",
       "         267322,  22964, 321757,  20802,  30531, 369655, 112939,  98501, 223953,\n",
       "         163294, 173486, 119091,  73290,  79762,  32910, 288279, 116502, 370877,\n",
       "         378871, 115907,  37899,  24399, 284142, 298992, 209166, 279975, 288802,\n",
       "         109950, 298981, 174319, 321847,  26910, 319063,  80401, 304914, 397221,\n",
       "         267329, 319404,  84234, 116551,  37898, 117742, 277287, 373420, 188952,\n",
       "         117731, 277670, 298978, 378915, 191558, 223425,  67881, 371019,  30555,\n",
       "          26478,  80353, 285800,  26730,  67754, 113520,  23317, 286900, 267372,\n",
       "         370856, 109778, 200288,  70447, 387925, 191854, 286859,  67561,  82104,\n",
       "         111206, 320341, 266958,  67905,  33926, 215563,  79780,  33589,  20741,\n",
       "         228472, 395184, 282389,  55100,  67875, 209921, 351043, 159936, 174294,\n",
       "          80251, 323291]),\n",
       " tensor([ 0.,  0.,  0.,  6.,  9.,  1.,  4.,  1.,  2.,  0.,  1.,  2.,  3.,  1.,\n",
       "          0.,  1.,  0.,  0., 13.,  0.,  0.,  5.,  0.,  0.,  0.,  0.,  0.,  1.,\n",
       "          0.,  0.,  0.,  0.,  0.,  1.,  0.,  1.,  0.,  0.,  0.,  1., 13.,  0.,\n",
       "          5.,  0.,  5.,  2.,  0.,  1.,  0.,  0.,  0.,  0.,  0.,  1.,  0.,  0.,\n",
       "          0.,  0.,  0.,  1.,  0.,  0.,  0.,  0.,  0.,  0.,  0.,  0.,  0.,  0.,\n",
       "          8.,  0.,  0.,  0.,  1.,  4.,  0.,  1.,  0.,  0., 15.,  4.,  0.,  0.,\n",
       "          0.,  0.,  0.,  3.,  0., 40.,  0.,  0.,  1.,  0.,  1., 20.,  4.,  0.,\n",
       "          4.,  0.,  7.,  0.,  1.,  0.,  1.,  0.,  0.,  0.,  3.,  1.,  0.,  0.,\n",
       "          1.,  0.,  0.,  0., 16.,  0.,  5.,  0.,  5.,  1.,  0.,  4.,  0.,  0.,\n",
       "          0.,  0.], dtype=torch.float64)]"
      ]
     },
     "execution_count": 82,
     "metadata": {},
     "output_type": "execute_result"
    }
   ],
   "source": [
    "next(iter(train_loader))"
   ]
  },
  {
   "cell_type": "code",
   "execution_count": 83,
   "metadata": {
    "pycharm": {
     "is_executing": true
    }
   },
   "outputs": [
    {
     "data": {
      "text/plain": [
       "Data(edge_index=[2, 30042], lng=[11704], lat=[11704], weight=[30042], num_nodes=11704)"
      ]
     },
     "execution_count": 83,
     "metadata": {},
     "output_type": "execute_result"
    }
   ],
   "source": [
    "from torch_geometric.utils.convert import from_networkx\n",
    "\n",
    "pyg_graph = from_networkx(G)\n",
    "pyg_graph"
   ]
  },
  {
   "cell_type": "code",
   "execution_count": 84,
   "metadata": {
    "pycharm": {
     "is_executing": true
    }
   },
   "outputs": [
    {
     "data": {
      "text/html": [
       "<div>\n",
       "<style scoped>\n",
       "    .dataframe tbody tr th:only-of-type {\n",
       "        vertical-align: middle;\n",
       "    }\n",
       "\n",
       "    .dataframe tbody tr th {\n",
       "        vertical-align: top;\n",
       "    }\n",
       "\n",
       "    .dataframe thead th {\n",
       "        text-align: right;\n",
       "    }\n",
       "</style>\n",
       "<table border=\"1\" class=\"dataframe\">\n",
       "  <thead>\n",
       "    <tr style=\"text-align: right;\">\n",
       "      <th></th>\n",
       "      <th>lng</th>\n",
       "      <th>lat</th>\n",
       "      <th>id</th>\n",
       "    </tr>\n",
       "  </thead>\n",
       "  <tbody>\n",
       "    <tr>\n",
       "      <th>12256</th>\n",
       "      <td>-1.290688</td>\n",
       "      <td>0.711084</td>\n",
       "      <td>19422</td>\n",
       "    </tr>\n",
       "    <tr>\n",
       "      <th>12257</th>\n",
       "      <td>-1.290683</td>\n",
       "      <td>0.711083</td>\n",
       "      <td>19424</td>\n",
       "    </tr>\n",
       "    <tr>\n",
       "      <th>12258</th>\n",
       "      <td>-1.290667</td>\n",
       "      <td>0.711080</td>\n",
       "      <td>19426</td>\n",
       "    </tr>\n",
       "    <tr>\n",
       "      <th>12259</th>\n",
       "      <td>-1.290711</td>\n",
       "      <td>0.711088</td>\n",
       "      <td>19427</td>\n",
       "    </tr>\n",
       "    <tr>\n",
       "      <th>12260</th>\n",
       "      <td>-1.290702</td>\n",
       "      <td>0.711087</td>\n",
       "      <td>19428</td>\n",
       "    </tr>\n",
       "    <tr>\n",
       "      <th>...</th>\n",
       "      <td>...</td>\n",
       "      <td>...</td>\n",
       "      <td>...</td>\n",
       "    </tr>\n",
       "    <tr>\n",
       "      <th>235074</th>\n",
       "      <td>-1.289575</td>\n",
       "      <td>0.710608</td>\n",
       "      <td>401970</td>\n",
       "    </tr>\n",
       "    <tr>\n",
       "      <th>235075</th>\n",
       "      <td>-1.289582</td>\n",
       "      <td>0.710618</td>\n",
       "      <td>401973</td>\n",
       "    </tr>\n",
       "    <tr>\n",
       "      <th>235076</th>\n",
       "      <td>-1.289581</td>\n",
       "      <td>0.710617</td>\n",
       "      <td>401974</td>\n",
       "    </tr>\n",
       "    <tr>\n",
       "      <th>235231</th>\n",
       "      <td>-1.289707</td>\n",
       "      <td>0.710787</td>\n",
       "      <td>872198</td>\n",
       "    </tr>\n",
       "    <tr>\n",
       "      <th>235260</th>\n",
       "      <td>-1.290713</td>\n",
       "      <td>0.710965</td>\n",
       "      <td>921309</td>\n",
       "    </tr>\n",
       "  </tbody>\n",
       "</table>\n",
       "<p>11704 rows × 3 columns</p>\n",
       "</div>"
      ],
      "text/plain": [
       "             lng       lat      id\n",
       "12256  -1.290688  0.711084   19422\n",
       "12257  -1.290683  0.711083   19424\n",
       "12258  -1.290667  0.711080   19426\n",
       "12259  -1.290711  0.711088   19427\n",
       "12260  -1.290702  0.711087   19428\n",
       "...          ...       ...     ...\n",
       "235074 -1.289575  0.710608  401970\n",
       "235075 -1.289582  0.710618  401973\n",
       "235076 -1.289581  0.710617  401974\n",
       "235231 -1.289707  0.710787  872198\n",
       "235260 -1.290713  0.710965  921309\n",
       "\n",
       "[11704 rows x 3 columns]"
      ]
     },
     "execution_count": 84,
     "metadata": {},
     "output_type": "execute_result"
    }
   ],
   "source": [
    "nodes_df.iloc[np.vectorize(node_to_idx.get)(ds.data)]"
   ]
  },
  {
   "cell_type": "code",
   "execution_count": 85,
   "metadata": {
    "pycharm": {
     "is_executing": true
    }
   },
   "outputs": [
    {
     "data": {
      "text/html": [
       "<div>\n",
       "<style scoped>\n",
       "    .dataframe tbody tr th:only-of-type {\n",
       "        vertical-align: middle;\n",
       "    }\n",
       "\n",
       "    .dataframe tbody tr th {\n",
       "        vertical-align: top;\n",
       "    }\n",
       "\n",
       "    .dataframe thead th {\n",
       "        text-align: right;\n",
       "    }\n",
       "</style>\n",
       "<table border=\"1\" class=\"dataframe\">\n",
       "  <thead>\n",
       "    <tr style=\"text-align: right;\">\n",
       "      <th></th>\n",
       "      <th>lng</th>\n",
       "      <th>lat</th>\n",
       "      <th>id</th>\n",
       "    </tr>\n",
       "  </thead>\n",
       "  <tbody>\n",
       "    <tr>\n",
       "      <th>12256</th>\n",
       "      <td>-1.290688</td>\n",
       "      <td>0.711084</td>\n",
       "      <td>19422</td>\n",
       "    </tr>\n",
       "    <tr>\n",
       "      <th>12257</th>\n",
       "      <td>-1.290683</td>\n",
       "      <td>0.711083</td>\n",
       "      <td>19424</td>\n",
       "    </tr>\n",
       "    <tr>\n",
       "      <th>12258</th>\n",
       "      <td>-1.290667</td>\n",
       "      <td>0.711080</td>\n",
       "      <td>19426</td>\n",
       "    </tr>\n",
       "    <tr>\n",
       "      <th>12259</th>\n",
       "      <td>-1.290711</td>\n",
       "      <td>0.711088</td>\n",
       "      <td>19427</td>\n",
       "    </tr>\n",
       "    <tr>\n",
       "      <th>12260</th>\n",
       "      <td>-1.290702</td>\n",
       "      <td>0.711087</td>\n",
       "      <td>19428</td>\n",
       "    </tr>\n",
       "    <tr>\n",
       "      <th>...</th>\n",
       "      <td>...</td>\n",
       "      <td>...</td>\n",
       "      <td>...</td>\n",
       "    </tr>\n",
       "    <tr>\n",
       "      <th>235074</th>\n",
       "      <td>-1.289575</td>\n",
       "      <td>0.710608</td>\n",
       "      <td>401970</td>\n",
       "    </tr>\n",
       "    <tr>\n",
       "      <th>235075</th>\n",
       "      <td>-1.289582</td>\n",
       "      <td>0.710618</td>\n",
       "      <td>401973</td>\n",
       "    </tr>\n",
       "    <tr>\n",
       "      <th>235076</th>\n",
       "      <td>-1.289581</td>\n",
       "      <td>0.710617</td>\n",
       "      <td>401974</td>\n",
       "    </tr>\n",
       "    <tr>\n",
       "      <th>235231</th>\n",
       "      <td>-1.289707</td>\n",
       "      <td>0.710787</td>\n",
       "      <td>872198</td>\n",
       "    </tr>\n",
       "    <tr>\n",
       "      <th>235260</th>\n",
       "      <td>-1.290713</td>\n",
       "      <td>0.710965</td>\n",
       "      <td>921309</td>\n",
       "    </tr>\n",
       "  </tbody>\n",
       "</table>\n",
       "<p>11704 rows × 3 columns</p>\n",
       "</div>"
      ],
      "text/plain": [
       "             lng       lat      id\n",
       "12256  -1.290688  0.711084   19422\n",
       "12257  -1.290683  0.711083   19424\n",
       "12258  -1.290667  0.711080   19426\n",
       "12259  -1.290711  0.711088   19427\n",
       "12260  -1.290702  0.711087   19428\n",
       "...          ...       ...     ...\n",
       "235074 -1.289575  0.710608  401970\n",
       "235075 -1.289582  0.710618  401973\n",
       "235076 -1.289581  0.710617  401974\n",
       "235231 -1.289707  0.710787  872198\n",
       "235260 -1.290713  0.710965  921309\n",
       "\n",
       "[11704 rows x 3 columns]"
      ]
     },
     "execution_count": 85,
     "metadata": {},
     "output_type": "execute_result"
    }
   ],
   "source": [
    "nodes_df.iloc[np.vectorize(node_to_idx.get)(ds.data)]"
   ]
  },
  {
   "cell_type": "code",
   "execution_count": 86,
   "metadata": {
    "pycharm": {
     "is_executing": true
    }
   },
   "outputs": [
    {
     "data": {
      "text/plain": [
       "(array([ 26915, 322526, 378895, ..., 237212, 278082, 168995]),\n",
       " array([1., 0., 0., ..., 0., 0., 1.]))"
      ]
     },
     "execution_count": 86,
     "metadata": {},
     "output_type": "execute_result"
    }
   ],
   "source": [
    "ds[train_indices]"
   ]
  },
  {
   "cell_type": "code",
   "execution_count": 87,
   "metadata": {
    "pycharm": {
     "is_executing": true
    }
   },
   "outputs": [
    {
     "data": {
      "text/plain": [
       "(tensor([0.0000e+00, 0.0000e+00, 0.0000e+00, 3.8782e+01, 0.0000e+00, 3.0000e+00,\n",
       "         0.0000e+00, 0.0000e+00, 9.9103e-01, 0.0000e+00, 8.7961e-06, 2.6969e+01,\n",
       "         1.8170e-11, 0.0000e+00, 2.5100e+00, 0.0000e+00, 1.8546e-04, 8.0076e-13,\n",
       "         2.0000e+00, 1.0072e-06], dtype=torch.float64, grad_fn=<SliceBackward0>),\n",
       " tensor([ 0.,  0.,  0., 43.,  0.,  2.,  0.,  0.,  1.,  0.,  0., 28.,  0.,  0.,\n",
       "         13.,  0.,  0.,  0.,  6.,  0.], dtype=torch.float64))"
      ]
     },
     "execution_count": 87,
     "metadata": {},
     "output_type": "execute_result"
    }
   ],
   "source": [
    "from sklearn.neighbors import NearestNeighbors\n",
    "\n",
    "def weight_fn(dists, lamb):\n",
    "    return torch.exp(-lamb * dists)\n",
    "\n",
    "\n",
    "class Predictor(nn.Module):\n",
    "    def __init__(self, pyg_graph, nodes_df, observs) -> None:\n",
    "        super().__init__()\n",
    "\n",
    "        self.g = pyg_graph\n",
    "        self.nodes_df = nodes_df\n",
    "        self.obs_nodes = observs[0]\n",
    "        self.obs_targets = observs[1]\n",
    "\n",
    "        self.neighbors = NearestNeighbors(n_neighbors=10, metric='haversine')\n",
    "        self.obs_nodes_locs = self.nodes_df.iloc[np.vectorize(node_to_idx.get)(self.obs_nodes)]\n",
    "        self.neighbors.fit(self.obs_nodes_locs[['lat', 'lng']].values)\n",
    "\n",
    "        self.k = nn.Parameter(torch.rand(1))\n",
    "        self.lambda_1 = nn.Parameter(torch.rand(1))\n",
    "        self.lambda_2 = nn.Parameter(torch.rand(1))\n",
    "    \n",
    "    def get_nearest_observations(self, X):\n",
    "        # print(X)\n",
    "        dists, indices = self.neighbors.kneighbors(nodes_df.iloc[np.vectorize(node_to_idx.get)(X)][['lat', 'lng']].values)\n",
    "        dists = dists * 6371 * 1000\n",
    "        # so for now dist in meters\n",
    "        if self.training:\n",
    "            dists, indices = dists[:, 1:], indices[:, 1:]\n",
    "        # get_observations = np.vectorize(self.obs_ds.get_observation_by_node)\n",
    "        # observations = get_observations(self.obs_nodes_locs['id'].values[indices])\n",
    "        observations = self.obs_targets[indices]\n",
    "        \n",
    "        return torch.as_tensor(dists), torch.as_tensor(observations)\n",
    "\n",
    "    def forward(self, X):\n",
    "        dists, observations = self.get_nearest_observations(X)\n",
    "\n",
    "        weights = weight_fn(dists, self.lambda_1)\n",
    "        # sum normalizization\n",
    "        weights = nn.functional.normalize(weights, p=1)\n",
    "        result = torch.sum(weights.mul(observations), dim=-1)\n",
    "\n",
    "        return result\n",
    "\n",
    "model = Predictor(pyg_graph, nodes_df, ds[train_indices])\n",
    "kek = next(iter(test_loader))\n",
    "model(kek[0])[:20], kek[1][:20] "
   ]
  },
  {
   "cell_type": "code",
   "execution_count": 88,
   "metadata": {
    "pycharm": {
     "is_executing": true
    }
   },
   "outputs": [
    {
     "name": "stdout",
     "output_type": "stream",
     "text": [
      "[Parameter containing:\n",
      "tensor([0.3132], requires_grad=True)]\n",
      "Epoch 0, Loss: 2.9754, Val loss: 4.8837, Val R2: 0.7859\n",
      "Parameter containing:\n",
      "tensor([0.2339], requires_grad=True)\n",
      "Epoch 10, Loss: 2.7967, Val loss: 4.2428, Val R2: 0.8140\n",
      "Parameter containing:\n",
      "tensor([0.0666], requires_grad=True)\n",
      "Epoch 20, Loss: 2.8086, Val loss: 4.3267, Val R2: 0.8103\n",
      "Parameter containing:\n",
      "tensor([0.1019], requires_grad=True)\n",
      "Epoch 30, Loss: 2.8600, Val loss: 4.2431, Val R2: 0.8140\n",
      "Parameter containing:\n",
      "tensor([0.0661], requires_grad=True)\n",
      "Epoch 40, Loss: 2.7965, Val loss: 4.3020, Val R2: 0.8114\n",
      "Parameter containing:\n",
      "tensor([0.0953], requires_grad=True)\n",
      "Epoch 50, Loss: 2.7817, Val loss: 4.2490, Val R2: 0.8137\n",
      "Parameter containing:\n",
      "tensor([0.0761], requires_grad=True)\n",
      "Epoch 60, Loss: 2.7651, Val loss: 4.2648, Val R2: 0.8130\n",
      "Parameter containing:\n",
      "tensor([0.0572], requires_grad=True)\n",
      "Epoch 70, Loss: 2.7616, Val loss: 4.3336, Val R2: 0.8100\n",
      "Parameter containing:\n",
      "tensor([0.0485], requires_grad=True)\n",
      "Epoch 80, Loss: 2.7575, Val loss: 4.3260, Val R2: 0.8103\n",
      "Parameter containing:\n",
      "tensor([0.0492], requires_grad=True)\n",
      "Epoch 90, Loss: 2.7328, Val loss: 4.3493, Val R2: 0.8093\n",
      "Parameter containing:\n",
      "tensor([0.0473], requires_grad=True)\n",
      "Epoch 100, Loss: 2.7240, Val loss: 4.3525, Val R2: 0.8092\n",
      "Parameter containing:\n",
      "tensor([0.0471], requires_grad=True)\n",
      "Epoch 110, Loss: 2.7312, Val loss: 4.3561, Val R2: 0.8090\n",
      "Parameter containing:\n",
      "tensor([0.0468], requires_grad=True)\n",
      "Epoch 120, Loss: 2.7502, Val loss: 4.3655, Val R2: 0.8086\n",
      "Parameter containing:\n",
      "tensor([0.0462], requires_grad=True)\n",
      "Epoch 130, Loss: 2.7431, Val loss: 4.4081, Val R2: 0.8067\n",
      "Parameter containing:\n",
      "tensor([0.0436], requires_grad=True)\n",
      "Epoch 140, Loss: 2.7909, Val loss: 4.3834, Val R2: 0.8078\n",
      "Parameter containing:\n",
      "tensor([0.0450], requires_grad=True)\n",
      "Epoch 150, Loss: 2.7211, Val loss: 4.3727, Val R2: 0.8083\n",
      "Parameter containing:\n",
      "tensor([0.0457], requires_grad=True)\n",
      "Epoch 160, Loss: 2.7208, Val loss: 4.3708, Val R2: 0.8084\n",
      "Parameter containing:\n",
      "tensor([0.0458], requires_grad=True)\n",
      "Epoch 170, Loss: 2.7343, Val loss: 4.3711, Val R2: 0.8084\n",
      "Parameter containing:\n",
      "tensor([0.0458], requires_grad=True)\n",
      "Epoch 180, Loss: 2.7323, Val loss: 4.3695, Val R2: 0.8084\n",
      "Parameter containing:\n",
      "tensor([0.0459], requires_grad=True)\n",
      "Epoch 190, Loss: 2.7219, Val loss: 4.3685, Val R2: 0.8085\n",
      "Parameter containing:\n",
      "tensor([0.0459], requires_grad=True)\n",
      "[Parameter containing:\n",
      "tensor([0.0459], requires_grad=True)]\n",
      "(2.2379154225839577, 0.8873480870786169)\n"
     ]
    }
   ],
   "source": [
    "from sklearn.metrics import r2_score\n",
    "\n",
    "loss_fn = nn.HuberLoss(delta=100)\n",
    "optimizer = torch.optim.Adam(model.parameters(), lr=1e-2)\n",
    "scheduler = torch.optim.lr_scheduler.StepLR(optimizer, 20, gamma=0.5)\n",
    "\n",
    "\n",
    "print(list(model.parameters()))\n",
    "\n",
    "def calc_score(pred, actual):\n",
    "    return r2_score(actual, pred)\n",
    "\n",
    "def test(model, loader):\n",
    "    model.eval()\n",
    "\n",
    "    scores = []\n",
    "    total_loss = 0\n",
    "\n",
    "    with torch.no_grad():\n",
    "        for (X, y) in loader:\n",
    "            out = model(X)\n",
    "            scores.append(calc_score(out, y))\n",
    "            loss = loss_fn(out, y)\n",
    "            total_loss += loss.item()\n",
    "    \n",
    "    return total_loss / len(loader), np.mean(scores)\n",
    "\n",
    "\n",
    "        \n",
    "\n",
    "def train(model, train_loader, val_loader, loss_fn, optimizer, scheduler=None, num_epochs=200):\n",
    "    \n",
    "    losses = []\n",
    "    test_scores = []\n",
    "    \n",
    "\n",
    "    for epoch in range(num_epochs):\n",
    "        model.train()\n",
    "        total_loss = 0\n",
    "\n",
    "        for i_step, (X, y) in enumerate(train_loader):\n",
    "            optimizer.zero_grad()\n",
    "            out = model(X)\n",
    "            loss = loss_fn(out, y)\n",
    "            loss.backward()\n",
    "            optimizer.step()\n",
    "\n",
    "            total_loss += loss.item()\n",
    "\n",
    "        total_loss /= len(train_loader)\n",
    "        losses.append(total_loss)\n",
    "\n",
    "        if scheduler is not None:\n",
    "            scheduler.step()\n",
    "\n",
    "        if epoch % 10 == 0:\n",
    "            val_loss, score = test(model, val_loader)\n",
    "            test_scores.append(score)\n",
    "            print(f'Epoch {epoch}, Loss: {losses[-1]:.4f}, Val loss: {val_loss:.4f}, Val R2: {test_scores[-1]:.4f}')\n",
    "            print(model.lambda_1)\n",
    "\n",
    "train(model, train_loader, val_loader, loss_fn, optimizer, scheduler)\n",
    "print(list(model.parameters()))\n",
    "print(test(model, test_loader))"
   ]
  },
  {
   "cell_type": "code",
   "execution_count": null,
   "metadata": {
    "collapsed": false,
    "pycharm": {
     "is_executing": true,
     "name": "#%%\n"
    },
    "trusted": false
   },
   "outputs": [],
   "source": [
    "import torch\n",
    "import torch.nn as nn"
   ]
  },
  {
   "cell_type": "code",
   "execution_count": null,
   "metadata": {
    "collapsed": false,
    "pycharm": {
     "is_executing": true,
     "name": "#%%\n"
    },
    "trusted": false
   },
   "outputs": [],
   "source": [
    "np.dot(embedding[0], embedding[1])"
   ]
  },
  {
   "cell_type": "code",
   "execution_count": null,
   "metadata": {
    "collapsed": false,
    "pycharm": {
     "is_executing": true,
     "name": "#%%\n"
    },
    "trusted": false
   },
   "outputs": [],
   "source": []
  }
 ],
 "metadata": {
  "interpreter": {
   "hash": "30452e0fb0b877c71442cfddf3db9e1b032e1699292a3dd400d9a1b61508e43d"
  },
  "kernelspec": {
   "display_name": "Python 3.9.7 64-bit ('traffic': conda)",
   "language": "python",
   "name": "python3"
  },
  "language_info": {
   "codemirror_mode": {
    "name": "ipython",
    "version": 3
   },
   "file_extension": ".py",
   "mimetype": "text/x-python",
   "name": "python",
   "nbconvert_exporter": "python",
   "pygments_lexer": "ipython3",
   "version": "3.9.7"
  }
 },
 "nbformat": 4,
 "nbformat_minor": 2
}
